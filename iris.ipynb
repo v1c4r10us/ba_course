{
 "cells": [
  {
   "cell_type": "markdown",
   "id": "25906e43-7405-46dd-9d2b-04a40289e941",
   "metadata": {},
   "source": [
    "# Aprendizaje supervisado\n",
    "\n",
    "En el caso de estudio siguiente se plantea construir un modelo clasificador orientado a realizar la clasificación de la diferentes especies de flores iris. El dataset a partir del cual se efectuará el modelado es `iris.csv`"
   ]
  },
  {
   "cell_type": "code",
   "execution_count": null,
   "id": "507699c6-8502-40e8-aa1f-021b55c21636",
   "metadata": {},
   "outputs": [],
   "source": [
    "import pandas as pd\n",
    "import matplotlib.pyplot as plt\n",
    "import seaborn as sns"
   ]
  },
  {
   "cell_type": "markdown",
   "id": "91b6e329-c15f-4456-bf6d-1243e0f53134",
   "metadata": {},
   "source": [
    "#### Exploratory Data Analysis"
   ]
  },
  {
   "cell_type": "code",
   "execution_count": null,
   "id": "5dbfd4c1-3a00-49bd-8eb2-c7bf7f3578d8",
   "metadata": {},
   "outputs": [],
   "source": [
    "df=pd.read_csv('Iris.csv', sep=',')\n",
    "df.head(5)"
   ]
  },
  {
   "cell_type": "code",
   "execution_count": null,
   "id": "b6df367d-00fd-4e79-8653-93dac140b6a3",
   "metadata": {},
   "outputs": [],
   "source": [
    "#Eliminacion de columnas innecesarias\n",
    "df.drop(columns='Id', inplace=True)\n",
    "df"
   ]
  },
  {
   "cell_type": "code",
   "execution_count": null,
   "id": "e305eff2-5c09-4f25-97ec-5f8f3bfb31b4",
   "metadata": {},
   "outputs": [],
   "source": [
    "#Observamos la columna target\n",
    "df['Species'].value_counts()"
   ]
  },
  {
   "cell_type": "markdown",
   "id": "7bfeefba-efd0-44c2-8ec2-2da2e0a0fb9f",
   "metadata": {},
   "source": [
    "#### Observamos que el dataset esta distribuido de forma homogénea en tres grupos de especies: `setosa` - `versicolor` - `virgínica`. Ahora de forma gráfica analizaremos el comportamiento para las demas `features`."
   ]
  },
  {
   "cell_type": "code",
   "execution_count": null,
   "id": "77b06957-af97-4f29-8348-3fc74cefdcc2",
   "metadata": {},
   "outputs": [],
   "source": [
    "# Diagrama de dispersion para diferentes tamaños de sepalo en cada categoria\n",
    "sns.FacetGrid(df, hue = 'Species') \\\n",
    "    .map(sns.scatterplot,'SepalWidthCm', 'SepalLengthCm') \\\n",
    "    .add_legend()"
   ]
  },
  {
   "cell_type": "code",
   "execution_count": null,
   "id": "d146625c-9f28-4585-879b-f8d84b9cba09",
   "metadata": {},
   "outputs": [],
   "source": [
    "# Diagrama de dispersion para diferentes tamaños de sepalo en cada categoria\n",
    "sns.FacetGrid(df, hue = 'Species') \\\n",
    "    .map(sns.scatterplot,'PetalWidthCm', 'PetalLengthCm') \\\n",
    "    .add_legend()"
   ]
  },
  {
   "cell_type": "code",
   "execution_count": null,
   "id": "2951b506-8d01-448c-9536-7a43a2faf00c",
   "metadata": {},
   "outputs": [],
   "source": [
    "#Ahora con diagramas de cajas y bigotes\n",
    "sns.set_theme(rc={'figure.figsize':(8,4)})\n",
    "sns.boxplot(x='PetalLengthCm', y='Species', hue='Species', data=df)"
   ]
  },
  {
   "cell_type": "code",
   "execution_count": null,
   "id": "9d3c1111-b0a5-40fc-b223-39a9ad6d1cab",
   "metadata": {},
   "outputs": [],
   "source": [
    "sns.boxplot(x='PetalWidthCm', y='Species', hue='Species', data=df)"
   ]
  },
  {
   "cell_type": "code",
   "execution_count": null,
   "id": "24ad1cff-2ca4-46ed-b205-3170d938b9ba",
   "metadata": {},
   "outputs": [],
   "source": [
    "sns.boxplot(x='SepalLengthCm', y='Species', hue='Species', data=df)"
   ]
  },
  {
   "cell_type": "code",
   "execution_count": null,
   "id": "6e5d3ee5-ab23-4d3a-b054-64d720e05e58",
   "metadata": {},
   "outputs": [],
   "source": [
    "sns.boxplot(x='SepalWidthCm', y='Species', hue='Species', data=df)"
   ]
  },
  {
   "cell_type": "code",
   "execution_count": null,
   "id": "2035fbad-c2b8-4d31-881d-29c1721cce5b",
   "metadata": {},
   "outputs": [],
   "source": [
    "#Finalmente analizamos la distribución de los datos para cada feature\n",
    "df[df['Species']=='Iris-setosa'].describe()"
   ]
  },
  {
   "cell_type": "code",
   "execution_count": null,
   "id": "f5983e8d-ae09-4dcd-88ad-95c739165cf6",
   "metadata": {},
   "outputs": [],
   "source": [
    "df[df['Species']=='Iris-versicolor'].describe()"
   ]
  },
  {
   "cell_type": "code",
   "execution_count": null,
   "id": "ab1f357f-90af-4162-bba8-d5d4264c5652",
   "metadata": {},
   "outputs": [],
   "source": [
    "df[df['Species']=='Iris-virginica'].describe()"
   ]
  },
  {
   "cell_type": "code",
   "execution_count": null,
   "id": "30e7fd68-5838-4e40-b122-c94978ee5cdb",
   "metadata": {},
   "outputs": [],
   "source": [
    "sns.kdeplot(data=df, x=\"SepalLengthCm\", hue='Species')"
   ]
  },
  {
   "cell_type": "code",
   "execution_count": null,
   "id": "9745c716-d55e-4ea1-845f-70edf6d8a522",
   "metadata": {},
   "outputs": [],
   "source": [
    "sns.kdeplot(data=df, x=\"SepalWidthCm\", hue='Species')"
   ]
  },
  {
   "cell_type": "code",
   "execution_count": null,
   "id": "c643439c-c409-4f62-814c-4f2fc1da2911",
   "metadata": {},
   "outputs": [],
   "source": [
    "sns.kdeplot(data=df, x=\"PetalLengthCm\", hue='Species')"
   ]
  },
  {
   "cell_type": "code",
   "execution_count": null,
   "id": "648a98e9-e950-49dc-b982-699885d11d6b",
   "metadata": {},
   "outputs": [],
   "source": [
    "sns.kdeplot(data=df, x=\"PetalWidthCm\", hue='Species')"
   ]
  },
  {
   "cell_type": "markdown",
   "id": "acb621de-1dfa-4ef1-a50a-f152761daaec",
   "metadata": {},
   "source": [
    "#### Model"
   ]
  },
  {
   "cell_type": "code",
   "execution_count": null,
   "id": "16ea6e3d-8ab7-4173-a1a3-39c6fcda438b",
   "metadata": {},
   "outputs": [],
   "source": [
    "#Verificamos algunas caracteristas adicionales del dataset\n",
    "df.info()"
   ]
  },
  {
   "cell_type": "code",
   "execution_count": null,
   "id": "17764297-44a7-478d-a0b0-6450e5e2420b",
   "metadata": {},
   "outputs": [],
   "source": [
    "#Matriz de correlación\n",
    "sns.heatmap(df.corr(numeric_only=True), annot=True, cmap='cubehelix_r')"
   ]
  },
  {
   "cell_type": "markdown",
   "id": "7a987126-27ff-4b4e-af7c-a0b8927f0bea",
   "metadata": {},
   "source": [
    "1. `SepalLengthCm` y `SepalWidthCm` NO se encuentran correlacionadas entre sí\n",
    "2. `PetalLengthCm` y `PetalWidthCm` SI están altamente correlacionados\n",
    "3. Entrenar un modelo con muchas **features** disminuye la exactitud (`accuracy`)\n",
    "4. Es necesario elegir para el entrenamiento sólo aquellas **features** relevantes"
   ]
  },
  {
   "cell_type": "markdown",
   "id": "b2b0a7da-2e09-401c-ad2d-d4e524cc225c",
   "metadata": {},
   "source": [
    "## Entrenamos el modelo"
   ]
  },
  {
   "cell_type": "code",
   "execution_count": null,
   "id": "46a0697f-1b8c-43cc-a765-58f0ad527f7d",
   "metadata": {},
   "outputs": [],
   "source": [
    "#Debido a que solo disponemos de un único dataset, haremos un particionado para train & test\n",
    "from sklearn.model_selection import train_test_split\n",
    "train, test = train_test_split(df, test_size=0.3, shuffle=True)"
   ]
  },
  {
   "cell_type": "code",
   "execution_count": null,
   "id": "1b2229b7-7193-4431-9f54-856699d1e5e3",
   "metadata": {},
   "outputs": [],
   "source": [
    "print('{0} registros para entrenamiento'.format(train.shape[0]))\n",
    "print('{0} registros para entrenamiento'.format(test.shape[0]))"
   ]
  },
  {
   "cell_type": "code",
   "execution_count": null,
   "id": "fc9a0330-b5cd-4f90-bb80-87d9ae3ee8ec",
   "metadata": {},
   "outputs": [],
   "source": [
    "train.head(10)"
   ]
  },
  {
   "cell_type": "code",
   "execution_count": null,
   "id": "e015d2c2-62f9-4863-90a3-c89011a567c6",
   "metadata": {},
   "outputs": [],
   "source": [
    "test.head(10)"
   ]
  },
  {
   "cell_type": "code",
   "execution_count": null,
   "id": "130ecdb8-8925-4b74-a647-5d650d0e05e3",
   "metadata": {},
   "outputs": [],
   "source": [
    "#Considerando solo PetalLengthCm y PetalWidthCm para la construcción del modelo a fin de tener un accuracy óptimo\n",
    "train_x=train[['PetalLengthCm','PetalWidthCm']]\n",
    "train_y=train.Species"
   ]
  },
  {
   "cell_type": "code",
   "execution_count": null,
   "id": "2c87e3e1-4007-4f00-b9dc-87b9483d54a1",
   "metadata": {},
   "outputs": [],
   "source": [
    "test_x=test[['PetalLengthCm','PetalWidthCm']]\n",
    "test_y=test.Species"
   ]
  },
  {
   "cell_type": "markdown",
   "id": "ac067f34-c704-4b66-9f94-7702e41658dc",
   "metadata": {},
   "source": [
    "#### Algoritmos de clasificación"
   ]
  },
  {
   "cell_type": "code",
   "execution_count": null,
   "id": "cc0b2277-3b40-43a0-9a89-9d320acbe129",
   "metadata": {},
   "outputs": [],
   "source": [
    "from sklearn.linear_model import LogisticRegression # Regresion logistica\n",
    "from sklearn.neighbors import KNeighborsClassifier # K vecinos más cercanos\n",
    "from sklearn import svm # Support Vector Machine\n",
    "from sklearn.tree import DecisionTreeClassifier # Arbol de decision\n",
    "\n",
    "from sklearn import metrics # Para evaluar metricas"
   ]
  },
  {
   "cell_type": "markdown",
   "id": "ee90ac36-fb12-4e01-b4fc-764837961612",
   "metadata": {},
   "source": [
    "`Support Vector Machine (SVM)`"
   ]
  },
  {
   "cell_type": "markdown",
   "id": "6f6a2471-2568-4759-8f26-42a1b205a4f9",
   "metadata": {},
   "source": [
    "![](https://cdn.analyticsvidhya.com/wp-content/uploads/2024/08/1403824.webp)"
   ]
  },
  {
   "cell_type": "code",
   "execution_count": null,
   "id": "fc16de3e-0217-48e3-a93a-97374e1d54c5",
   "metadata": {},
   "outputs": [],
   "source": [
    "model = svm.SVC()\n",
    "model.fit(train_x, train_y)\n",
    "prediction = model.predict(test_x)\n",
    "print('The accuracy of the SVM is: ', metrics.accuracy_score(prediction, test_y))"
   ]
  },
  {
   "cell_type": "markdown",
   "id": "72129176-4799-4fcb-ba1d-9389f06883c6",
   "metadata": {},
   "source": [
    "`Logistic Regression`"
   ]
  },
  {
   "cell_type": "markdown",
   "id": "9955684c-26e3-405c-b57d-7937b6964120",
   "metadata": {},
   "source": [
    "![](https://miro.medium.com/v2/resize:fit:499/0*ENkZ5v28CDzuaoYU.png)"
   ]
  },
  {
   "cell_type": "code",
   "execution_count": null,
   "id": "4ac3fcd4-4cff-49d2-b546-c44534a161e8",
   "metadata": {},
   "outputs": [],
   "source": [
    "model = LogisticRegression()\n",
    "model.fit(train_x, train_y)\n",
    "prediction = model.predict(test_x)\n",
    "print('The accuracy of Logistic Regression is: ', metrics.accuracy_score(prediction, test_y))"
   ]
  },
  {
   "cell_type": "markdown",
   "id": "a9bec02a-dd88-400a-a67e-430f032a9cdc",
   "metadata": {},
   "source": [
    "`Decision Tree`"
   ]
  },
  {
   "cell_type": "markdown",
   "id": "ab6edc4e-ba7a-489b-839a-faf9e3275f01",
   "metadata": {},
   "source": [
    "![](https://miro.medium.com/v2/resize:fit:1400/0*EdaEBTFFLFnhOUrF.png)"
   ]
  },
  {
   "cell_type": "code",
   "execution_count": null,
   "id": "fcd48830-bcd8-48d2-8cdb-a7eb1dfc2303",
   "metadata": {},
   "outputs": [],
   "source": [
    "model = DecisionTreeClassifier()\n",
    "model.fit(train_x, train_y)\n",
    "prediction = model.predict(test_x)\n",
    "print('The accuracy of Decision Tree is: ', metrics.accuracy_score(prediction, test_y))"
   ]
  },
  {
   "cell_type": "markdown",
   "id": "7066c2c0-80e1-49ce-bf95-3223ef0c1b7e",
   "metadata": {},
   "source": [
    "`K-Nearest Neighbors`"
   ]
  },
  {
   "cell_type": "markdown",
   "id": "09f24e37-6ec4-4ac5-9f86-6049aec534d1",
   "metadata": {},
   "source": [
    "![](https://d3i71xaburhd42.cloudfront.net/8a4c6b320f8adcd91d54a8020efadc936433964c/2-Figure2-1.png)"
   ]
  },
  {
   "cell_type": "code",
   "execution_count": null,
   "id": "a4e8cd8e-d25b-4a63-bc5f-6159ed0b4c61",
   "metadata": {},
   "outputs": [],
   "source": [
    "model = KNeighborsClassifier(n_neighbors=3) \n",
    "model.fit(train_x, train_y)\n",
    "prediction = model.predict(test_x)\n",
    "print('The accuracy of KNN is: ', metrics.accuracy_score(prediction, test_y))"
   ]
  }
 ],
 "metadata": {
  "kernelspec": {
   "display_name": "Python 3 (ipykernel)",
   "language": "python",
   "name": "python3"
  },
  "language_info": {
   "codemirror_mode": {
    "name": "ipython",
    "version": 3
   },
   "file_extension": ".py",
   "mimetype": "text/x-python",
   "name": "python",
   "nbconvert_exporter": "python",
   "pygments_lexer": "ipython3",
   "version": "3.12.6"
  }
 },
 "nbformat": 4,
 "nbformat_minor": 5
}
