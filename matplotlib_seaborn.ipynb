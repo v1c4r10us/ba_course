{
 "cells": [
  {
   "cell_type": "markdown",
   "metadata": {
    "cell_id": "b03fe2ce76d34a5e871b097a26e11ff1",
    "deepnote_app_coordinates": {
     "h": 5,
     "w": 12,
     "x": 0,
     "y": null
    },
    "deepnote_cell_height": 202.796875,
    "deepnote_cell_type": "markdown",
    "tags": []
   },
   "source": [
    "# Matplotlib & Seaborn"
   ]
  },
  {
   "cell_type": "markdown",
   "metadata": {
    "cell_id": "4d8d3538f75d47f7b086c014c6fbd892",
    "deepnote_app_coordinates": {
     "h": 5,
     "w": 12,
     "x": 0,
     "y": 0
    },
    "deepnote_cell_height": 205.59375,
    "deepnote_cell_type": "markdown",
    "tags": []
   },
   "source": [
    "![](matplotlib.png)"
   ]
  },
  {
   "cell_type": "markdown",
   "metadata": {
    "cell_id": "62c364df1bdb4caf8b20b12f48e7afa3",
    "deepnote_app_coordinates": {
     "h": 5,
     "w": 12,
     "x": 0,
     "y": 0
    },
    "deepnote_cell_height": 97.1875,
    "deepnote_cell_type": "markdown",
    "tags": []
   },
   "source": [
    "Matplotlib es una biblioteca de Python para crear visualizaciones estáticas, animadas e interactivas. Existen innumerables recursos para aprender a usarlo en la web. No obstante, un buen lugar para comenzar es https://matplotlib.org/stable/index.html"
   ]
  },
  {
   "cell_type": "markdown",
   "metadata": {
    "cell_id": "563063f87d354e8db3c3344058602fd5",
    "deepnote_app_coordinates": {
     "h": 5,
     "w": 12,
     "x": 0,
     "y": 6
    },
    "deepnote_cell_height": 62,
    "deepnote_cell_type": "markdown",
    "tags": []
   },
   "source": [
    "## Pyplot"
   ]
  },
  {
   "cell_type": "code",
   "execution_count": null,
   "metadata": {
    "cell_id": "f0cd837ce68a4f0182732a982cf9f17e",
    "deepnote_app_coordinates": {
     "h": 5,
     "w": 12,
     "x": 0,
     "y": 12
    },
    "deepnote_cell_type": "code",
    "deepnote_to_be_reexecuted": false,
    "execution_millis": 1992,
    "execution_start": 1654196691041,
    "source_hash": "21e32291",
    "tags": []
   },
   "outputs": [],
   "source": [
    "import matplotlib.pyplot as plt\n",
    "import numpy as np"
   ]
  },
  {
   "cell_type": "code",
   "execution_count": null,
   "metadata": {
    "cell_id": "7d41cfa1a0174f138db334f9fd75917f",
    "deepnote_app_coordinates": {
     "h": 5,
     "w": 12,
     "x": 0,
     "y": 18
    },
    "deepnote_cell_type": "code",
    "deepnote_to_be_reexecuted": false,
    "execution_millis": 263,
    "execution_start": 1654196693042,
    "source_hash": "e451fc39",
    "tags": []
   },
   "outputs": [],
   "source": [
    "x = np.linspace(0,5,11) # Ejecuta una serie de números de manera aleatoria \n",
    "y = x**2\n",
    "print(x)\n",
    "print(y)"
   ]
  },
  {
   "cell_type": "markdown",
   "metadata": {
    "cell_id": "21dd1da59a7a42b7a3b568c0ca013969",
    "deepnote_app_coordinates": {
     "h": 5,
     "w": 12,
     "x": 0,
     "y": 30
    },
    "deepnote_cell_height": 52.390625,
    "deepnote_cell_type": "markdown",
    "tags": []
   },
   "source": [
    "### Ahora realizaremos pequeñas visualizaciones"
   ]
  },
  {
   "cell_type": "code",
   "execution_count": null,
   "metadata": {
    "cell_id": "74eee6244861451a946c33173fe9afec",
    "deepnote_app_coordinates": {
     "h": 5,
     "w": 12,
     "x": 0,
     "y": 42
    },
    "deepnote_cell_type": "code",
    "deepnote_to_be_reexecuted": false,
    "execution_millis": 283,
    "execution_start": 1654196693059,
    "source_hash": "93992483",
    "tags": []
   },
   "outputs": [],
   "source": [
    "plt.plot(x,y)\n",
    "plt.show() # para que se muestre la gráfica"
   ]
  },
  {
   "cell_type": "code",
   "execution_count": null,
   "metadata": {
    "cell_id": "248d7aded6434af8b7523ac7f8f45f66",
    "deepnote_app_coordinates": {
     "h": 5,
     "w": 12,
     "x": 0,
     "y": 48
    },
    "deepnote_cell_type": "code",
    "deepnote_to_be_reexecuted": false,
    "execution_millis": 183,
    "execution_start": 1654196693345,
    "source_hash": "55d70ae9",
    "tags": []
   },
   "outputs": [],
   "source": [
    "plt.plot(x,y,'rx') # rx significa que quiero la línea de color rojo y con marcadores x\n",
    "plt.show()"
   ]
  },
  {
   "cell_type": "code",
   "execution_count": null,
   "metadata": {
    "cell_id": "1376e0c78ff442d384d2c36eb9374aef",
    "deepnote_app_coordinates": {
     "h": 5,
     "w": 12,
     "x": 0,
     "y": 90
    },
    "deepnote_cell_type": "code",
    "deepnote_to_be_reexecuted": false,
    "execution_millis": 302,
    "execution_start": 1654196693551,
    "source_hash": "48dc9c7a",
    "tags": []
   },
   "outputs": [],
   "source": [
    "plt.plot(x,y,'bo') # bo significa que quiero la línea de color azul y con marcadores con forma de círculo\n",
    "plt.show()"
   ]
  },
  {
   "cell_type": "code",
   "execution_count": null,
   "metadata": {
    "cell_id": "7e883c829350428e914b348eb1b27c13",
    "deepnote_app_coordinates": {
     "h": 5,
     "w": 12,
     "x": 0,
     "y": 54
    },
    "deepnote_cell_type": "code",
    "deepnote_to_be_reexecuted": false,
    "execution_millis": 132,
    "execution_start": 1654196693957,
    "source_hash": "7ef7c08e",
    "tags": []
   },
   "outputs": [],
   "source": [
    "plt.plot(x,y,'rs-') # - indica que quiero una continuidad entre cada marcador\n",
    "plt.show()"
   ]
  },
  {
   "cell_type": "code",
   "execution_count": null,
   "metadata": {
    "cell_id": "bfb7fd7dc486456389eaca3fd01af765",
    "deepnote_app_coordinates": {
     "h": 5,
     "w": 12,
     "x": 0,
     "y": 60
    },
    "deepnote_cell_type": "code",
    "deepnote_to_be_reexecuted": false,
    "execution_millis": 204,
    "execution_start": 1654196694090,
    "source_hash": "a981592d",
    "tags": []
   },
   "outputs": [],
   "source": [
    "plt.plot(x,y,'yD:')\n",
    "plt.show()"
   ]
  },
  {
   "cell_type": "code",
   "execution_count": null,
   "metadata": {
    "cell_id": "68bb4549fb6845f1981f126b8fed14cc",
    "deepnote_app_coordinates": {
     "h": 5,
     "w": 12,
     "x": 0,
     "y": 66
    },
    "deepnote_cell_type": "code",
    "deepnote_to_be_reexecuted": false,
    "execution_millis": 262,
    "execution_start": 1654196694303,
    "source_hash": "1d153603",
    "tags": []
   },
   "outputs": [],
   "source": [
    "plt.hist(x)\n",
    "plt.show()"
   ]
  },
  {
   "cell_type": "code",
   "execution_count": null,
   "metadata": {
    "cell_id": "c899f9c547fb43a2a41a228178273b1a",
    "deepnote_app_coordinates": {
     "h": 5,
     "w": 12,
     "x": 0,
     "y": 72
    },
    "deepnote_cell_type": "code",
    "deepnote_to_be_reexecuted": false,
    "execution_millis": 127,
    "execution_start": 1654196694610,
    "source_hash": "ea866fef",
    "tags": []
   },
   "outputs": [],
   "source": [
    "plt.pie(x)\n",
    "plt.show()"
   ]
  },
  {
   "cell_type": "code",
   "execution_count": null,
   "metadata": {
    "cell_id": "bdfa2b14780b4524a6f0a4006179312c",
    "deepnote_app_coordinates": {
     "h": 5,
     "w": 12,
     "x": 0,
     "y": 78
    },
    "deepnote_cell_type": "code",
    "deepnote_to_be_reexecuted": false,
    "execution_millis": 199,
    "execution_start": 1654196694788,
    "source_hash": "45a43510",
    "tags": []
   },
   "outputs": [],
   "source": [
    "plt.scatter(x,y)\n",
    "plt.show()"
   ]
  },
  {
   "cell_type": "code",
   "execution_count": null,
   "metadata": {
    "cell_id": "dbc731a4626548f2a972b306ba2cc1d2",
    "deepnote_app_coordinates": {
     "h": 5,
     "w": 12,
     "x": 0,
     "y": 84
    },
    "deepnote_cell_type": "code",
    "deepnote_to_be_reexecuted": false,
    "execution_millis": 140,
    "execution_start": 1654196694983,
    "source_hash": "3c86155c",
    "tags": []
   },
   "outputs": [],
   "source": [
    "plt.boxplot(x)\n",
    "plt.show()"
   ]
  },
  {
   "cell_type": "markdown",
   "metadata": {
    "cell_id": "5d7bd08fa64646b1990159563f16e491",
    "deepnote_app_coordinates": {
     "h": 5,
     "w": 12,
     "x": 0,
     "y": 96
    },
    "deepnote_cell_type": "markdown",
    "tags": []
   },
   "source": [
    "## Subplot"
   ]
  },
  {
   "cell_type": "markdown",
   "metadata": {
    "cell_id": "a74443de74a04c3491ef13fb4842d319",
    "deepnote_app_coordinates": {
     "h": 5,
     "w": 12,
     "x": 0,
     "y": 102
    },
    "deepnote_cell_type": "markdown",
    "tags": []
   },
   "source": [
    "#### Subplot es la herramienta que nos permite tener varios gráficos en la notebook, según se requiera."
   ]
  },
  {
   "cell_type": "code",
   "execution_count": null,
   "metadata": {
    "cell_id": "7963f7fe6a794637856429e6e994c2e1",
    "deepnote_app_coordinates": {
     "h": 5,
     "w": 12,
     "x": 0,
     "y": 108
    },
    "deepnote_cell_type": "code",
    "deepnote_to_be_reexecuted": false,
    "execution_millis": 945,
    "execution_start": 1654196695131,
    "source_hash": "61bd917c",
    "tags": []
   },
   "outputs": [],
   "source": [
    "# Supongamos que quiero dos gráficos, uno que me muestre la relación entre x e y, y la otra que sea un histograma\n",
    "\n",
    "plt.subplot(1,2,1) # el primer parámetro es la cantidad de filas, el segundo es la cantidad de columnas, y el tercero es el index que voy a manejar entre las filas y columnas definidas previamente)\n",
    "plt.plot(x,y,'r--')\n",
    "plt.subplot(1,2,2)\n",
    "plt.hist(y)\n",
    "plt.show()"
   ]
  },
  {
   "cell_type": "code",
   "execution_count": null,
   "metadata": {
    "cell_id": "c66e53a3e1ff4aa7b83fa47040d974cd",
    "deepnote_cell_type": "code",
    "deepnote_to_be_reexecuted": false,
    "execution_millis": 564,
    "execution_start": 1654196695526,
    "source_hash": "52e13b09",
    "tags": []
   },
   "outputs": [],
   "source": [
    "plt.subplot(1,2,1) \n",
    "plt.plot(x,y,'r--')\n",
    "# Agrego una nueva linea de color azul en el primer gráfico\n",
    "plt.plot(y,x,'b:')\n",
    "plt.subplot(1,2,2)\n",
    "# Cambio el histograma por un gráfico de torta\n",
    "plt.pie(y)\n",
    "plt.show()"
   ]
  },
  {
   "cell_type": "code",
   "execution_count": null,
   "metadata": {
    "cell_id": "c520321798bd4b2e89a1a5646be00b85",
    "deepnote_app_coordinates": {
     "h": 5,
     "w": 12,
     "x": 0,
     "y": 0
    },
    "deepnote_cell_type": "code",
    "deepnote_to_be_reexecuted": false,
    "execution_millis": 274,
    "execution_start": 1654196696143,
    "source_hash": "43a938ba",
    "tags": []
   },
   "outputs": [],
   "source": [
    "#Realizo unos cambios para trabajar con dos filas y una columna\n",
    "plt.subplot(2,1,1) \n",
    "plt.plot(x,y,'r--')\n",
    "plt.plot(y,x,'b:')\n",
    "plt.subplot(2,1,2)\n",
    "plt.pie(y)\n",
    "plt.show()"
   ]
  },
  {
   "cell_type": "markdown",
   "metadata": {
    "cell_id": "276cffb5a6334607b9a65b5e7b1e430d",
    "deepnote_app_coordinates": {
     "h": 5,
     "w": 12,
     "x": 0,
     "y": 0
    },
    "deepnote_cell_type": "markdown",
    "tags": []
   },
   "source": [
    "## Método Orientado a Objetos"
   ]
  },
  {
   "cell_type": "markdown",
   "metadata": {
    "cell_id": "14d59e340b5844e3a4e3d5375d88591d",
    "deepnote_app_coordinates": {
     "h": 5,
     "w": 12,
     "x": 0,
     "y": 0
    },
    "deepnote_cell_type": "markdown",
    "tags": []
   },
   "source": [
    "###### Existen dos maneras de ejecutar gráficas o visualizaciones dentro de matplotlib:\n",
    " - **Pyplot**: es sencillo, fácil, rápido y no demanda mucho código. Sin embargo es difícil customizar el gráfico o señalar ciertos detalles.\n",
    "  - **Object Oriented**: es un poco más difícil de usar, necesita un poco más de código; pero la personalización que se puede lograr es mucho más amigable. También permite integrar distintos tipos de gráfico en uno solo."
   ]
  },
  {
   "cell_type": "markdown",
   "metadata": {
    "cell_id": "4761d54bc8294474bcd33d2ca44488a7",
    "deepnote_app_coordinates": {
     "h": 5,
     "w": 12,
     "x": 0,
     "y": 0
    },
    "deepnote_cell_type": "markdown",
    "tags": []
   },
   "source": [
    "#### 1. Primero creo una figura, la cual representara el lienzo en donde alojaremos nuestro gráfico o gráficos.\n",
    "#### 2. Los gráficos que voy a ilustrar en el lienzo se denominan axes.\n",
    "```python\n",
    "axes = fig.add_axes([0.1,0.1,0.5,0.9]) \n",
    "# Los dos primeros parámetros hacen establecen la posición de la figura en el lienzo. \n",
    "# Los últimos dos parámetros hacen referencia al tamaño de la figura\n",
    "```"
   ]
  },
  {
   "cell_type": "markdown",
   "metadata": {
    "cell_id": "7c9c9071f97c47d8b7c405f48fbae61e",
    "deepnote_app_coordinates": {
     "h": 5,
     "w": 12,
     "x": 0,
     "y": 0
    },
    "deepnote_cell_type": "markdown",
    "tags": []
   },
   "source": [
    "#### La ventaja del Método Orientado a Objetos es que te permitirá customizar mejor tus visualizaciones y aplicar mayor detalle a los gráficos."
   ]
  },
  {
   "cell_type": "code",
   "execution_count": null,
   "metadata": {
    "cell_id": "e981fc4431624938bf3a41156bad1737",
    "deepnote_app_coordinates": {
     "h": 5,
     "w": 12,
     "x": 0,
     "y": 0
    },
    "deepnote_cell_type": "code",
    "deepnote_to_be_reexecuted": false,
    "execution_millis": 278,
    "execution_start": 1654196696507,
    "source_hash": "49ff8b64",
    "tags": []
   },
   "outputs": [],
   "source": [
    "fig = plt.figure()\n",
    "axes = fig.add_axes([0.1,0.1,0.8,0.9])\n",
    "axes2 = fig.add_axes([0.2,0.55,0.4,0.3]) # Le indico que quiero un segundo gráfico. \n",
    "axes.plot(x, y, 'b') \n",
    "axes2.plot(y,x,'r')\n",
    "axes2.set_facecolor('#e6e6fa')"
   ]
  },
  {
   "cell_type": "markdown",
   "metadata": {
    "cell_id": "1f52e3ceb5cf4ea4b45354fbf920ee5c",
    "deepnote_app_coordinates": {
     "h": 5,
     "w": 12,
     "x": 0,
     "y": 0
    },
    "deepnote_cell_type": "markdown",
    "tags": []
   },
   "source": [
    "#### Detalles sobre colores disponibles https://matplotlib.org/stable/tutorials/colors/colors.html"
   ]
  },
  {
   "cell_type": "markdown",
   "metadata": {
    "cell_id": "bc3c2bd81df44ebf9a004f4b9a0bed81",
    "deepnote_app_coordinates": {
     "h": 5,
     "w": 12,
     "x": 0,
     "y": 0
    },
    "deepnote_cell_type": "markdown",
    "tags": []
   },
   "source": [
    "#### Cómo se menciono previamente, la mayor ventaja de utilizar el Método Orientado a Objetos es que permite personalizar la visualización.\n",
    "\n",
    "![alt text](curso_matplotlib2.GIF)"
   ]
  },
  {
   "cell_type": "markdown",
   "metadata": {
    "cell_id": "cf06eb3a89d2440a91d768fca09d880a",
    "deepnote_app_coordinates": {
     "h": 5,
     "w": 12,
     "x": 0,
     "y": 0
    },
    "deepnote_cell_type": "markdown",
    "tags": []
   },
   "source": [
    "#### Un objeto define una **figura**. Esa figura es un **lienzo** en el cual voy a meter **gráficas**. A cada una de esas gráficas voy a llamar **axes**. Estos axes, a su vez, pueden tener distintos ejes, denominados **axis**.\n",
    "![alt text](curso_matplotlib3.GIF)"
   ]
  },
  {
   "cell_type": "markdown",
   "metadata": {
    "cell_id": "d1cb9b08b5df45678ecde19b30960515",
    "deepnote_app_coordinates": {
     "h": 5,
     "w": 12,
     "x": 0,
     "y": 0
    },
    "deepnote_cell_type": "markdown",
    "tags": []
   },
   "source": [
    "## Subplots"
   ]
  },
  {
   "cell_type": "markdown",
   "metadata": {
    "cell_id": "88376198b4a6477983c523e28282951f",
    "deepnote_app_coordinates": {
     "h": 5,
     "w": 12,
     "x": 0,
     "y": 0
    },
    "deepnote_cell_type": "markdown",
    "tags": []
   },
   "source": [
    "#### La diferencia entre Subplot y Subplots, es que esta última permite trabajar múltiples gráficas en un solo lienzo y aprovecha las bondades de trabajar con el Método Orientado a Objetos de Matplotlib. "
   ]
  },
  {
   "cell_type": "code",
   "execution_count": null,
   "metadata": {
    "cell_id": "97682463798841f6b8689398a685ff3d",
    "deepnote_app_coordinates": {
     "h": 5,
     "w": 12,
     "x": 0,
     "y": 0
    },
    "deepnote_cell_type": "code",
    "deepnote_to_be_reexecuted": false,
    "execution_millis": 9,
    "execution_start": 1654196696789,
    "source_hash": "6f960c61",
    "tags": []
   },
   "outputs": [],
   "source": [
    "# Defino un array utilizando numpy\n",
    "x = np.linspace(0,5,11)\n",
    "# Aplico una función seno a x\n",
    "y = np.sin(x)"
   ]
  },
  {
   "cell_type": "code",
   "execution_count": null,
   "metadata": {
    "cell_id": "d3632131bcd44d99807b53c9aabf37c6",
    "deepnote_app_coordinates": {
     "h": 5,
     "w": 12,
     "x": 0,
     "y": 0
    },
    "deepnote_cell_type": "code",
    "deepnote_to_be_reexecuted": false,
    "execution_millis": 294,
    "execution_start": 1654196696802,
    "source_hash": "32af3fdf",
    "tags": []
   },
   "outputs": [],
   "source": [
    "# Voy a crear un lienzo con un gráfico adentro\n",
    "fig, axes = plt.subplots()\n",
    "axes.plot(x,y,'b')"
   ]
  },
  {
   "cell_type": "code",
   "execution_count": null,
   "metadata": {
    "cell_id": "2876140ac4a345f0953063ec34452bca",
    "deepnote_app_coordinates": {
     "h": 5,
     "w": 12,
     "x": 0,
     "y": 0
    },
    "deepnote_cell_type": "code",
    "deepnote_to_be_reexecuted": false,
    "execution_millis": 312,
    "execution_start": 1654196697102,
    "source_hash": "cb69e0f",
    "tags": []
   },
   "outputs": [],
   "source": [
    "# Realizaremos algunos pequeños cambios al gráfico\n",
    "fig, axes = plt.subplots(nrows = 1, ncols = 2)"
   ]
  },
  {
   "cell_type": "code",
   "execution_count": null,
   "metadata": {
    "cell_id": "eabbde9fa5a04ba4add78acb6dbb7c05",
    "deepnote_app_coordinates": {
     "h": 5,
     "w": 12,
     "x": 0,
     "y": 0
    },
    "deepnote_cell_type": "code",
    "deepnote_to_be_reexecuted": false,
    "execution_millis": 396,
    "execution_start": 1654196697462,
    "source_hash": "335b4dbc",
    "tags": []
   },
   "outputs": [],
   "source": [
    "fig, axes = plt.subplots(nrows = 1, ncols = 2)\n",
    "# Ahora realizo cambios en cada uno de los gráficos\n",
    "# De esta manera puedo definir objetos independientes y acceder a ellos mediante un índice\n",
    "axes[0].plot(x,y,'b')\n",
    "axes[1].plot(y,x,'r')"
   ]
  },
  {
   "cell_type": "code",
   "execution_count": null,
   "metadata": {
    "cell_id": "c36e5f125e0940caa204d1fb5ae01171",
    "deepnote_app_coordinates": {
     "h": 5,
     "w": 12,
     "x": 0,
     "y": 0
    },
    "deepnote_cell_type": "code",
    "deepnote_to_be_reexecuted": false,
    "execution_millis": 925,
    "execution_start": 1654196697860,
    "source_hash": "41130f7c",
    "tags": []
   },
   "outputs": [],
   "source": [
    "# Otra manera de hacerlo\n",
    "fig, (ax1, ax2) = plt.subplots(nrows = 1, ncols = 2)\n",
    "ax1.plot(x,y,'b')\n",
    "ax2.plot(y,x,'r')"
   ]
  },
  {
   "cell_type": "code",
   "execution_count": null,
   "metadata": {
    "cell_id": "6990d1ba277c4c068d98098dc6de3a2d",
    "deepnote_app_coordinates": {
     "h": 5,
     "w": 12,
     "x": 0,
     "y": 0
    },
    "deepnote_cell_type": "code",
    "deepnote_to_be_reexecuted": false,
    "execution_millis": 812,
    "execution_start": 1654196698409,
    "source_hash": "45dfae8",
    "tags": []
   },
   "outputs": [],
   "source": [
    "# Seguimos explorando el nivel de detalle\n",
    "fig, axes = plt.subplots(nrows = 2, ncols = 4)"
   ]
  },
  {
   "cell_type": "code",
   "execution_count": null,
   "metadata": {
    "cell_id": "88d8bcd331c84322a33a44b8a97572b4",
    "deepnote_app_coordinates": {
     "h": 5,
     "w": 12,
     "x": 0,
     "y": 0
    },
    "deepnote_cell_type": "code",
    "deepnote_to_be_reexecuted": false,
    "execution_millis": 890,
    "execution_start": 1654196699226,
    "source_hash": "b56a6e61",
    "tags": []
   },
   "outputs": [],
   "source": [
    "fig, axes = plt.subplots(nrows = 2, ncols = 4)\n",
    "axes[0,0].plot(x,np.cos(x)) # De esta manera indicamos que queremos el plot para el primer axe\n",
    "# del mismo modo podemos agregar plot en el resto de los axes\n",
    "axes[0,1].plot(x,np.sin(x),'y')\n",
    "axes[0,2].plot(x,np.tan(x),'r')\n",
    "axes[0,3].plot(x,np.cos(x)**2)"
   ]
  },
  {
   "cell_type": "code",
   "execution_count": null,
   "metadata": {
    "cell_id": "2d7114b094c1402fbc58fe7628d354a6",
    "deepnote_app_coordinates": {
     "h": 5,
     "w": 12,
     "x": 0,
     "y": 0
    },
    "deepnote_cell_type": "code",
    "deepnote_to_be_reexecuted": false,
    "execution_millis": 1143,
    "execution_start": 1654196700118,
    "source_hash": "f6fe5340",
    "tags": []
   },
   "outputs": [],
   "source": [
    "# Otra manera de hacerlo\n",
    "fig, ((ax1,ax2,ax3,ax4),(ax5,ax6,ax7,ax8)) = plt.subplots(nrows = 2, ncols = 4)\n",
    "ax1.plot(x,np.cos(x)) \n",
    "ax2.plot(x,np.sin(x),'y')\n",
    "ax3.plot(x,np.tan(x),'r')\n",
    "ax4.plot(x,np.cos(x)**2)"
   ]
  },
  {
   "cell_type": "code",
   "execution_count": null,
   "metadata": {
    "cell_id": "ad07dd35d5f943ce9f0c7e845ac737ea",
    "deepnote_app_coordinates": {
     "h": 5,
     "w": 12,
     "x": 0,
     "y": 0
    },
    "deepnote_cell_type": "code",
    "deepnote_to_be_reexecuted": false,
    "execution_millis": 1276,
    "execution_start": 1654196701042,
    "source_hash": "75f72425",
    "tags": []
   },
   "outputs": [],
   "source": [
    "# Aplico tight_layout para que la visualización se vea mejor\n",
    "fig, ((ax1,ax2,ax3,ax4),(ax5,ax6,ax7,ax8)) = plt.subplots(nrows = 2, ncols = 4)\n",
    "ax1.plot(x,np.cos(x)) \n",
    "ax2.plot(x,np.sin(x),'y')\n",
    "ax3.plot(x,np.tan(x),'r')\n",
    "ax4.plot(x,np.cos(x)**2)\n",
    "fig.tight_layout()"
   ]
  },
  {
   "cell_type": "code",
   "execution_count": null,
   "metadata": {
    "cell_id": "7a23497886e64f0c80f62c7b678cd79d",
    "deepnote_app_coordinates": {
     "h": 5,
     "w": 12,
     "x": 0,
     "y": 0
    },
    "deepnote_cell_type": "code",
    "deepnote_to_be_reexecuted": false,
    "execution_millis": 1022,
    "execution_start": 1654196702379,
    "is_code_hidden": false,
    "source_hash": "ee9eb5a8",
    "tags": []
   },
   "outputs": [],
   "source": [
    "# Ahora voy a graficar los plots en los axes de abajo\n",
    "fig, ((ax1,ax2,ax3,ax4),(ax5,ax6,ax7,ax8)) = plt.subplots(nrows = 2, ncols = 4)\n",
    "ax1.plot(x,np.cos(x)) \n",
    "ax2.plot(x,np.sin(x),'y')\n",
    "ax3.plot(x,np.tan(x),'r')\n",
    "ax4.plot(x,np.cos(x)**2)\n",
    "ax5.plot(x,np.cos(x),'bs') \n",
    "ax6.plot(x,np.tan(x-1/x),'g--')\n",
    "ax7.plot(x,np.tan(x),'r:')\n",
    "ax8.plot(x,np.sin(y*x)**2,'purple')\n",
    "fig.tight_layout()"
   ]
  },
  {
   "cell_type": "markdown",
   "metadata": {
    "cell_id": "b528c9652e87441b9e92f681c89eb889",
    "deepnote_app_coordinates": {
     "h": 5,
     "w": 12,
     "x": 0,
     "y": 0
    },
    "deepnote_cell_height": 62,
    "deepnote_cell_type": "markdown",
    "tags": []
   },
   "source": [
    "## Leyendas, etiquetas, títulos, tamaño"
   ]
  },
  {
   "cell_type": "code",
   "execution_count": null,
   "metadata": {
    "cell_id": "98c5b8d35d584587bae67143871bfad1",
    "deepnote_app_coordinates": {
     "h": 5,
     "w": 12,
     "x": 0,
     "y": 0
    },
    "deepnote_cell_type": "code",
    "deepnote_to_be_reexecuted": false,
    "execution_millis": 3,
    "execution_start": 1654196703404,
    "source_hash": "51427677",
    "tags": []
   },
   "outputs": [],
   "source": [
    "x = np.linspace(0,5,11)\n",
    "y = np.sin(x)"
   ]
  },
  {
   "cell_type": "code",
   "execution_count": null,
   "metadata": {
    "cell_id": "91eb2e70123c4f4eae17007fbc51143f",
    "deepnote_app_coordinates": {
     "h": 5,
     "w": 12,
     "x": 0,
     "y": 0
    },
    "deepnote_cell_type": "code",
    "deepnote_to_be_reexecuted": false,
    "execution_millis": 958,
    "execution_start": 1654196703458,
    "source_hash": "c6fe6dcb",
    "tags": []
   },
   "outputs": [],
   "source": [
    "fig, axes = plt.subplots(1,2)\n",
    "\n",
    "axes[0].plot(x,y,label = '$sin(x)$') # Agrego un label\n",
    "# Agrego un título\n",
    "axes[0].set_title('Relación X - Y')\n",
    "# Agrego labels en los ejes X e Y\n",
    "axes[0].set_xlabel('X')\n",
    "axes[0].set_ylabel('Y')\n",
    "axes[0].legend() # para agregar el label\n",
    "\n",
    "axes[1].plot(y,x)\n",
    "# Agrego un título\n",
    "axes[1].set_title('Relación Y - X')\n",
    "# Agrego labels en los ejes X e Y\n",
    "axes[1].set_xlabel('Y')\n",
    "axes[1].set_ylabel('X')\n",
    "\n",
    "fig.tight_layout() # Siempre al aplicar tight_layout() el grafico se vera mucho mejor"
   ]
  },
  {
   "cell_type": "code",
   "execution_count": null,
   "metadata": {
    "cell_id": "cbac09e4ad844de29c5664cec065a86a",
    "deepnote_app_coordinates": {
     "h": 5,
     "w": 12,
     "x": 0,
     "y": 0
    },
    "deepnote_cell_type": "code",
    "deepnote_to_be_reexecuted": false,
    "execution_millis": 377,
    "execution_start": 1654196704212,
    "source_hash": "6dcbb5e3",
    "tags": []
   },
   "outputs": [],
   "source": [
    "plt.plot(x,y,label='$sin(x)$')\n",
    "plt.title('Este es un título')\n",
    "plt.xlabel('x')\n",
    "plt.ylabel('y')\n",
    "plt.legend(loc='upper right')"
   ]
  },
  {
   "cell_type": "markdown",
   "metadata": {
    "cell_id": "7780bb24e45840e7ab33b11101e39369",
    "deepnote_app_coordinates": {
     "h": 5,
     "w": 12,
     "x": 0,
     "y": 0
    },
    "deepnote_cell_type": "markdown",
    "deepnote_to_be_reexecuted": false,
    "execution_millis": 1,
    "execution_start": 1653821824873,
    "source_hash": "db0978fb",
    "tags": []
   },
   "source": [
    "## Colores y Estilos"
   ]
  },
  {
   "cell_type": "markdown",
   "metadata": {
    "cell_id": "66858f0c5c084542acd3868082129a36",
    "deepnote_app_coordinates": {
     "h": 5,
     "w": 12,
     "x": 0,
     "y": 0
    },
    "deepnote_cell_height": 74.796875,
    "deepnote_cell_type": "markdown",
    "tags": []
   },
   "source": [
    "#### + Primero revisare todos los estilos predefinidos disponibles para trabajar. \n",
    "#### + Esto me permitirá personalizar el estilo de mis gráficos según mi preferencia."
   ]
  },
  {
   "cell_type": "code",
   "execution_count": null,
   "metadata": {
    "cell_id": "4ed011dbb0b7430db9bac7c0bd2adedb",
    "deepnote_app_coordinates": {
     "h": 5,
     "w": 12,
     "x": 0,
     "y": 0
    },
    "deepnote_cell_type": "code",
    "deepnote_to_be_reexecuted": false,
    "execution_millis": 4,
    "execution_start": 1654196704606,
    "source_hash": "3a7ca95",
    "tags": []
   },
   "outputs": [],
   "source": [
    "from matplotlib import style \n",
    "print(plt.style.available)"
   ]
  },
  {
   "cell_type": "markdown",
   "metadata": {
    "cell_id": "7bee644d108a40e5876a4b625c77cc02",
    "deepnote_app_coordinates": {
     "h": 5,
     "w": 12,
     "x": 0,
     "y": 0
    },
    "deepnote_cell_height": 52.390625,
    "deepnote_cell_type": "markdown",
    "tags": []
   },
   "source": [
    "#### Defino con que estilo deseo trabajar"
   ]
  },
  {
   "cell_type": "code",
   "execution_count": null,
   "metadata": {
    "cell_id": "65e3458884cd422db47da6edebfd3189",
    "deepnote_app_coordinates": {
     "h": 5,
     "w": 12,
     "x": 0,
     "y": 0
    },
    "deepnote_cell_type": "code",
    "deepnote_to_be_reexecuted": false,
    "execution_millis": 19536036,
    "execution_start": 1654196704614,
    "source_hash": "d52a652e",
    "tags": []
   },
   "outputs": [],
   "source": [
    "plt.style.use('ggplot')\n",
    "# Con esta simple linea de codigo puedo cambiar el estilo de mis gráficas al que yo prefiera."
   ]
  },
  {
   "cell_type": "markdown",
   "metadata": {
    "cell_id": "8ab0cb0e9a1a40b2980af69675299129",
    "deepnote_app_coordinates": {
     "h": 5,
     "w": 12,
     "x": 0,
     "y": 0
    },
    "deepnote_cell_height": 52.390625,
    "deepnote_cell_type": "markdown",
    "tags": []
   },
   "source": [
    "#### Tambien puedo hacer modificaciones y agregar detalles a mi grafico siguiendo lineamientos de Matlab"
   ]
  },
  {
   "cell_type": "code",
   "execution_count": null,
   "metadata": {
    "cell_id": "2a83ab0d8eac487bb247524983606254",
    "deepnote_app_coordinates": {
     "h": 5,
     "w": 12,
     "x": 0,
     "y": 0
    },
    "deepnote_cell_type": "code",
    "deepnote_to_be_reexecuted": false,
    "execution_millis": 280,
    "execution_start": 1654196704662,
    "source_hash": "d3fc8ca5",
    "tags": []
   },
   "outputs": [],
   "source": [
    "fig, ax = plt.subplots(figsize=(8,8))\n",
    "ax.plot(x,x+1,'r')\n",
    "ax.plot(x,x+2,'b')\n",
    "ax.plot(x,x+3,'y')\n",
    "ax.plot(x,x+4,'g')"
   ]
  },
  {
   "cell_type": "markdown",
   "metadata": {
    "cell_id": "0eb0fe60e4cd47d89af656eeb1763922",
    "deepnote_app_coordinates": {
     "h": 5,
     "w": 12,
     "x": 0,
     "y": 0
    },
    "deepnote_cell_type": "markdown",
    "deepnote_to_be_reexecuted": false,
    "execution_millis": 2,
    "execution_start": 1653856642384,
    "source_hash": "b623e53d",
    "tags": []
   },
   "source": [
    "#### Puedo customizar las lineas"
   ]
  },
  {
   "cell_type": "code",
   "execution_count": null,
   "metadata": {
    "cell_id": "9ea8f77789f74e0b9c7fc0e40cbe7eb5",
    "deepnote_app_coordinates": {
     "h": 5,
     "w": 12,
     "x": 0,
     "y": 0
    },
    "deepnote_cell_type": "code",
    "deepnote_to_be_reexecuted": false,
    "execution_millis": 289,
    "execution_start": 1654196704956,
    "source_hash": "1efbfafd",
    "tags": []
   },
   "outputs": [],
   "source": [
    "fig, ax = plt.subplots(figsize=(8,8))\n",
    "ax.plot(x,x+1,'r--')\n",
    "ax.plot(x,x+2,'b-')\n",
    "ax.plot(x,x+3,'y.-')\n",
    "ax.plot(x,x+4,'go:')"
   ]
  },
  {
   "cell_type": "markdown",
   "metadata": {
    "cell_id": "dc513843e81d4d4f8de9560126ea0652",
    "deepnote_app_coordinates": {
     "h": 5,
     "w": 12,
     "x": 0,
     "y": 0
    },
    "deepnote_cell_type": "markdown",
    "tags": []
   },
   "source": [
    "#### Ahora hago lo mismo utilizando Pyplot\n",
    "#### Con alpha regulo la transparencia, con linewidth el ancho de la linea.\n",
    "#### Tambien puedo configurar el tipo de marker, su tamaño ('markersize') y su color ('markerfacecolor')\n",
    "Recursos y detalles sobre colores -> https://matplotlib.org/3.5.1/tutorials/colors/colors.html"
   ]
  },
  {
   "cell_type": "code",
   "execution_count": null,
   "metadata": {
    "cell_id": "f51a94527e47434bb3e31dbee4e215bb",
    "deepnote_app_coordinates": {
     "h": 5,
     "w": 12,
     "x": 0,
     "y": 0
    },
    "deepnote_cell_type": "code",
    "deepnote_to_be_reexecuted": false,
    "execution_millis": 201,
    "execution_start": 1654196705271,
    "source_hash": "58696a6c",
    "tags": []
   },
   "outputs": [],
   "source": [
    "fig, ax = plt.subplots(figsize=(8,8))\n",
    "ax.plot(x,x+1, color = 'green', alpha = 0.8, linewidth = 5, linestyle = '-',marker='o', markersize = 10, markerfacecolor = '#CCFFCC') \n",
    "ax.plot(x,x+2, color = 'blue', linewidth = 8, linestyle = '--',marker='x')\n",
    "ax.plot(x,x+3, color = '#66FF66', linewidth = 3, linestyle = 'dashed',marker='v')\n",
    "ax.plot(x,x+4, color = '#CCFFCC', linewidth = 2, linestyle = ':',marker='p')"
   ]
  },
  {
   "cell_type": "markdown",
   "metadata": {
    "cell_id": "20cced39f1994982b1ef52c54e2cd342",
    "deepnote_app_coordinates": {
     "h": 5,
     "w": 12,
     "x": 0,
     "y": 0
    },
    "deepnote_cell_height": 62,
    "deepnote_cell_type": "markdown",
    "tags": []
   },
   "source": [
    "## Bar plot"
   ]
  },
  {
   "cell_type": "markdown",
   "metadata": {
    "cell_id": "a152f4b7cf184305bc226540682fff65",
    "deepnote_app_coordinates": {
     "h": 5,
     "w": 12,
     "x": 0,
     "y": 0
    },
    "deepnote_cell_height": 74.796875,
    "deepnote_cell_type": "markdown",
    "tags": []
   },
   "source": [
    "#### Las graficas de barras nos permite graficar variables categóricas, y Matplotlib ofrece ciertas características que nos facilitan la vida al momento de graficarlas. "
   ]
  },
  {
   "cell_type": "code",
   "execution_count": null,
   "metadata": {
    "cell_id": "98a52d730afc4dc1a77fef436febdadd",
    "deepnote_app_coordinates": {
     "h": 5,
     "w": 12,
     "x": 0,
     "y": 0
    },
    "deepnote_cell_type": "code",
    "deepnote_to_be_reexecuted": false,
    "execution_millis": 5,
    "execution_start": 1654196705471,
    "source_hash": "5e0f0a92",
    "tags": []
   },
   "outputs": [],
   "source": [
    "country = ['INDIA', 'JAPAN', 'MEXICO', 'COLOMBIA', 'GERMANY']\n",
    "population = [1000,800,900,1000,300]"
   ]
  },
  {
   "cell_type": "markdown",
   "metadata": {
    "cell_id": "813a5db2b37e4a2b9df6c2adc81eecba",
    "deepnote_app_coordinates": {
     "h": 5,
     "w": 12,
     "x": 0,
     "y": 0
    },
    "deepnote_cell_height": 52.390625,
    "deepnote_cell_type": "markdown",
    "tags": []
   },
   "source": [
    "#### Ahora utilizaremos la variable country, que es una variable categórica, para realizar el Bar Plot"
   ]
  },
  {
   "cell_type": "code",
   "execution_count": null,
   "metadata": {
    "cell_id": "1c35c7b0f22b4ba0acbbeb353581a0a1",
    "deepnote_app_coordinates": {
     "h": 5,
     "w": 12,
     "x": 0,
     "y": 0
    },
    "deepnote_cell_type": "code",
    "deepnote_to_be_reexecuted": false,
    "execution_millis": 183,
    "execution_start": 1654196705483,
    "source_hash": "da90c1af",
    "tags": []
   },
   "outputs": [],
   "source": [
    "plt.bar(country,population, width = 0.5, color = ['purple', 'red', 'green', 'blue', 'yellow'], edgecolor = 'grey')\n",
    "# Para cambiar el idioma de las categorías del eje x y agrego que los nombres roten en 45grados.\n",
    "plt.xticks(np.arange(5),('India', 'Japón', 'Mexico', 'Colombia', 'Alemania'), rotation = 45)\n",
    "plt.xlabel(\"Países\")\n",
    "plt.ylabel(\"Población\")\n",
    "plt.title(\"Cantidad de habitantes por país\")\n",
    "plt.show()"
   ]
  },
  {
   "cell_type": "markdown",
   "metadata": {
    "cell_id": "f45a187013c94b24b993ddf3530e45af",
    "deepnote_app_coordinates": {
     "h": 5,
     "w": 12,
     "x": 0,
     "y": 0
    },
    "deepnote_cell_type": "markdown",
    "tags": []
   },
   "source": [
    "#### Para hacer las barras horizontales debemos utilizar plt.barh"
   ]
  },
  {
   "cell_type": "code",
   "execution_count": null,
   "metadata": {
    "cell_id": "fa8aafe9f1e848b1911ce18805293773",
    "deepnote_app_coordinates": {
     "h": 5,
     "w": 12,
     "x": 0,
     "y": 0
    },
    "deepnote_cell_type": "code",
    "deepnote_to_be_reexecuted": false,
    "execution_millis": 166,
    "execution_start": 1654196705796,
    "source_hash": "d7e46cfa",
    "tags": []
   },
   "outputs": [],
   "source": [
    "plt.barh(country,population, color = ['purple', 'red', 'green', 'blue', 'yellow'], edgecolor = 'grey')\n",
    "plt.show()"
   ]
  },
  {
   "cell_type": "markdown",
   "metadata": {
    "cell_id": "ebd90442e1b0438696e0042c9b22ae43",
    "deepnote_app_coordinates": {
     "h": 5,
     "w": 12,
     "x": 0,
     "y": 0
    },
    "deepnote_cell_type": "markdown",
    "tags": []
   },
   "source": [
    "## Crear otro tipo de gráficas (Histograma, Boxplot, Scatter)"
   ]
  },
  {
   "cell_type": "markdown",
   "metadata": {
    "cell_id": "aa838a6000544c31a5dd8ef251810278",
    "deepnote_app_coordinates": {
     "h": 5,
     "w": 12,
     "x": 0,
     "y": 0
    },
    "deepnote_cell_type": "markdown",
    "tags": []
   },
   "source": [
    "#### Ahora practicaremos con otros tipos de gráficos disponibles en Matplotlib"
   ]
  },
  {
   "cell_type": "code",
   "execution_count": null,
   "metadata": {
    "cell_id": "0d4fd1f828834801a75fd1463d079d1e",
    "deepnote_app_coordinates": {
     "h": 5,
     "w": 12,
     "x": 0,
     "y": 0
    },
    "deepnote_cell_type": "code",
    "deepnote_to_be_reexecuted": false,
    "execution_millis": 53,
    "execution_start": 1654196705961,
    "source_hash": "d55c1ec4",
    "tags": []
   },
   "outputs": [],
   "source": [
    "# Para practicar me creo un dataset random con la función random de numpy.\n",
    "data = np.random.randint(1,50,100)\n",
    "data"
   ]
  },
  {
   "cell_type": "markdown",
   "metadata": {
    "cell_id": "74dbab0c24ac49c284da490307e562d3",
    "deepnote_app_coordinates": {
     "h": 5,
     "w": 12,
     "x": 0,
     "y": 0
    },
    "deepnote_cell_type": "markdown",
    "tags": []
   },
   "source": [
    "#### Histograma"
   ]
  },
  {
   "cell_type": "code",
   "execution_count": null,
   "metadata": {
    "cell_id": "7c7f99e32cb7449c92f045a33d43148f",
    "deepnote_app_coordinates": {
     "h": 5,
     "w": 12,
     "x": 0,
     "y": 0
    },
    "deepnote_cell_type": "code",
    "deepnote_to_be_reexecuted": false,
    "execution_millis": 218,
    "execution_start": 1654196706010,
    "source_hash": "a37e1b5d",
    "tags": []
   },
   "outputs": [],
   "source": [
    "plt.hist(data)\n",
    "plt.show()"
   ]
  },
  {
   "cell_type": "code",
   "execution_count": null,
   "metadata": {
    "cell_id": "6381e7f16fef4e71ba2883d63c606bf1",
    "deepnote_app_coordinates": {
     "h": 5,
     "w": 12,
     "x": 0,
     "y": 0
    },
    "deepnote_cell_type": "code",
    "deepnote_to_be_reexecuted": false,
    "execution_millis": 825,
    "execution_start": 1654196706227,
    "source_hash": "1afa4b80",
    "tags": []
   },
   "outputs": [],
   "source": [
    "plt.hist(data, bins = 50) # Modifico los bins\n",
    "plt.show()"
   ]
  },
  {
   "cell_type": "code",
   "execution_count": null,
   "metadata": {
    "cell_id": "5e3e096fd1d547c492cb031bf64104ea",
    "deepnote_app_coordinates": {
     "h": 5,
     "w": 12,
     "x": 0,
     "y": 0
    },
    "deepnote_cell_type": "code",
    "deepnote_to_be_reexecuted": false,
    "execution_millis": 570,
    "execution_start": 1654196706489,
    "source_hash": "4eab7746",
    "tags": []
   },
   "outputs": [],
   "source": [
    "plt.hist(data, bins = 50, width = 10) # si deseo cambiar el ancho de las barras de frecuencia\n",
    "plt.show()"
   ]
  },
  {
   "cell_type": "code",
   "execution_count": null,
   "metadata": {
    "cell_id": "66efac05260b4711bae54d7079861680",
    "deepnote_app_coordinates": {
     "h": 5,
     "w": 12,
     "x": 0,
     "y": 0
    },
    "deepnote_cell_type": "code",
    "deepnote_to_be_reexecuted": false,
    "execution_millis": 304,
    "execution_start": 1654196706762,
    "source_hash": "c9d03f8e",
    "tags": []
   },
   "outputs": [],
   "source": [
    "plt.hist(data, bins = 10, histtype = 'step')\n",
    "plt.show()"
   ]
  },
  {
   "cell_type": "markdown",
   "metadata": {
    "cell_id": "82e4527c1d3740eaa4d79c256b0c9078",
    "deepnote_app_coordinates": {
     "h": 5,
     "w": 12,
     "x": 0,
     "y": 0
    },
    "deepnote_cell_height": 54,
    "deepnote_cell_type": "markdown",
    "tags": []
   },
   "source": [
    "## Boxplot"
   ]
  },
  {
   "cell_type": "markdown",
   "metadata": {
    "cell_id": "3f91fa9c5cfa43b384940b717bc7b72c",
    "deepnote_app_coordinates": {
     "h": 5,
     "w": 12,
     "x": 0,
     "y": 0
    },
    "deepnote_cell_height": 52.390625,
    "deepnote_cell_type": "markdown",
    "tags": []
   },
   "source": [
    "#### Tambien conocido como grafico de cajas y bigotes"
   ]
  },
  {
   "cell_type": "code",
   "execution_count": null,
   "metadata": {
    "cell_id": "71fd27d703174d4f9a870816e95f9f10",
    "deepnote_app_coordinates": {
     "h": 5,
     "w": 12,
     "x": 0,
     "y": 0
    },
    "deepnote_cell_type": "code",
    "deepnote_to_be_reexecuted": false,
    "execution_millis": 151,
    "execution_start": 1654196706945,
    "source_hash": "19eea984",
    "tags": []
   },
   "outputs": [],
   "source": [
    "plt.style.use('classic') # Voy a cambiar el estilo para usar uno clásico\n",
    "plt.boxplot(data)\n",
    "plt.show"
   ]
  },
  {
   "cell_type": "markdown",
   "metadata": {
    "cell_id": "f482c2cf3b9d4935aa8eb36324b4745b",
    "deepnote_app_coordinates": {
     "h": 5,
     "w": 12,
     "x": 0,
     "y": 0
    },
    "deepnote_cell_type": "markdown",
    "tags": []
   },
   "source": [
    "#### De esta manera obtengo mi boxplot que me entrega mi rango interquartílico, con el detalle a 25%, 50%, 75%"
   ]
  },
  {
   "cell_type": "code",
   "execution_count": null,
   "metadata": {
    "cell_id": "90beb5a865864fc481093592f80996c0",
    "deepnote_app_coordinates": {
     "h": 5,
     "w": 12,
     "x": 0,
     "y": 0
    },
    "deepnote_cell_type": "code",
    "deepnote_to_be_reexecuted": false,
    "execution_millis": 234,
    "execution_start": 1654196707065,
    "source_hash": "6b27d933",
    "tags": []
   },
   "outputs": [],
   "source": [
    "plt.boxplot(data, vert = False) # con esta propiedad lo hago horizontal\n",
    "plt.show"
   ]
  },
  {
   "cell_type": "code",
   "execution_count": null,
   "metadata": {
    "allow_embed": true,
    "cell_id": "2dbdf529c4fd47158658754c9fb95a4e",
    "deepnote_app_coordinates": {
     "h": 5,
     "w": 12,
     "x": 0,
     "y": 0
    },
    "deepnote_cell_type": "code",
    "deepnote_to_be_reexecuted": false,
    "execution_millis": 164,
    "execution_start": 1654196707299,
    "source_hash": "9b4904f1",
    "tags": []
   },
   "outputs": [],
   "source": [
    "plt.boxplot(data, vert = False)\n",
    "plt.show"
   ]
  },
  {
   "cell_type": "code",
   "execution_count": null,
   "metadata": {
    "cell_id": "de361c1dd9954727ad43928992b932cf",
    "deepnote_app_coordinates": {
     "h": 5,
     "w": 12,
     "x": 0,
     "y": 0
    },
    "deepnote_cell_type": "code",
    "deepnote_to_be_reexecuted": false,
    "execution_millis": 98,
    "execution_start": 1654196707461,
    "source_hash": "afcf303b",
    "tags": []
   },
   "outputs": [],
   "source": [
    "plt.boxplot(data, vert = False, notch = True)\n",
    "plt.show"
   ]
  },
  {
   "cell_type": "code",
   "execution_count": null,
   "metadata": {
    "cell_id": "d8499eb348c84b52bdfd6bfaec5cfa39",
    "deepnote_app_coordinates": {
     "h": 5,
     "w": 12,
     "x": 0,
     "y": 0
    },
    "deepnote_cell_type": "code",
    "deepnote_to_be_reexecuted": false,
    "execution_millis": 11,
    "execution_start": 1654196707560,
    "source_hash": "75c2ba5b",
    "tags": []
   },
   "outputs": [],
   "source": [
    "plt.style.use('Solarize_Light2')"
   ]
  },
  {
   "cell_type": "code",
   "execution_count": null,
   "metadata": {
    "cell_id": "2b887e5d96774888aa634020dcaa0e25",
    "deepnote_app_coordinates": {
     "h": 5,
     "w": 12,
     "x": 0,
     "y": 0
    },
    "deepnote_cell_type": "code",
    "deepnote_to_be_reexecuted": false,
    "execution_millis": 155,
    "execution_start": 1654196707577,
    "source_hash": "241f331f",
    "tags": []
   },
   "outputs": [],
   "source": [
    "data1 = np.append(data,200) # Agrego un outlier al dataset\n",
    "plt.boxplot(data1, vert = False, patch_artist=True, notch = True, showfliers=True)\n",
    "plt.show"
   ]
  },
  {
   "cell_type": "code",
   "execution_count": null,
   "metadata": {
    "cell_id": "dd53c79b6a134bca962e79e8778cec3a",
    "deepnote_app_coordinates": {
     "h": 5,
     "w": 12,
     "x": 0,
     "y": 0
    },
    "deepnote_cell_type": "code",
    "deepnote_to_be_reexecuted": false,
    "execution_millis": 172,
    "execution_start": 1654196707750,
    "source_hash": "19ad32ee",
    "tags": []
   },
   "outputs": [],
   "source": [
    "plt.boxplot(data1, vert = False, notch = True, showfliers=False) # para que no muestre el outlier\n",
    "plt.show"
   ]
  },
  {
   "cell_type": "markdown",
   "metadata": {
    "cell_id": "c718a86b343a4dc88c936f7c7a119f3f",
    "deepnote_app_coordinates": {
     "h": 5,
     "w": 12,
     "x": 0,
     "y": 0
    },
    "deepnote_cell_type": "markdown",
    "tags": []
   },
   "source": [
    "## Scatter"
   ]
  },
  {
   "cell_type": "code",
   "execution_count": null,
   "metadata": {
    "cell_id": "13bd9ac122ee46afae5aadda33204664",
    "deepnote_app_coordinates": {
     "h": 5,
     "w": 12,
     "x": 0,
     "y": 0
    },
    "deepnote_cell_type": "code",
    "deepnote_to_be_reexecuted": false,
    "execution_millis": 6,
    "execution_start": 1654196707929,
    "source_hash": "1625becd",
    "tags": []
   },
   "outputs": [],
   "source": [
    "N = 50\n",
    "x = np.random.rand(N)\n",
    "y = np.random.rand(N)\n",
    "area = (30 * np.random.rand(N)) **2\n",
    "colors = np.random.rand(N)"
   ]
  },
  {
   "cell_type": "code",
   "execution_count": null,
   "metadata": {
    "cell_id": "aae279f6de2c4016afcaa688c7538ee0",
    "deepnote_app_coordinates": {
     "h": 5,
     "w": 12,
     "x": 0,
     "y": 0
    },
    "deepnote_cell_type": "code",
    "deepnote_to_be_reexecuted": false,
    "execution_millis": 247,
    "execution_start": 1654196707942,
    "source_hash": "45a43510",
    "tags": []
   },
   "outputs": [],
   "source": [
    "plt.scatter(x,y)\n",
    "plt.show()"
   ]
  },
  {
   "cell_type": "code",
   "execution_count": null,
   "metadata": {
    "cell_id": "3061ff9b86714dbf9c3147eed3ebe4b6",
    "deepnote_app_coordinates": {
     "h": 5,
     "w": 12,
     "x": 0,
     "y": 0
    },
    "deepnote_cell_type": "code",
    "deepnote_to_be_reexecuted": false,
    "execution_millis": 174,
    "execution_start": 1654196708187,
    "source_hash": "61371d90",
    "tags": []
   },
   "outputs": [],
   "source": [
    "plt.scatter(x,y, s = area) # el tamaño de cada punto refiere a la variable area\n",
    "plt.show()"
   ]
  },
  {
   "cell_type": "code",
   "execution_count": null,
   "metadata": {
    "cell_id": "82daf62dbfdb4776b57d0e0104027d93",
    "deepnote_app_coordinates": {
     "h": 5,
     "w": 12,
     "x": 0,
     "y": 0
    },
    "deepnote_cell_type": "code",
    "deepnote_to_be_reexecuted": false,
    "execution_millis": 204,
    "execution_start": 1654196708361,
    "source_hash": "c68f4cdb",
    "tags": []
   },
   "outputs": [],
   "source": [
    "plt.scatter(x,y, s = area, c = colors) # agrego la variable colors al scatter\n",
    "plt.show()"
   ]
  },
  {
   "cell_type": "code",
   "execution_count": null,
   "metadata": {
    "cell_id": "7ed6e8a698a744cfaeab0e482610903a",
    "deepnote_app_coordinates": {
     "h": 5,
     "w": 12,
     "x": 0,
     "y": 0
    },
    "deepnote_cell_type": "code",
    "deepnote_to_be_reexecuted": false,
    "execution_millis": 231,
    "execution_start": 1654196708568,
    "source_hash": "7b4bea60",
    "tags": []
   },
   "outputs": [],
   "source": [
    "plt.scatter(x,y, s = area, c= colors, marker = 'o', alpha = 0.5) # agrego un alpha y defino el marker\n",
    "plt.show()"
   ]
  },
  {
   "cell_type": "markdown",
   "metadata": {
    "cell_id": "adeeb523cbe34d899ed0729acfc9b00b",
    "deepnote_app_coordinates": {
     "h": 5,
     "w": 12,
     "x": 0,
     "y": 0
    },
    "deepnote_cell_type": "markdown",
    "tags": []
   },
   "source": [
    "## Seaborn"
   ]
  },
  {
   "cell_type": "markdown",
   "metadata": {
    "cell_id": "f50e3f8251cb49bc9718be1838649ea4",
    "deepnote_app_coordinates": {
     "h": 5,
     "w": 12,
     "x": 0,
     "y": 0
    },
    "deepnote_cell_type": "markdown",
    "deepnote_to_be_reexecuted": false,
    "execution_millis": 707,
    "execution_start": 1654197368713,
    "source_hash": "79b1b01a",
    "tags": []
   },
   "source": [
    "![alt text](seaborn.png)"
   ]
  },
  {
   "cell_type": "markdown",
   "metadata": {
    "cell_id": "0f16bbe6a321479badb98f121b3dc8b2",
    "deepnote_app_coordinates": {
     "h": 5,
     "w": 12,
     "x": 0,
     "y": 0
    },
    "deepnote_cell_type": "markdown",
    "tags": []
   },
   "source": [
    "**Seaborn** es una biblioteca de visualización de datos de Python basada en matplotlib. Proporciona una interfaz de alto nivel para dibujar gráficos estadísticos atractivos e informativos.\n",
    "\n",
    "Fue creada por Michael Waskom, quien ofrece todo el detalle posible de la librería (tutoriales, ejemplos, etc) en: https://seaborn.pydata.org/ "
   ]
  },
  {
   "cell_type": "markdown",
   "metadata": {
    "cell_id": "77bf994653ec47b7942a4062d38f1d62",
    "deepnote_app_coordinates": {
     "h": 5,
     "w": 12,
     "x": 0,
     "y": 0
    },
    "deepnote_cell_type": "markdown",
    "tags": []
   },
   "source": [
    "### Introducción a Seaborn"
   ]
  },
  {
   "cell_type": "markdown",
   "metadata": {
    "cell_id": "4bbae1d2f023493f877293ebaf12dcb0",
    "deepnote_app_coordinates": {
     "h": 5,
     "w": 12,
     "x": 0,
     "y": 0
    },
    "deepnote_cell_type": "markdown",
    "tags": []
   },
   "source": [
    " ##### Algunas características:\n",
    " - Escrita por Michael Waskom\n",
    " - Construida sobre Matplotlib\n",
    " - Integrada para estructuras de Pandas\n",
    "\n",
    " ##### Por qué Seaborn? Que ventajas tiene?\n",
    " - Velocidad\n",
    " - Poco código\n",
    " - Customizable"
   ]
  },
  {
   "cell_type": "markdown",
   "metadata": {
    "cell_id": "efbbd0a6776443c0908f86348894d98d",
    "deepnote_app_coordinates": {
     "h": 5,
     "w": 12,
     "x": 0,
     "y": 0
    },
    "deepnote_cell_type": "markdown",
    "deepnote_to_be_reexecuted": false,
    "execution_millis": 659,
    "execution_start": 1653933966691,
    "source_hash": "9bceb0e6",
    "tags": []
   },
   "source": [
    "![](estructura_basica.GIF)"
   ]
  },
  {
   "cell_type": "markdown",
   "metadata": {
    "cell_id": "e32819f2253048c2acecfc7a3db1ef3e",
    "deepnote_app_coordinates": {
     "h": 5,
     "w": 12,
     "x": 0,
     "y": 0
    },
    "deepnote_cell_type": "markdown",
    "deepnote_to_be_reexecuted": false,
    "execution_millis": 700,
    "execution_start": 1653934149742,
    "source_hash": "3bd7a40e",
    "tags": []
   },
   "source": [
    "![](tipos_graficas.GIF)"
   ]
  },
  {
   "cell_type": "markdown",
   "metadata": {
    "cell_id": "84c588d7232d4a04994b2cbc03ee1749",
    "deepnote_app_coordinates": {
     "h": 5,
     "w": 12,
     "x": 0,
     "y": 0
    },
    "deepnote_cell_type": "markdown",
    "tags": []
   },
   "source": [
    "## Set"
   ]
  },
  {
   "cell_type": "markdown",
   "metadata": {
    "cell_id": "12b0860e9f4a48dfb12bdf0702e30dba",
    "deepnote_app_coordinates": {
     "h": 5,
     "w": 12,
     "x": 0,
     "y": 0
    },
    "deepnote_cell_type": "markdown",
    "tags": []
   },
   "source": [
    "#### El parámetro Set es  muy importante por que de manera sencilla permite definir un tema o los colores que voy a utilizar o el tipo de fuente a usar."
   ]
  },
  {
   "cell_type": "code",
   "execution_count": null,
   "metadata": {
    "cell_id": "1d2f4ecd572b43aa96fdb3a52d6acb27",
    "deepnote_app_coordinates": {
     "h": 5,
     "w": 12,
     "x": 0,
     "y": 0
    },
    "deepnote_cell_type": "code",
    "deepnote_to_be_reexecuted": false,
    "execution_millis": 757,
    "execution_start": 1654196709105,
    "source_hash": "c9d2f67b",
    "tags": []
   },
   "outputs": [],
   "source": [
    "import seaborn as sns"
   ]
  },
  {
   "cell_type": "code",
   "execution_count": null,
   "metadata": {
    "cell_id": "9fadd2cea4f242e489eaaf672e9410d6",
    "deepnote_app_coordinates": {
     "h": 5,
     "w": 12,
     "x": 0,
     "y": 0
    },
    "deepnote_cell_type": "code",
    "deepnote_to_be_reexecuted": false,
    "execution_millis": 107,
    "execution_start": 1654196709932,
    "source_hash": "4c4ee3ed",
    "tags": []
   },
   "outputs": [],
   "source": [
    "sns.barplot(x = ['A','B','C'], y = [1, 3, 2,])\n",
    "plt.show()"
   ]
  },
  {
   "cell_type": "code",
   "execution_count": null,
   "metadata": {
    "cell_id": "61ee600025a64802b8ae60c8022d027e",
    "deepnote_app_coordinates": {
     "h": 5,
     "w": 12,
     "x": 0,
     "y": 0
    },
    "deepnote_cell_type": "code",
    "deepnote_to_be_reexecuted": false,
    "execution_millis": 155,
    "execution_start": 1654196710042,
    "source_hash": "b4635e67",
    "tags": []
   },
   "outputs": [],
   "source": [
    "sns.set(style='darkgrid') # cambiamos el estilo del grid\n",
    "sns.barplot(x = ['A','B','C'], y = [1, 3, 2,])\n",
    "plt.show()"
   ]
  },
  {
   "cell_type": "code",
   "execution_count": null,
   "metadata": {
    "cell_id": "e4426a5390e4411f9ecc5461fddc8910",
    "deepnote_app_coordinates": {
     "h": 5,
     "w": 12,
     "x": 0,
     "y": 0
    },
    "deepnote_cell_type": "code",
    "deepnote_to_be_reexecuted": false,
    "execution_millis": 137,
    "execution_start": 1654196710208,
    "source_hash": "99ad810d",
    "tags": []
   },
   "outputs": [],
   "source": [
    "sns.set(style='darkgrid', palette = 'dark') # cambiamos paleta de colores\n",
    "sns.barplot(x = ['A','B','C'], y = [1, 2, 3,])\n",
    "plt.show()"
   ]
  },
  {
   "cell_type": "code",
   "execution_count": null,
   "metadata": {
    "cell_id": "59cd5398f2ec4f0b97b395671919baa0",
    "deepnote_app_coordinates": {
     "h": 5,
     "w": 12,
     "x": 0,
     "y": 0
    },
    "deepnote_cell_type": "code",
    "deepnote_to_be_reexecuted": false,
    "execution_millis": 149,
    "execution_start": 1654196710351,
    "source_hash": "a9536591",
    "tags": []
   },
   "outputs": [],
   "source": [
    "sns.set(style='darkgrid', palette = 'dark', font_scale = 1)\n",
    "sns.barplot(x = ['A','B','C'], y = [1, 2, 3,])\n",
    "plt.show()"
   ]
  },
  {
   "cell_type": "markdown",
   "metadata": {
    "cell_id": "9926969460364b6bbeed3e67cada54f3",
    "deepnote_app_coordinates": {
     "h": 5,
     "w": 12,
     "x": 0,
     "y": 0
    },
    "deepnote_cell_type": "markdown",
    "tags": []
   },
   "source": [
    "#### Como podemos observar, la función Set es muy útil para cambiar de manera sencilla los estilos, la paleta de colores, la fuente, etc. https://seaborn.pydata.org/generated/seaborn.set_theme.html#seaborn.set_theme"
   ]
  },
  {
   "cell_type": "markdown",
   "metadata": {
    "cell_id": "00be7fb079b7448ca97ffbbed01b8d38",
    "deepnote_app_coordinates": {
     "h": 5,
     "w": 12,
     "x": 0,
     "y": 0
    },
    "deepnote_cell_type": "markdown",
    "tags": []
   },
   "source": [
    "## Parámetros más usados"
   ]
  },
  {
   "cell_type": "markdown",
   "metadata": {
    "cell_id": "b8e5f3c8c236401f9863f9b0fa92c63a",
    "deepnote_app_coordinates": {
     "h": 5,
     "w": 12,
     "x": 0,
     "y": 0
    },
    "deepnote_cell_type": "markdown",
    "tags": []
   },
   "source": [
    "#### Seaborn tiene un gran abanico de graficos y visualizaciones disponibles. No obstante, tiene ciertos parámetos que son muy comunes y son utilizados en cada gráfico."
   ]
  },
  {
   "cell_type": "code",
   "execution_count": null,
   "metadata": {
    "cell_id": "145e7f22422a4731afa900738fd2259d",
    "deepnote_app_coordinates": {
     "h": 5,
     "w": 12,
     "x": 0,
     "y": 0
    },
    "deepnote_cell_type": "code",
    "deepnote_to_be_reexecuted": false,
    "execution_millis": 378,
    "execution_start": 1654196710508,
    "source_hash": "d89e4c64",
    "tags": []
   },
   "outputs": [],
   "source": [
    "tips = sns.load_dataset('tips') # descargaremos el dataset con propinas en un restaurante.\n",
    "tips"
   ]
  },
  {
   "cell_type": "code",
   "execution_count": null,
   "metadata": {
    "cell_id": "405ede7ad6054da6833075c0fa84354a",
    "deepnote_app_coordinates": {
     "h": 5,
     "w": 12,
     "x": 0,
     "y": 0
    },
    "deepnote_cell_type": "code",
    "deepnote_to_be_reexecuted": false,
    "execution_millis": 276,
    "execution_start": 1654196710911,
    "source_hash": "f44073eb",
    "tags": []
   },
   "outputs": [],
   "source": [
    "sns.displot(data = tips, x = 'total_bill')\n",
    "plt.show()"
   ]
  },
  {
   "cell_type": "markdown",
   "metadata": {
    "cell_id": "a8b5a894675e4fa09e3f9d54c49b9100",
    "deepnote_app_coordinates": {
     "h": 5,
     "w": 12,
     "x": 0,
     "y": 0
    },
    "deepnote_cell_height": 52.390625,
    "deepnote_cell_type": "markdown",
    "tags": []
   },
   "source": [
    "#### Así obtengo un histograma con la distribución del total de propinas en el eje x."
   ]
  },
  {
   "cell_type": "code",
   "execution_count": null,
   "metadata": {
    "cell_id": "c69e6bf69229407a970a2ec1826cc571",
    "deepnote_app_coordinates": {
     "h": 5,
     "w": 12,
     "x": 0,
     "y": 0
    },
    "deepnote_cell_type": "code",
    "deepnote_to_be_reexecuted": false,
    "execution_millis": 309,
    "execution_start": 1654196711206,
    "source_hash": "956edc00",
    "tags": []
   },
   "outputs": [],
   "source": [
    "sns.displot(data = tips, x = 'total_bill', y = 'tip')\n",
    "plt.show()"
   ]
  },
  {
   "cell_type": "markdown",
   "metadata": {
    "cell_id": "9882807863d643e288eb0d9f1d57eabb",
    "deepnote_app_coordinates": {
     "h": 5,
     "w": 12,
     "x": 0,
     "y": 0
    },
    "deepnote_cell_height": 74.796875,
    "deepnote_cell_type": "markdown",
    "tags": []
   },
   "source": [
    "#### Como se puede observar, la función displot de seaborn identifica automáticamente que tipo de gráfico se ajusta mejor a los datos que quiero analizar."
   ]
  },
  {
   "cell_type": "code",
   "execution_count": null,
   "metadata": {
    "cell_id": "8422a15a35e34b24b377eb0f9258265c",
    "deepnote_app_coordinates": {
     "h": 5,
     "w": 12,
     "x": 0,
     "y": 0
    },
    "deepnote_cell_type": "code",
    "deepnote_to_be_reexecuted": false,
    "execution_millis": 1000,
    "execution_start": 1654196711544,
    "source_hash": "da4508df",
    "tags": []
   },
   "outputs": [],
   "source": [
    "# Agregando el parámetro hue puedo incluir una tercer variable, categorica, al análisis.\n",
    "sns.displot(data = tips, x = 'total_bill', y = 'tip', hue = 'sex')\n",
    "plt.show()"
   ]
  },
  {
   "cell_type": "code",
   "execution_count": null,
   "metadata": {
    "cell_id": "5a0d7f4c8cbb488d9a1441fdfdc2022c",
    "deepnote_app_coordinates": {
     "h": 5,
     "w": 12,
     "x": 0,
     "y": 0
    },
    "deepnote_cell_type": "code",
    "deepnote_to_be_reexecuted": false,
    "execution_millis": 621,
    "execution_start": 1654196712014,
    "source_hash": "26c21b8a",
    "tags": []
   },
   "outputs": [],
   "source": [
    "# hue funciona con un histograma de la misma manera\n",
    "sns.displot(data = tips, x = 'total_bill', hue = 'sex')\n",
    "plt.show()"
   ]
  },
  {
   "cell_type": "code",
   "execution_count": null,
   "metadata": {
    "cell_id": "86f9c44d659448e4bba7fcef4dc4f7fb",
    "deepnote_app_coordinates": {
     "h": 5,
     "w": 12,
     "x": 0,
     "y": 0
    },
    "deepnote_cell_type": "code",
    "deepnote_to_be_reexecuted": false,
    "execution_millis": 485,
    "execution_start": 1654196712542,
    "source_hash": "f818bae8",
    "tags": []
   },
   "outputs": [],
   "source": [
    "# con la función kind podes cambiar el tipo de gráfico\n",
    "sns.displot(data = tips, x = 'total_bill', hue = 'sex', kind = 'kde')\n",
    "plt.show()"
   ]
  },
  {
   "cell_type": "code",
   "execution_count": null,
   "metadata": {
    "cell_id": "ba923037056f4e14a9be799332441bc8",
    "deepnote_app_coordinates": {
     "h": 5,
     "w": 12,
     "x": 0,
     "y": 0
    },
    "deepnote_cell_type": "code",
    "deepnote_to_be_reexecuted": false,
    "execution_millis": 416,
    "execution_start": 1654196713045,
    "source_hash": "4c99d339",
    "tags": []
   },
   "outputs": [],
   "source": [
    "# Puedo quitar la leyenda con el parámetro legend\n",
    "sns.displot(data = tips, x = 'total_bill', hue = 'sex', kind = 'kde', legend = False)\n",
    "plt.show()"
   ]
  },
  {
   "cell_type": "code",
   "execution_count": null,
   "metadata": {
    "cell_id": "da1164fbe5ff4a889579c789c0ce2343",
    "deepnote_app_coordinates": {
     "h": 5,
     "w": 12,
     "x": 0,
     "y": 0
    },
    "deepnote_cell_type": "code",
    "deepnote_to_be_reexecuted": false,
    "execution_millis": 451,
    "execution_start": 1654196713460,
    "source_hash": "3264d0fb",
    "tags": []
   },
   "outputs": [],
   "source": [
    "# También puedo cambiar colores con palette\n",
    "sns.displot(data = tips, x = 'total_bill', hue = 'sex', kind = 'kde', legend = True, palette = 'dark', alpha = .25)\n",
    "plt.show()"
   ]
  },
  {
   "cell_type": "markdown",
   "metadata": {
    "cell_id": "7564441b0072462d9d921bffa6e3039f",
    "deepnote_app_coordinates": {
     "h": 5,
     "w": 12,
     "x": 0,
     "y": 0
    },
    "deepnote_cell_type": "markdown",
    "tags": []
   },
   "source": [
    "Para mayor información, mejor visitar el sitio de la librería que además esta super útil:\n",
    "https://seaborn.pydata.org\n",
    "Otro sitio interesante para visitar también es: https://cheatography.com/aggialavura/cheat-sheets/python-seaborn-imgs/ "
   ]
  },
  {
   "cell_type": "markdown",
   "metadata": {
    "cell_id": "5574cd7c4f7f496cbe5592058c5a49ea",
    "deepnote_app_coordinates": {
     "h": 5,
     "w": 12,
     "x": 0,
     "y": 0
    },
    "deepnote_cell_type": "markdown",
    "tags": []
   },
   "source": [
    "## Distribuciones I"
   ]
  },
  {
   "cell_type": "markdown",
   "metadata": {
    "cell_id": "33ecac495fb4467f8dfc2e4703b9589b",
    "deepnote_app_coordinates": {
     "h": 5,
     "w": 12,
     "x": 0,
     "y": 0
    },
    "deepnote_cell_type": "markdown",
    "tags": []
   },
   "source": [
    "#### Variables numéricas"
   ]
  },
  {
   "cell_type": "code",
   "execution_count": null,
   "metadata": {
    "cell_id": "5490a3f8660a4e34b79ab54006db90e0",
    "deepnote_app_coordinates": {
     "h": 5,
     "w": 12,
     "x": 0,
     "y": 0
    },
    "deepnote_cell_type": "code",
    "deepnote_to_be_reexecuted": false,
    "execution_millis": 43,
    "execution_start": 1654196713921,
    "source_hash": "728b51b",
    "tags": []
   },
   "outputs": [],
   "source": [
    "# Revisamos los primeros datos del dataset tips\n",
    "tips.head()"
   ]
  },
  {
   "cell_type": "code",
   "execution_count": null,
   "metadata": {
    "cell_id": "f67deb4d7a7246868d7f0967af8ebe8a",
    "deepnote_app_coordinates": {
     "h": 5,
     "w": 12,
     "x": 0,
     "y": 0
    },
    "deepnote_cell_type": "code",
    "deepnote_to_be_reexecuted": false,
    "execution_millis": 223,
    "execution_start": 1654196713968,
    "source_hash": "dad132f0",
    "tags": []
   },
   "outputs": [],
   "source": [
    "sns.histplot(data=tips, x='tip', bins=15)\n",
    "plt.show"
   ]
  },
  {
   "cell_type": "code",
   "execution_count": null,
   "metadata": {
    "cell_id": "263871d0ccde48f6b3dcb6f83cbf1c71",
    "deepnote_app_coordinates": {
     "h": 5,
     "w": 12,
     "x": 0,
     "y": 0
    },
    "deepnote_cell_type": "code",
    "deepnote_to_be_reexecuted": false,
    "execution_millis": 183,
    "execution_start": 1654196714223,
    "source_hash": "c9f60036",
    "tags": []
   },
   "outputs": [],
   "source": [
    "# Si quiero ver el comportamiento acumulativo de mis frecuencias en el histograma\n",
    "sns.histplot(data=tips, x='tip', bins=15, cumulative = True)\n",
    "plt.show"
   ]
  },
  {
   "cell_type": "code",
   "execution_count": null,
   "metadata": {
    "cell_id": "53d8355e31bf4bf6a0ef6b72e34e3e84",
    "deepnote_app_coordinates": {
     "h": 5,
     "w": 12,
     "x": 0,
     "y": 0
    },
    "deepnote_cell_type": "code",
    "deepnote_to_be_reexecuted": false,
    "execution_millis": 998,
    "execution_start": 1654196714458,
    "source_hash": "a0b1beb",
    "tags": []
   },
   "outputs": [],
   "source": [
    "sns.histplot(data=tips, x='tip', bins=15, cumulative = False, hue = 'sex', stat = 'percent')\n",
    "plt.show"
   ]
  },
  {
   "cell_type": "code",
   "execution_count": null,
   "metadata": {
    "cell_id": "49f0aa5b4df34fabaf50f6ddace5df0d",
    "deepnote_app_coordinates": {
     "h": 5,
     "w": 12,
     "x": 0,
     "y": 0
    },
    "deepnote_cell_type": "code",
    "deepnote_to_be_reexecuted": false,
    "execution_millis": 610,
    "execution_start": 1654196714853,
    "source_hash": "21feb2bc",
    "tags": []
   },
   "outputs": [],
   "source": [
    "sns.histplot(data=tips, x='tip', bins=15, cumulative = False, hue = 'sex', stat = 'density')\n",
    "plt.show"
   ]
  },
  {
   "cell_type": "code",
   "execution_count": null,
   "metadata": {
    "cell_id": "5f5f003c3c524edaae2adc917a3cae48",
    "deepnote_app_coordinates": {
     "h": 5,
     "w": 12,
     "x": 0,
     "y": 0
    },
    "deepnote_cell_type": "code",
    "deepnote_to_be_reexecuted": false,
    "execution_millis": 334,
    "execution_start": 1654196715137,
    "source_hash": "9cc33241",
    "tags": []
   },
   "outputs": [],
   "source": [
    "sns.histplot(data=tips, x='tip', bins=15, cumulative = False, hue = 'sex', stat = 'count', multiple = 'stack')\n",
    "plt.show"
   ]
  },
  {
   "cell_type": "code",
   "execution_count": null,
   "metadata": {
    "cell_id": "503bf740816d44a7bd33da69894c150a",
    "deepnote_app_coordinates": {
     "h": 5,
     "w": 12,
     "x": 0,
     "y": 0
    },
    "deepnote_cell_type": "code",
    "deepnote_to_be_reexecuted": false,
    "execution_millis": 246,
    "execution_start": 1654196715561,
    "source_hash": "37434301",
    "tags": []
   },
   "outputs": [],
   "source": [
    "sns.histplot(data=tips, x='tip', bins=15, cumulative = False, hue = 'sex', stat = 'count', multiple = 'dodge')\n",
    "plt.show"
   ]
  },
  {
   "cell_type": "code",
   "execution_count": null,
   "metadata": {
    "cell_id": "92de465a7c114acb8bf766be9717eaae",
    "deepnote_app_coordinates": {
     "h": 5,
     "w": 12,
     "x": 0,
     "y": 0
    },
    "deepnote_cell_type": "code",
    "deepnote_to_be_reexecuted": false,
    "execution_millis": 299,
    "execution_start": 1654196715848,
    "source_hash": "fd35bf0e",
    "tags": []
   },
   "outputs": [],
   "source": [
    "sns.histplot(data=tips, x='tip', bins=15, cumulative = False, hue = 'sex', stat = 'count', multiple = 'fill')\n",
    "plt.show"
   ]
  },
  {
   "cell_type": "code",
   "execution_count": null,
   "metadata": {
    "cell_id": "6967f5221a6a4c8ab816d8b987cdeaef",
    "deepnote_app_coordinates": {
     "h": 5,
     "w": 12,
     "x": 0,
     "y": 0
    },
    "deepnote_cell_type": "code",
    "deepnote_to_be_reexecuted": false,
    "execution_millis": 233,
    "execution_start": 1654196716179,
    "source_hash": "32f83919",
    "tags": []
   },
   "outputs": [],
   "source": [
    "sns.kdeplot(data = tips,x='tip', hue = 'sex')\n",
    "plt.show()"
   ]
  },
  {
   "cell_type": "markdown",
   "metadata": {
    "cell_id": "9ec362429a894afdbbcc8a44793ec804",
    "deepnote_app_coordinates": {
     "h": 5,
     "w": 12,
     "x": 0,
     "y": 0
    },
    "deepnote_cell_type": "markdown",
    "tags": []
   },
   "source": [
    "#### El gráfico nos informa que los hombres dejan propina más frecuentemente que las mujeres."
   ]
  },
  {
   "cell_type": "code",
   "execution_count": null,
   "metadata": {
    "cell_id": "6d49021c296744ce8fda7fbd61cc4894",
    "deepnote_app_coordinates": {
     "h": 5,
     "w": 12,
     "x": 0,
     "y": 0
    },
    "deepnote_cell_type": "code",
    "deepnote_to_be_reexecuted": false,
    "execution_millis": 237,
    "execution_start": 1654196716443,
    "source_hash": "afa30969",
    "tags": []
   },
   "outputs": [],
   "source": [
    "sns.kdeplot(data = tips,x='tip', hue = 'sex', cumulative = False, fill = True, bw_adjust=1)\n",
    "plt.show()"
   ]
  },
  {
   "cell_type": "code",
   "execution_count": null,
   "metadata": {
    "cell_id": "99f695544a4b494d9d8f09c11c9acb22",
    "deepnote_app_coordinates": {
     "h": 5,
     "w": 12,
     "x": 0,
     "y": 0
    },
    "deepnote_cell_type": "code",
    "deepnote_to_be_reexecuted": false,
    "execution_millis": 242,
    "execution_start": 1654196716711,
    "source_hash": "955cf130",
    "tags": []
   },
   "outputs": [],
   "source": [
    "sns.ecdfplot(data = tips, x = 'tip', hue = 'sex', stat='count')\n",
    "plt.show()"
   ]
  },
  {
   "cell_type": "code",
   "execution_count": null,
   "metadata": {
    "cell_id": "669b70084f714a5489c6b0410a313067",
    "deepnote_app_coordinates": {
     "h": 5,
     "w": 12,
     "x": 0,
     "y": 0
    },
    "deepnote_cell_type": "code",
    "deepnote_to_be_reexecuted": false,
    "execution_millis": 1280,
    "execution_start": 1654196716955,
    "source_hash": "abd24920",
    "tags": []
   },
   "outputs": [],
   "source": [
    "sns.displot(data = tips, x = 'tip', hue = 'sex')\n",
    "plt.show()"
   ]
  },
  {
   "cell_type": "code",
   "execution_count": null,
   "metadata": {
    "cell_id": "4f561db27263404e8b332493abf679c5",
    "deepnote_app_coordinates": {
     "h": 5,
     "w": 12,
     "x": 0,
     "y": 0
    },
    "deepnote_cell_type": "code",
    "deepnote_to_be_reexecuted": false,
    "execution_millis": 636,
    "execution_start": 1654196717625,
    "source_hash": "6ba69112",
    "tags": []
   },
   "outputs": [],
   "source": [
    "# Displot selecciona automáticamente un tipo de gráfico. No obstante, puedo especificar un grafico del tipo kde\n",
    "sns.displot(data = tips, x = 'tip', hue = 'sex', kind = 'kde')\n",
    "plt.show()"
   ]
  },
  {
   "cell_type": "code",
   "execution_count": null,
   "metadata": {
    "cell_id": "f6158ad74eb94ef099c2bc8115bec006",
    "deepnote_app_coordinates": {
     "h": 5,
     "w": 12,
     "x": 0,
     "y": 0
    },
    "deepnote_cell_type": "code",
    "deepnote_to_be_reexecuted": false,
    "execution_millis": 796,
    "execution_start": 1654196718090,
    "source_hash": "72a038b2",
    "tags": []
   },
   "outputs": [],
   "source": [
    "sns.displot(data = tips, x = 'tip', hue = 'sex', kind = 'hist', multiple = 'stack')\n",
    "plt.show()"
   ]
  },
  {
   "cell_type": "markdown",
   "metadata": {
    "cell_id": "05f73454b9074859853b2fcbdccee293",
    "deepnote_app_coordinates": {
     "h": 5,
     "w": 12,
     "x": 0,
     "y": 0
    },
    "deepnote_cell_type": "markdown",
    "tags": []
   },
   "source": [
    "#### Al utilizar la función **displot** de seaborn podemos cambiar el tipo de gráfico con solo usar el parámetro kind. El que viene por default es hist, pero se lo puede cambiar facilemente usando kind = 'kde'"
   ]
  },
  {
   "cell_type": "code",
   "execution_count": null,
   "metadata": {
    "cell_id": "7df0abce3e8b48dabd8d9d29755b658b",
    "deepnote_app_coordinates": {
     "h": 5,
     "w": 12,
     "x": 0,
     "y": 0
    },
    "deepnote_cell_type": "code",
    "deepnote_to_be_reexecuted": false,
    "execution_millis": 274,
    "execution_start": 1654196718921,
    "source_hash": "2e959f58",
    "tags": []
   },
   "outputs": [],
   "source": [
    "sns.scatterplot(data=tips,x='tip',y='total_bill',hue='smoker')\n",
    "plt.show()"
   ]
  },
  {
   "cell_type": "markdown",
   "metadata": {
    "cell_id": "b2361c5556ec4a3588ee28284acda7a4",
    "deepnote_app_coordinates": {
     "h": 5,
     "w": 12,
     "x": 0,
     "y": 0
    },
    "deepnote_cell_type": "markdown",
    "tags": []
   },
   "source": [
    "## Distribuciones II"
   ]
  },
  {
   "cell_type": "markdown",
   "metadata": {
    "cell_id": "a2e3a3b437524988bfac97ff9308b109",
    "deepnote_app_coordinates": {
     "h": 5,
     "w": 12,
     "x": 0,
     "y": 0
    },
    "deepnote_cell_type": "markdown",
    "tags": []
   },
   "source": [
    "#### Variables categóricas"
   ]
  },
  {
   "cell_type": "code",
   "execution_count": null,
   "metadata": {
    "cell_id": "3f1b6fd132bc4f20913fe0958e0b91e0",
    "deepnote_app_coordinates": {
     "h": 5,
     "w": 12,
     "x": 0,
     "y": 0
    },
    "deepnote_cell_type": "code",
    "deepnote_to_be_reexecuted": false,
    "execution_millis": 33,
    "execution_start": 1654196719203,
    "source_hash": "de8e5b1d",
    "tags": []
   },
   "outputs": [],
   "source": [
    "tips.head()"
   ]
  },
  {
   "cell_type": "code",
   "execution_count": null,
   "metadata": {
    "cell_id": "12265d198990435fac6b9a941998a100",
    "deepnote_app_coordinates": {
     "h": 5,
     "w": 12,
     "x": 0,
     "y": 0
    },
    "deepnote_cell_type": "code",
    "deepnote_to_be_reexecuted": false,
    "execution_millis": 261,
    "execution_start": 1654196719237,
    "source_hash": "7852c603",
    "tags": []
   },
   "outputs": [],
   "source": [
    "sns.countplot(data = tips, x = 'day', hue = 'sex')\n",
    "plt.show()"
   ]
  },
  {
   "cell_type": "markdown",
   "metadata": {
    "cell_id": "2551df85253846f287d4d9033d203890",
    "deepnote_app_coordinates": {
     "h": 5,
     "w": 12,
     "x": 0,
     "y": 0
    },
    "deepnote_cell_type": "markdown",
    "tags": []
   },
   "source": [
    "#### Podemos observar que los días Viernes es cuando menos propinas se registran en el restaurante. Otra observación posible es que los días Sábados, es cuando los clientes varones dejan la mayor cantidad de propinas."
   ]
  },
  {
   "cell_type": "code",
   "execution_count": null,
   "metadata": {
    "cell_id": "adb32ddbd86d44df86ae6e8a0293cd7c",
    "deepnote_app_coordinates": {
     "h": 5,
     "w": 12,
     "x": 0,
     "y": 0
    },
    "deepnote_cell_type": "code",
    "deepnote_to_be_reexecuted": false,
    "execution_millis": 385,
    "execution_start": 1654196719502,
    "source_hash": "a806e854",
    "tags": []
   },
   "outputs": [],
   "source": [
    "plt.figure(figsize = (10,10)) # con esta línea de código configuro el tamaño de la figura.\n",
    "sns.stripplot(data = tips, x = 'day', y = 'total_bill', hue = 'sex', dodge = True)\n",
    "plt.show()\n",
    "# Con el parámetro dodge puedo ver dividida la variable categorica sex en cada uno de los días."
   ]
  },
  {
   "cell_type": "code",
   "execution_count": null,
   "metadata": {
    "cell_id": "745fedb0c7ad4d6eb620f5203375d89e",
    "deepnote_app_coordinates": {
     "h": 5,
     "w": 12,
     "x": 0,
     "y": 0
    },
    "deepnote_cell_type": "code",
    "deepnote_to_be_reexecuted": false,
    "execution_millis": 1099,
    "execution_start": 1654196719886,
    "source_hash": "ffea145",
    "tags": []
   },
   "outputs": [],
   "source": [
    "# para revisar la concentración de los datos es mejor usar swarmplot\n",
    "plt.figure(figsize = (10,10)) \n",
    "sns.swarmplot(data = tips, x = 'day', y = 'total_bill', hue = 'sex', dodge = True)\n",
    "plt.show()"
   ]
  },
  {
   "cell_type": "markdown",
   "metadata": {
    "cell_id": "78b513a81b24403398e51ba69b760700",
    "deepnote_app_coordinates": {
     "h": 5,
     "w": 12,
     "x": 0,
     "y": 0
    },
    "deepnote_cell_type": "markdown",
    "tags": []
   },
   "source": [
    "#### Algo que se puede observar del grafico es que, por ejemplo, los días Sábados, que es cuando los varones más propina dejan, la cuenta total se encuentra concentrada entre 19 y 20 dólares."
   ]
  },
  {
   "cell_type": "code",
   "execution_count": null,
   "metadata": {
    "cell_id": "d5a2829942ab496786543def72fb4a37",
    "deepnote_app_coordinates": {
     "h": 5,
     "w": 12,
     "x": 0,
     "y": 0
    },
    "deepnote_cell_type": "code",
    "deepnote_to_be_reexecuted": false,
    "execution_millis": 706,
    "execution_start": 1654196720323,
    "source_hash": "a4685e5a",
    "tags": []
   },
   "outputs": [],
   "source": [
    "sns.swarmplot(data = tips, x = 'smoker', y = 'total_bill', hue = 'sex', dodge = True)\n",
    "plt.show()"
   ]
  },
  {
   "cell_type": "code",
   "execution_count": null,
   "metadata": {
    "cell_id": "23aad8eea6554abca012eb00741401dc",
    "deepnote_app_coordinates": {
     "h": 5,
     "w": 12,
     "x": 0,
     "y": 0
    },
    "deepnote_cell_type": "code",
    "deepnote_to_be_reexecuted": false,
    "execution_millis": 364,
    "execution_start": 1654196720698,
    "source_hash": "8fa63b0",
    "tags": []
   },
   "outputs": [],
   "source": [
    "plt.figure(figsize = (10,10)) \n",
    "sns.boxplot(data = tips, x = 'day', y = 'total_bill', hue = 'sex', dodge = True)\n",
    "plt.show()"
   ]
  },
  {
   "cell_type": "code",
   "execution_count": null,
   "metadata": {
    "cell_id": "e70093fb4e224116ba42526f4dd35895",
    "deepnote_app_coordinates": {
     "h": 5,
     "w": 12,
     "x": 0,
     "y": 0
    },
    "deepnote_cell_type": "code",
    "deepnote_to_be_reexecuted": false,
    "execution_millis": 115,
    "execution_start": 1654196721092,
    "source_hash": "a8a83a93",
    "tags": []
   },
   "outputs": [],
   "source": [
    "sns.boxplot(data = tips, y = 'total_bill')\n",
    "plt.show()"
   ]
  },
  {
   "cell_type": "markdown",
   "metadata": {
    "cell_id": "f9672a9ee5fb43da869df2842a804525",
    "deepnote_app_coordinates": {
     "h": 5,
     "w": 12,
     "x": 0,
     "y": 0
    },
    "deepnote_cell_type": "markdown",
    "tags": []
   },
   "source": [
    "#### También podemos combinar dos gráficos"
   ]
  },
  {
   "cell_type": "code",
   "execution_count": null,
   "metadata": {
    "cell_id": "3e7d3c02215842d5aad11d902b6c1817",
    "deepnote_app_coordinates": {
     "h": 5,
     "w": 12,
     "x": 0,
     "y": 0
    },
    "deepnote_cell_type": "code",
    "deepnote_to_be_reexecuted": false,
    "execution_millis": 501,
    "execution_start": 1654196721207,
    "source_hash": "1e732a2c",
    "tags": []
   },
   "outputs": [],
   "source": [
    "plt.style.use('classic')\n",
    "plt.figure(figsize = (10,10)) \n",
    "sns.boxplot(data = tips, x = 'day', y = 'total_bill', hue = 'sex', dodge = True)\n",
    "sns.swarmplot(data = tips, x = 'smoker', y = 'total_bill', hue = 'sex', dodge = True)\n",
    "plt.show()"
   ]
  },
  {
   "cell_type": "code",
   "execution_count": null,
   "metadata": {
    "cell_id": "2a939b48f8ab430bb5ad2b267339f9d4",
    "deepnote_app_coordinates": {
     "h": 5,
     "w": 12,
     "x": 0,
     "y": 0
    },
    "deepnote_cell_type": "code",
    "deepnote_to_be_reexecuted": false,
    "execution_millis": 441,
    "execution_start": 1654196721715,
    "source_hash": "1585b242",
    "tags": []
   },
   "outputs": [],
   "source": [
    "plt.style.use('classic')\n",
    "sns.set_palette(\"pastel\")\n",
    "plt.figure(figsize = (10,10)) \n",
    "sns.violinplot(data = tips, x = 'day', y = 'total_bill', hue = 'sex', dodge = True)\n",
    "plt.show()"
   ]
  },
  {
   "cell_type": "code",
   "execution_count": null,
   "metadata": {
    "cell_id": "128bf89bd1964c1bb1f66f485ee5df86",
    "deepnote_app_coordinates": {
     "h": 5,
     "w": 12,
     "x": 0,
     "y": 0
    },
    "deepnote_cell_type": "code",
    "deepnote_to_be_reexecuted": false,
    "execution_millis": 350,
    "execution_start": 1654196722171,
    "source_hash": "be95867e",
    "tags": []
   },
   "outputs": [],
   "source": [
    "plt.style.use('classic')\n",
    "plt.figure(figsize = (10,10)) \n",
    "sns.violinplot(data = tips, x = 'day', y = 'total_bill', hue = 'sex', split = True, palette='muted')\n",
    "plt.show()"
   ]
  },
  {
   "cell_type": "code",
   "execution_count": null,
   "metadata": {
    "cell_id": "376cb978342340bdaf0478c37841a8d3",
    "deepnote_app_coordinates": {
     "h": 5,
     "w": 12,
     "x": 0,
     "y": 0
    },
    "deepnote_cell_type": "code",
    "deepnote_to_be_reexecuted": false,
    "execution_millis": 1214,
    "execution_start": 1654196722517,
    "source_hash": "4ede8768",
    "tags": []
   },
   "outputs": [],
   "source": [
    "sns.catplot(data = tips, x = 'day', y = 'total_bill', hue = 'sex', palette = 'bright', kind = 'swarm')\n",
    "plt.show()"
   ]
  },
  {
   "cell_type": "code",
   "execution_count": null,
   "metadata": {
    "cell_id": "17c15244f668438d9333331ebf3d11e6",
    "deepnote_app_coordinates": {
     "h": 5,
     "w": 12,
     "x": 0,
     "y": 0
    },
    "deepnote_cell_type": "code",
    "deepnote_to_be_reexecuted": false,
    "execution_millis": 963,
    "execution_start": 1654196723122,
    "source_hash": "98d14f2b",
    "tags": []
   },
   "outputs": [],
   "source": [
    "sns.catplot(data = tips, x = 'day', y = 'total_bill', hue = 'sex', palette = 'bright', kind = 'swarm', col='time')\n",
    "plt.show()"
   ]
  },
  {
   "cell_type": "markdown",
   "metadata": {
    "cell_id": "786232454290421a981c05f2cb0ddfa7",
    "deepnote_app_coordinates": {
     "h": 5,
     "w": 12,
     "x": 0,
     "y": 0
    },
    "deepnote_cell_type": "markdown",
    "tags": []
   },
   "source": [
    "#### **Con el parámetro col puedo agregar información de una variables categórica adicional, partiendo al gráfico en dos.**"
   ]
  },
  {
   "cell_type": "code",
   "execution_count": null,
   "metadata": {
    "cell_id": "eb784f5b7a2e424eb9fc12a6832a0aa4",
    "deepnote_app_coordinates": {
     "h": 5,
     "w": 12,
     "x": 0,
     "y": 0
    },
    "deepnote_cell_type": "code",
    "deepnote_to_be_reexecuted": false,
    "execution_millis": 656,
    "execution_start": 1654196724096,
    "source_hash": "7a894b44",
    "tags": []
   },
   "outputs": [],
   "source": [
    "sns.catplot(data = tips, x = 'day', y = 'total_bill', hue = 'sex', palette = 'bright', kind = 'box', col='time')\n",
    "plt.show()"
   ]
  },
  {
   "cell_type": "markdown",
   "metadata": {
    "cell_id": "92258bafe8fc4862af4208473e7ea0b3",
    "deepnote_app_coordinates": {
     "h": 5,
     "w": 12,
     "x": 0,
     "y": 0
    },
    "deepnote_cell_type": "markdown",
    "tags": []
   },
   "source": [
    "#### Entonces, en el último grafico estamos trabajando con cuatro variables en total. Por un lado tenemos a las variables categoricas: time, day, sex; y todas estas en relación al total bill."
   ]
  },
  {
   "cell_type": "markdown",
   "metadata": {
    "cell_id": "4dbe4f553d8a48f79fb519c857ca155a",
    "deepnote_app_coordinates": {
     "h": 5,
     "w": 12,
     "x": 0,
     "y": 0
    },
    "deepnote_cell_type": "markdown",
    "deepnote_to_be_reexecuted": false,
    "execution_millis": 9,
    "execution_start": 1654020323773,
    "source_hash": "7db27a7c",
    "tags": []
   },
   "source": [
    "#### Al utilizar la función **catplot** de seaborn podemos cambiar el tipo de gráfico con solo usar el parámetro kind."
   ]
  },
  {
   "cell_type": "code",
   "execution_count": null,
   "metadata": {
    "cell_id": "81f0aed400684fcb810b0730dcbdd2c9",
    "deepnote_app_coordinates": {
     "h": 5,
     "w": 12,
     "x": 0,
     "y": 0
    },
    "deepnote_cell_type": "code",
    "deepnote_to_be_reexecuted": false,
    "execution_millis": 703,
    "execution_start": 1654196724767,
    "source_hash": "3bcf6190",
    "tags": []
   },
   "outputs": [],
   "source": [
    "sns.catplot(data=tips, x=\"day\", hue=\"size\", col=\"time\", kind= \"count\", palette = 'pastel' )\n",
    "plt.show()"
   ]
  },
  {
   "cell_type": "markdown",
   "metadata": {
    "cell_id": "4747e6e89f80435992c827216f0b17ec",
    "deepnote_app_coordinates": {
     "h": 5,
     "w": 12,
     "x": 0,
     "y": 0
    },
    "deepnote_cell_type": "markdown",
    "tags": []
   },
   "source": [
    "## Relation"
   ]
  },
  {
   "cell_type": "markdown",
   "metadata": {
    "cell_id": "2e950be0c4134a8bad367879f78cea8a",
    "deepnote_app_coordinates": {
     "h": 5,
     "w": 12,
     "x": 0,
     "y": 0
    },
    "deepnote_cell_type": "markdown",
    "tags": []
   },
   "source": [
    "### - Scatterplot"
   ]
  },
  {
   "cell_type": "code",
   "execution_count": null,
   "metadata": {
    "cell_id": "121c913673c540d9ab923db95d71dda6",
    "deepnote_app_coordinates": {
     "h": 5,
     "w": 12,
     "x": 0,
     "y": 0
    },
    "deepnote_cell_type": "code",
    "deepnote_to_be_reexecuted": false,
    "execution_millis": 1037,
    "execution_start": 1654196725482,
    "source_hash": "9d73ef91",
    "tags": []
   },
   "outputs": [],
   "source": [
    "plt.figure(figsize=(10,10))\n",
    "markers = {\"Lunch\":\"D\", \"Dinner\":\"s\"}\n",
    "sns.scatterplot(data = tips, x = 'total_bill', y = 'tip', hue = 'sex', style ='time', palette = 'bright', size = 'size', markers = markers)\n",
    "# Vamos a mover la leyenda para que no estorbe al gráfico\n",
    "plt.legend(loc = 'center', bbox_to_anchor = (1.12, 0.6))\n",
    "plt.show()"
   ]
  },
  {
   "cell_type": "markdown",
   "metadata": {
    "cell_id": "721ebff5f14d4827a083284427fbdcba",
    "deepnote_app_coordinates": {
     "h": 5,
     "w": 12,
     "x": 0,
     "y": 0
    },
    "deepnote_cell_type": "markdown",
    "tags": []
   },
   "source": [
    "#### Pareciera haber una relación positiva entre el tamaño de la cuenta y la propina, lo cual tiene lógica."
   ]
  },
  {
   "cell_type": "markdown",
   "metadata": {
    "cell_id": "7da7df4136214893b492268af2279c6e",
    "deepnote_app_coordinates": {
     "h": 5,
     "w": 12,
     "x": 0,
     "y": 0
    },
    "deepnote_cell_type": "markdown",
    "tags": []
   },
   "source": [
    "#### **pairplot**, te permite ver comparativas de pares de variables y analizar su comportamiento en un solo gráfico."
   ]
  },
  {
   "cell_type": "markdown",
   "metadata": {
    "cell_id": "df65c264a67546dc97be0f2485da5b1a",
    "deepnote_app_coordinates": {
     "h": 5,
     "w": 12,
     "x": 0,
     "y": 0
    },
    "deepnote_cell_type": "markdown",
    "tags": []
   },
   "source": [
    "###  - Lineplot"
   ]
  },
  {
   "cell_type": "code",
   "execution_count": null,
   "metadata": {
    "cell_id": "58f3f90790bb41598c20b9e065eb7117",
    "deepnote_app_coordinates": {
     "h": 5,
     "w": 12,
     "x": 0,
     "y": 0
    },
    "deepnote_cell_type": "code",
    "deepnote_to_be_reexecuted": false,
    "execution_millis": 690,
    "execution_start": 1654196725875,
    "source_hash": "c0bc4fc",
    "tags": []
   },
   "outputs": [],
   "source": [
    "sns.lineplot(data = tips, x = 'total_bill', y = 'tip')\n",
    "plt.show"
   ]
  },
  {
   "cell_type": "code",
   "execution_count": null,
   "metadata": {
    "cell_id": "788df6ca4f82418294a40860bc2ff8e5",
    "deepnote_app_coordinates": {
     "h": 5,
     "w": 12,
     "x": 0,
     "y": 0
    },
    "deepnote_cell_type": "code",
    "deepnote_to_be_reexecuted": false,
    "execution_millis": 593,
    "execution_start": 1654196726492,
    "source_hash": "567d228",
    "tags": []
   },
   "outputs": [],
   "source": [
    "sns.lineplot(data = tips, x = 'total_bill', y = 'tip', hue = 'sex', style ='time', palette = 'bright', size = 'size', markers = markers)\n",
    "plt.legend(loc = 'center', bbox_to_anchor = (1.12, 0.6))\n",
    "plt.show()"
   ]
  },
  {
   "cell_type": "markdown",
   "metadata": {
    "cell_id": "357923334a0a456785be674f628da17d",
    "deepnote_app_coordinates": {
     "h": 5,
     "w": 12,
     "x": 0,
     "y": 0
    },
    "deepnote_cell_height": 54,
    "deepnote_cell_type": "markdown",
    "tags": []
   },
   "source": [
    "##### - Relplot"
   ]
  },
  {
   "cell_type": "code",
   "execution_count": null,
   "metadata": {
    "cell_id": "281fa0ae104b4d99b6648f296e0fdc9c",
    "deepnote_app_coordinates": {
     "h": 5,
     "w": 12,
     "x": 0,
     "y": 0
    },
    "deepnote_cell_type": "code",
    "deepnote_to_be_reexecuted": true,
    "execution_millis": 2763,
    "execution_start": 1654121437098,
    "source_hash": "e2538202",
    "tags": []
   },
   "outputs": [],
   "source": [
    "sns.relplot(data = tips, x = 'total_bill', y = 'tip', hue = 'sex', style ='time', palette = 'bright', size = 'size', markers = markers)\n",
    "plt.show()"
   ]
  },
  {
   "cell_type": "code",
   "execution_count": null,
   "metadata": {
    "cell_id": "f7273f92505c49c797309a6deb5071de",
    "deepnote_app_coordinates": {
     "h": 5,
     "w": 12,
     "x": 0,
     "y": 0
    },
    "deepnote_cell_type": "code",
    "deepnote_to_be_reexecuted": true,
    "execution_millis": 1084,
    "execution_start": 1654121638344,
    "source_hash": "601b13dc",
    "tags": []
   },
   "outputs": [],
   "source": [
    "sns.relplot(data = tips, x = 'total_bill', y = 'tip', hue = 'sex', style = 'time', palette = 'bright', size = 'size', markers = markers, kind = 'line')\n",
    "plt.show()"
   ]
  },
  {
   "cell_type": "markdown",
   "metadata": {
    "cell_id": "9c8446c710254ac4b26dbd7e567e4652",
    "deepnote_app_coordinates": {
     "h": 5,
     "w": 12,
     "x": 0,
     "y": 0
    },
    "deepnote_cell_height": 52.390625,
    "deepnote_cell_type": "markdown",
    "tags": []
   },
   "source": [
    "#### Con el parámetro col podemos dividir el gráfico en función a una variable categórica"
   ]
  },
  {
   "cell_type": "code",
   "execution_count": null,
   "metadata": {
    "cell_id": "9e490f1df0a645f7a6426bc649331f57",
    "deepnote_app_coordinates": {
     "h": 5,
     "w": 12,
     "x": 0,
     "y": 0
    },
    "deepnote_cell_type": "code",
    "deepnote_to_be_reexecuted": true,
    "execution_millis": 908,
    "execution_start": 1654121892816,
    "source_hash": "4eeafd63",
    "tags": []
   },
   "outputs": [],
   "source": [
    "sns.relplot(data = tips, x = 'total_bill', y = 'tip', hue = 'sex', style ='time', palette = 'bright', size = 'size', markers = markers, col = 'time')\n",
    "plt.show()"
   ]
  },
  {
   "cell_type": "markdown",
   "metadata": {
    "cell_id": "e6429fd5acf24acd8eed28f42e0897d2",
    "deepnote_app_coordinates": {
     "h": 5,
     "w": 12,
     "x": 0,
     "y": 0
    },
    "deepnote_cell_height": 54,
    "deepnote_cell_type": "markdown",
    "tags": []
   },
   "source": [
    "##### - Pairplot"
   ]
  },
  {
   "cell_type": "code",
   "execution_count": null,
   "metadata": {
    "cell_id": "234842fcfdb84527944965e0a915d16a",
    "deepnote_app_coordinates": {
     "h": 5,
     "w": 12,
     "x": 0,
     "y": 0
    },
    "deepnote_cell_type": "code",
    "deepnote_to_be_reexecuted": true,
    "execution_millis": 3040,
    "execution_start": 1654119950213,
    "source_hash": "3eaa1d9",
    "tags": []
   },
   "outputs": [],
   "source": [
    "sns.pairplot(data=tips,hue='day')\n",
    "plt.show() "
   ]
  },
  {
   "cell_type": "code",
   "execution_count": null,
   "metadata": {
    "cell_id": "8aa1f84b2c4045be9a5878930ef3b33b",
    "deepnote_app_coordinates": {
     "h": 5,
     "w": 12,
     "x": 0,
     "y": 0
    },
    "deepnote_cell_type": "code",
    "deepnote_to_be_reexecuted": true,
    "execution_millis": 1984,
    "execution_start": 1654119952614,
    "source_hash": "fbf9581d",
    "tags": []
   },
   "outputs": [],
   "source": [
    "sns.pairplot(data = tips, hue = 'sex', palette = 'bright')\n",
    "plt.show()"
   ]
  },
  {
   "cell_type": "markdown",
   "metadata": {
    "cell_id": "c8f7dddab8464be696575baa134e28a3",
    "deepnote_app_coordinates": {
     "h": 5,
     "w": 12,
     "x": 0,
     "y": 0
    },
    "deepnote_cell_height": 54,
    "deepnote_cell_type": "markdown",
    "tags": []
   },
   "source": [
    "#### Joinplot/Pairplot"
   ]
  },
  {
   "cell_type": "markdown",
   "metadata": {
    "cell_id": "0696b0febef5457a9f8318c9e9948a1e",
    "deepnote_app_coordinates": {
     "h": 5,
     "w": 12,
     "x": 0,
     "y": 0
    },
    "deepnote_cell_height": 69.390625,
    "deepnote_cell_type": "markdown",
    "tags": []
   },
   "source": [
    "- Jointplot"
   ]
  },
  {
   "cell_type": "markdown",
   "metadata": {
    "cell_id": "b578330724eb4082afe5aee3e3bbce7e",
    "deepnote_app_coordinates": {
     "h": 5,
     "w": 12,
     "x": 0,
     "y": 0
    },
    "deepnote_cell_height": 52.390625,
    "deepnote_cell_type": "markdown",
    "tags": []
   },
   "source": [
    "Estas funciones permiten con un solo comando realizar distintos gráficos simultáneamente."
   ]
  },
  {
   "cell_type": "code",
   "execution_count": null,
   "metadata": {
    "cell_id": "c9d1de51d8064397856e88c914ac648d",
    "deepnote_app_coordinates": {
     "h": 5,
     "w": 12,
     "x": 0,
     "y": 0
    },
    "deepnote_cell_type": "code",
    "deepnote_to_be_reexecuted": true,
    "execution_millis": 484,
    "execution_start": 1654122485821,
    "source_hash": "f61ec45f",
    "tags": []
   },
   "outputs": [],
   "source": [
    "sns.jointplot(data = tips, x = 'total_bill', y = 'tip')\n",
    "plt.show()"
   ]
  },
  {
   "cell_type": "markdown",
   "metadata": {
    "cell_id": "2d90f8093d214ee3bc7e0d36575cd64b",
    "deepnote_app_coordinates": {
     "h": 5,
     "w": 12,
     "x": 0,
     "y": 0
    },
    "deepnote_cell_type": "markdown",
    "tags": []
   },
   "source": [
    "Cómo podemos observar, la función jointplot permite agrupar en un mismo gráfico dos visualizaciones distintas de los datos.\n",
    "Con el diagram de dispersión revisamos la relación entre las propinas y el tamaño de la cuenta, mientras que con los histogramas vemos la distribución de frecuencias de cada variable."
   ]
  },
  {
   "cell_type": "markdown",
   "metadata": {
    "cell_id": "484262c0bb8c483cb0ae3af34c92569c",
    "deepnote_app_coordinates": {
     "h": 5,
     "w": 12,
     "x": 0,
     "y": 0
    },
    "deepnote_cell_type": "markdown",
    "deepnote_to_be_reexecuted": false,
    "execution_millis": 5,
    "execution_start": 1654122693397,
    "source_hash": "8a5d68b0",
    "tags": []
   },
   "source": [
    "Inclusive lo podemos customizar un poco más, por ejemplo utilizando el parámetro hue"
   ]
  },
  {
   "cell_type": "code",
   "execution_count": null,
   "metadata": {
    "cell_id": "eaff61f3f1b14263aeade3d075999fa7",
    "deepnote_app_coordinates": {
     "h": 5,
     "w": 12,
     "x": 0,
     "y": 0
    },
    "deepnote_cell_type": "code",
    "deepnote_to_be_reexecuted": true,
    "execution_millis": 480,
    "execution_start": 1654122728162,
    "source_hash": "f30bfacb",
    "tags": []
   },
   "outputs": [],
   "source": [
    "sns.jointplot(data = tips, x = 'total_bill', y = 'tip', hue = 'sex')\n",
    "plt.show()"
   ]
  },
  {
   "cell_type": "code",
   "execution_count": null,
   "metadata": {
    "cell_id": "e397623ff90747a696b83f85eb379370",
    "deepnote_app_coordinates": {
     "h": 5,
     "w": 12,
     "x": 0,
     "y": 0
    },
    "deepnote_cell_type": "code",
    "deepnote_to_be_reexecuted": true,
    "execution_millis": 852,
    "execution_start": 1654177646983,
    "source_hash": "a74ff70a",
    "tags": []
   },
   "outputs": [],
   "source": [
    "plt.style.use('ggplot')\n",
    "sns.jointplot(data = tips, x = 'total_bill', y = 'tip', hue = 'sex', kind = 'hist')\n",
    "plt.show()"
   ]
  },
  {
   "cell_type": "code",
   "execution_count": null,
   "metadata": {
    "cell_id": "0971bbe1fbc542438a39942a354e9bf2",
    "deepnote_app_coordinates": {
     "h": 5,
     "w": 12,
     "x": 0,
     "y": 0
    },
    "deepnote_cell_type": "code",
    "deepnote_to_be_reexecuted": true,
    "execution_millis": 744,
    "execution_start": 1654123125021,
    "source_hash": "e06821e2",
    "tags": []
   },
   "outputs": [],
   "source": [
    "sns.jointplot(data = tips, x = 'total_bill', y = 'tip', hue = 'sex', kind = 'kde')\n",
    "plt.show()"
   ]
  },
  {
   "cell_type": "code",
   "execution_count": null,
   "metadata": {
    "cell_id": "2b6f07547bf141b19f1f9eb069b70781",
    "deepnote_app_coordinates": {
     "h": 5,
     "w": 12,
     "x": 0,
     "y": 0
    },
    "deepnote_cell_type": "code",
    "deepnote_to_be_reexecuted": true,
    "execution_millis": 707,
    "execution_start": 1654123417298,
    "source_hash": "51d5457c",
    "tags": []
   },
   "outputs": [],
   "source": [
    "# Agrego el comando marginal_ticks y marginal_kws\n",
    "sns.jointplot(data = tips, x = 'total_bill', y = 'tip', hue = 'sex', kind = 'hist', marginal_ticks=True, marginal_kws = dict(bins=25,fill=False, multiple='dodge'))\n",
    "plt.show()"
   ]
  },
  {
   "cell_type": "markdown",
   "metadata": {
    "cell_id": "085afd1ad87944b0a42c1987642c42ef",
    "deepnote_app_coordinates": {
     "h": 5,
     "w": 12,
     "x": 0,
     "y": 0
    },
    "deepnote_cell_type": "markdown",
    "tags": []
   },
   "source": [
    "- Pairplot\n",
    "\n",
    "Integra en un gráfico todas las variables numéricas"
   ]
  },
  {
   "cell_type": "code",
   "execution_count": null,
   "metadata": {
    "cell_id": "08226d6bb7a64b8b9792f460fbf30efd",
    "deepnote_app_coordinates": {
     "h": 5,
     "w": 12,
     "x": 0,
     "y": 0
    },
    "deepnote_cell_type": "code",
    "deepnote_to_be_reexecuted": true,
    "execution_millis": 1599,
    "execution_start": 1654123633436,
    "source_hash": "656030f7",
    "tags": []
   },
   "outputs": [],
   "source": [
    "sns.pairplot(data = tips)\n",
    "plt.show()"
   ]
  },
  {
   "cell_type": "code",
   "execution_count": null,
   "metadata": {
    "cell_id": "3c7a3b594191464980db52c75f3cf462",
    "deepnote_app_coordinates": {
     "h": 5,
     "w": 12,
     "x": 0,
     "y": 0
    },
    "deepnote_cell_type": "code",
    "deepnote_to_be_reexecuted": true,
    "execution_millis": 2346,
    "execution_start": 1654123798262,
    "source_hash": "4abc2927",
    "tags": []
   },
   "outputs": [],
   "source": [
    "# puedo agregar el comando hue\n",
    "sns.pairplot(data = tips, hue = 'sex')\n",
    "plt.show()"
   ]
  },
  {
   "cell_type": "code",
   "execution_count": null,
   "metadata": {
    "cell_id": "76e9c35d6bec4388b60df8a611625212",
    "deepnote_app_coordinates": {
     "h": 5,
     "w": 12,
     "x": 0,
     "y": 0
    },
    "deepnote_cell_type": "code",
    "deepnote_to_be_reexecuted": true,
    "execution_millis": 2205,
    "execution_start": 1654123858242,
    "source_hash": "5fdabc96",
    "tags": []
   },
   "outputs": [],
   "source": [
    "# puedo agregar el comando palette\n",
    "sns.pairplot(data = tips, hue = 'sex', palette = 'bright')\n",
    "plt.show()"
   ]
  },
  {
   "cell_type": "code",
   "execution_count": null,
   "metadata": {
    "cell_id": "c50c8ecb2c79461cbd15f18e5c5b9186",
    "deepnote_app_coordinates": {
     "h": 5,
     "w": 12,
     "x": 0,
     "y": 0
    },
    "deepnote_cell_type": "code",
    "deepnote_to_be_reexecuted": true,
    "execution_millis": 1865,
    "execution_start": 1654123890237,
    "source_hash": "89322cff",
    "tags": []
   },
   "outputs": [],
   "source": [
    "# puedo agregar el comando corner para no tener información duplicada\n",
    "sns.pairplot(data = tips, hue = 'sex', palette = 'bright', corner = True)\n",
    "plt.show()"
   ]
  },
  {
   "cell_type": "markdown",
   "metadata": {
    "cell_id": "adcdf2592bd1451fa1c333a82ab8eda3",
    "deepnote_app_coordinates": {
     "h": 5,
     "w": 12,
     "x": 0,
     "y": 0
    },
    "deepnote_cell_type": "markdown",
    "tags": []
   },
   "source": [
    "### - Heatmap"
   ]
  },
  {
   "cell_type": "markdown",
   "metadata": {
    "cell_id": "0348aa065a664307ae810ee804ccb824",
    "deepnote_app_coordinates": {
     "h": 5,
     "w": 12,
     "x": 0,
     "y": 0
    },
    "deepnote_cell_type": "markdown",
    "deepnote_to_be_reexecuted": true,
    "source_hash": "b623e53d",
    "tags": []
   },
   "source": [
    "Primero debemos revisar la correlación entre variables del dataset. Podemos hacer esto mediante la función corr de pandas."
   ]
  },
  {
   "cell_type": "markdown",
   "metadata": {
    "cell_id": "d45f95ae9bbe41b7b39db7c833985874",
    "deepnote_app_coordinates": {
     "h": 5,
     "w": 12,
     "x": 0,
     "y": 0
    },
    "deepnote_cell_type": "markdown",
    "tags": []
   },
   "source": [
    "Mas información sobre la función en -> https://pandas.pydata.org/docs/reference/api/pandas.DataFrame.corr.html"
   ]
  },
  {
   "cell_type": "code",
   "execution_count": null,
   "metadata": {
    "cell_id": "9aec9fa2e26240f9b0cb42e3829763f2",
    "deepnote_app_coordinates": {
     "h": 5,
     "w": 12,
     "x": 0,
     "y": 0
    },
    "deepnote_cell_type": "code",
    "deepnote_to_be_reexecuted": true,
    "execution_millis": 36,
    "execution_start": 1654177313810,
    "source_hash": "32d3c0da",
    "tags": []
   },
   "outputs": [],
   "source": [
    "tips.corr(numeric_only=True)"
   ]
  },
  {
   "cell_type": "code",
   "execution_count": null,
   "metadata": {
    "cell_id": "85fc997a627a49c4983b1e723f3477ef",
    "deepnote_app_coordinates": {
     "h": 5,
     "w": 12,
     "x": 0,
     "y": 0
    },
    "deepnote_cell_type": "code",
    "deepnote_to_be_reexecuted": true,
    "execution_millis": 235,
    "execution_start": 1654177656571,
    "source_hash": "539ab8a2",
    "tags": []
   },
   "outputs": [],
   "source": [
    "# Grafico de heatmap usando seaborn\n",
    "sns.heatmap(tips.corr(numeric_only=True))\n",
    "plt.show()"
   ]
  },
  {
   "cell_type": "code",
   "execution_count": null,
   "metadata": {
    "cell_id": "beeb50b37b8940cc9fd133e859b111d2",
    "deepnote_app_coordinates": {
     "h": 5,
     "w": 12,
     "x": 0,
     "y": 0
    },
    "deepnote_cell_type": "code",
    "deepnote_to_be_reexecuted": true,
    "execution_millis": 282,
    "execution_start": 1654178215432,
    "source_hash": "4c4bf4b1",
    "tags": []
   },
   "outputs": [],
   "source": [
    "# Utilizando el comando annot puedo ver el valor de correlación entre variables dentro de cada cuadro\n",
    "sns.heatmap(tips.corr(numeric_only=True), annot = True)\n",
    "plt.show()"
   ]
  },
  {
   "cell_type": "code",
   "execution_count": null,
   "metadata": {
    "cell_id": "530a1f714f394f27a705f73dce567b8b",
    "deepnote_app_coordinates": {
     "h": 5,
     "w": 12,
     "x": 0,
     "y": 0
    },
    "deepnote_cell_type": "code",
    "deepnote_to_be_reexecuted": true,
    "execution_millis": 264,
    "execution_start": 1654178326767,
    "source_hash": "f92538ca",
    "tags": []
   },
   "outputs": [],
   "source": [
    "# También puedo cambiarle el mapa de colores con el comando coolwarm\n",
    "sns.heatmap(tips.corr(numeric_only=True), annot = True, cmap = 'coolwarm')\n",
    "plt.show()"
   ]
  },
  {
   "cell_type": "code",
   "execution_count": null,
   "metadata": {
    "cell_id": "a4aa0f059ec54ba2aca75f9c803bec03",
    "deepnote_app_coordinates": {
     "h": 5,
     "w": 12,
     "x": 0,
     "y": 0
    },
    "deepnote_cell_type": "code",
    "deepnote_to_be_reexecuted": true,
    "execution_millis": 318,
    "execution_start": 1654178389199,
    "source_hash": "30f0dd0c",
    "tags": []
   },
   "outputs": [],
   "source": [
    "# Con otro color\n",
    "sns.heatmap(tips.corr(numeric_only=True), annot = True, cmap = 'YlGnBu')\n",
    "plt.show()"
   ]
  },
  {
   "cell_type": "code",
   "execution_count": null,
   "metadata": {
    "cell_id": "47c77bbc2146443a955cb69f77a53195",
    "deepnote_app_coordinates": {
     "h": 5,
     "w": 12,
     "x": 0,
     "y": 0
    },
    "deepnote_cell_type": "code",
    "deepnote_to_be_reexecuted": true,
    "execution_millis": 334,
    "execution_start": 1654178419005,
    "source_hash": "10d50bdf",
    "tags": []
   },
   "outputs": [],
   "source": [
    "# Con otro color\n",
    "sns.heatmap(tips.corr(numeric_only=True), annot = True, cmap = 'Blues')\n",
    "plt.show()"
   ]
  },
  {
   "cell_type": "code",
   "execution_count": null,
   "metadata": {
    "cell_id": "8031d2faceb246ef8cac82c35e41cc45",
    "deepnote_app_coordinates": {
     "h": 5,
     "w": 12,
     "x": 0,
     "y": 0
    },
    "deepnote_cell_type": "code",
    "deepnote_to_be_reexecuted": true,
    "source_hash": "b8c7899e",
    "tags": []
   },
   "outputs": [],
   "source": [
    "# Con otro color\n",
    "sns.heatmap(tips.corr(numeric_only=True), annot = True, cmap = 'BuPu')\n",
    "plt.show()"
   ]
  },
  {
   "cell_type": "code",
   "execution_count": null,
   "metadata": {
    "cell_id": "785790a5cdb74242a0ce88115e89da92",
    "deepnote_app_coordinates": {
     "h": 5,
     "w": 12,
     "x": 0,
     "y": 0
    },
    "deepnote_cell_type": "code",
    "deepnote_to_be_reexecuted": true,
    "source_hash": "7eee1479",
    "tags": []
   },
   "outputs": [],
   "source": [
    "# Con otro color\n",
    "sns.heatmap(tips.corr(numeric_only=True), annot = True, cmap = 'Greens')\n",
    "plt.show()"
   ]
  },
  {
   "cell_type": "code",
   "execution_count": null,
   "metadata": {
    "cell_id": "f7a959f75a784b8e949dcb30bd0d8f61",
    "deepnote_app_coordinates": {
     "h": 5,
     "w": 12,
     "x": 0,
     "y": 0
    },
    "deepnote_cell_type": "code",
    "deepnote_to_be_reexecuted": true,
    "execution_millis": 817,
    "execution_start": 1654178820848,
    "source_hash": "daeaa1bd",
    "tags": []
   },
   "outputs": [],
   "source": [
    "# Luego para separar los cuadros y que el gráfico se vea más legible utilizaremos linewidths = 5\n",
    "sns.heatmap(tips.corr(numeric_only=True), annot = True, cmap = 'Greens', linewidths = 5)\n",
    "plt.show()"
   ]
  },
  {
   "cell_type": "markdown",
   "metadata": {
    "cell_id": "affa37fa01cc4fdbba954bd0ec515677",
    "deepnote_app_coordinates": {
     "h": 5,
     "w": 12,
     "x": 0,
     "y": 0
    },
    "deepnote_cell_type": "markdown",
    "tags": []
   },
   "source": [
    "### Resumen Matplotlib y Seaborn"
   ]
  },
  {
   "cell_type": "markdown",
   "metadata": {
    "cell_id": "e29a6d1420464a6ea7ad25a1e9bf7425",
    "deepnote_app_coordinates": {
     "h": 5,
     "w": 12,
     "x": 0,
     "y": 0
    },
    "deepnote_cell_type": "markdown",
    "tags": []
   },
   "source": [
    "Las posibilidades con Matplotlib y Seaborn son infinitas y dependen mucho de la imaginación y creatividad de cada uno para trabajar con distintos tipos de datos.\n",
    "\n",
    "Se pueden aprovechar los datasets de ejemplo que fueron integrados en la librería seaborn:\n",
    "\n",
    " - https://seaborn.pydata.org/generated/seaborn.load_dataset.html \n",
    " - https://github.com/mwaskom/seaborn-data \n",
    "\n"
   ]
  }
 ],
 "metadata": {
  "deepnote_app_layout": "article",
  "deepnote_execution_queue": [],
  "deepnote_notebook_id": "58c3ee5279e040f89b8b3607a1185673",
  "kernelspec": {
   "display_name": "Python 3 (ipykernel)",
   "language": "python",
   "name": "python3"
  },
  "language_info": {
   "codemirror_mode": {
    "name": "ipython",
    "version": 3
   },
   "file_extension": ".py",
   "mimetype": "text/x-python",
   "name": "python",
   "nbconvert_exporter": "python",
   "pygments_lexer": "ipython3",
   "version": "3.12.4"
  }
 },
 "nbformat": 4,
 "nbformat_minor": 4
}
