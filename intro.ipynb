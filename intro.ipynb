{
 "cells": [
  {
   "cell_type": "markdown",
   "id": "e2bc3588-6402-4433-82b6-a9c99d95a543",
   "metadata": {},
   "source": [
    "## **Ejercicio 1**\n",
    "### Explorando jupyter"
   ]
  },
  {
   "cell_type": "markdown",
   "id": "327dfdaf-41fb-46c3-958c-f9211528943c",
   "metadata": {},
   "source": [
    "1. Utilizando \"!\" al inicio nos permite ejecutar comandos del sistema"
   ]
  },
  {
   "cell_type": "code",
   "execution_count": 1,
   "id": "b2277683-8444-44d5-914c-0e1a784224e5",
   "metadata": {},
   "outputs": [
    {
     "name": "stdout",
     "output_type": "stream",
     "text": [
      "v1c4r10us\n"
     ]
    }
   ],
   "source": [
    "#Obtener el usuario actual del sistema y sus privilegios\n",
    "!whoami"
   ]
  },
  {
   "cell_type": "code",
   "execution_count": 2,
   "id": "99fd4919-31a4-4b2c-a416-6b36665e3c84",
   "metadata": {},
   "outputs": [
    {
     "name": "stdout",
     "output_type": "stream",
     "text": [
      "Python 3.12.6\n"
     ]
    }
   ],
   "source": [
    "#Obtener la versión de python actualmente utilizada\n",
    "!python --version"
   ]
  },
  {
   "cell_type": "code",
   "execution_count": 3,
   "id": "c6a0ccc4-8e12-4bf2-a7e5-6e5e2a22327a",
   "metadata": {},
   "outputs": [
    {
     "name": "stdout",
     "output_type": "stream",
     "text": [
      "/home/v1c4r10us/Projects/ba_course\n"
     ]
    }
   ],
   "source": [
    "#Obtener el directorio actual donde nos encontramos\n",
    "#!cd #aplica para windows\n",
    "!pwd #aplica para unix"
   ]
  },
  {
   "cell_type": "code",
   "execution_count": 4,
   "id": "51992657-a056-4ef6-a440-2edff1c4f604",
   "metadata": {},
   "outputs": [
    {
     "name": "stdout",
     "output_type": "stream",
     "text": [
      "pip 24.0 from /home/v1c4r10us/Projects/ba_course/venv/lib/python3.12/site-packages/pip (python 3.12)\n"
     ]
    }
   ],
   "source": [
    "#Obtener la versión del gestor de paquetes de python\n",
    "!pip --version"
   ]
  },
  {
   "cell_type": "code",
   "execution_count": 5,
   "id": "7aef928e-bae2-4717-9eaa-d3d347d3d528",
   "metadata": {},
   "outputs": [
    {
     "name": "stdout",
     "output_type": "stream",
     "text": [
      "anyio==4.4.0\n",
      "argon2-cffi==23.1.0\n",
      "argon2-cffi-bindings==21.2.0\n",
      "arrow==1.3.0\n",
      "asttokens==2.4.1\n",
      "async-lru==2.0.4\n",
      "attrs==24.2.0\n",
      "babel==2.16.0\n",
      "beautifulsoup4==4.12.3\n",
      "bleach==6.1.0\n",
      "certifi==2024.8.30\n",
      "cffi==1.17.1\n",
      "charset-normalizer==3.3.2\n",
      "comm==0.2.2\n",
      "contourpy==1.3.0\n",
      "cycler==0.12.1\n",
      "debugpy==1.8.5\n",
      "decorator==5.1.1\n",
      "defusedxml==0.7.1\n",
      "executing==2.1.0\n",
      "fastjsonschema==2.20.0\n",
      "fonttools==4.54.1\n",
      "fqdn==1.5.1\n",
      "h11==0.14.0\n",
      "httpcore==1.0.5\n",
      "httpx==0.27.2\n",
      "idna==3.8\n",
      "ipykernel==6.29.5\n",
      "ipython==8.27.0\n",
      "ipywidgets==8.1.5\n",
      "isoduration==20.11.0\n",
      "jedi==0.19.1\n",
      "Jinja2==3.1.4\n",
      "joblib==1.4.2\n",
      "json5==0.9.25\n",
      "jsonpointer==3.0.0\n",
      "jsonschema==4.23.0\n",
      "jsonschema-specifications==2023.12.1\n",
      "jupyter==1.1.1\n",
      "jupyter-console==6.6.3\n",
      "jupyter-events==0.10.0\n",
      "jupyter-lsp==2.2.5\n",
      "jupyter_client==8.6.2\n",
      "jupyter_core==5.7.2\n",
      "jupyter_server==2.14.2\n",
      "jupyter_server_terminals==0.5.3\n",
      "jupyterlab==4.2.5\n",
      "jupyterlab_pygments==0.3.0\n",
      "jupyterlab_server==2.27.3\n",
      "jupyterlab_widgets==3.0.13\n",
      "kiwisolver==1.4.7\n",
      "MarkupSafe==2.1.5\n",
      "matplotlib==3.9.2\n",
      "matplotlib-inline==0.1.7\n",
      "mistune==3.0.2\n",
      "nbclient==0.10.0\n",
      "nbconvert==7.16.4\n",
      "nbformat==5.10.4\n",
      "nest-asyncio==1.6.0\n",
      "notebook==7.2.2\n",
      "notebook_shim==0.2.4\n",
      "numpy==2.1.1\n",
      "overrides==7.7.0\n",
      "packaging==24.1\n",
      "pandas==2.2.3\n",
      "pandocfilters==1.5.1\n",
      "parso==0.8.4\n",
      "pexpect==4.9.0\n",
      "pillow==10.4.0\n",
      "platformdirs==4.2.2\n",
      "prometheus_client==0.20.0\n",
      "prompt_toolkit==3.0.47\n",
      "psutil==6.0.0\n",
      "ptyprocess==0.7.0\n",
      "pure_eval==0.2.3\n",
      "pycparser==2.22\n",
      "Pygments==2.18.0\n",
      "pyparsing==3.1.4\n",
      "python-dateutil==2.9.0.post0\n",
      "python-json-logger==2.0.7\n",
      "pytz==2024.2\n",
      "PyYAML==6.0.2\n",
      "pyzmq==26.2.0\n",
      "referencing==0.35.1\n",
      "requests==2.32.3\n",
      "rfc3339-validator==0.1.4\n",
      "rfc3986-validator==0.1.1\n",
      "rpds-py==0.20.0\n",
      "scikit-learn==1.5.2\n",
      "scipy==1.14.1\n",
      "seaborn==0.13.2\n",
      "Send2Trash==1.8.3\n",
      "setuptools==74.1.2\n",
      "six==1.16.0\n",
      "sniffio==1.3.1\n",
      "soupsieve==2.6\n",
      "stack-data==0.6.3\n",
      "terminado==0.18.1\n",
      "threadpoolctl==3.5.0\n",
      "tinycss2==1.3.0\n",
      "tornado==6.4.1\n",
      "traitlets==5.14.3\n",
      "types-python-dateutil==2.9.0.20240821\n",
      "tzdata==2024.2\n",
      "uri-template==1.3.0\n",
      "urllib3==2.2.2\n",
      "wcwidth==0.2.13\n",
      "webcolors==24.8.0\n",
      "webencodings==0.5.1\n",
      "websocket-client==1.8.0\n",
      "widgetsnbextension==4.0.13\n"
     ]
    }
   ],
   "source": [
    "!pip freeze"
   ]
  },
  {
   "cell_type": "code",
   "execution_count": 7,
   "id": "5f9d85c5-af0b-4d60-8c42-bc464856635e",
   "metadata": {},
   "outputs": [
    {
     "name": "stdout",
     "output_type": "stream",
     "text": [
      "pandas==2.2.3\n"
     ]
    }
   ],
   "source": [
    "#Listar todas las librerias instaladas\n",
    "!pip freeze | grep pandas # For unix\n",
    "#!pip freeze | findstr numpy # For windows"
   ]
  },
  {
   "cell_type": "markdown",
   "id": "c07f9260-a034-437f-a25f-ad3d2f26cb5c",
   "metadata": {},
   "source": [
    "2. También podemos insertar expresiones matemáticas como fórmulas utilizando el delimitador `$`:  $\\sqrt{3x-1}+(1+x)^2$"
   ]
  },
  {
   "cell_type": "markdown",
   "id": "2f706619-cc75-4398-b063-1aec92a947a5",
   "metadata": {},
   "source": [
    "3. Aquí otro ejemplo: **The Cauchy-Schwarz Inequality**\r\n",
    "$$\\left( \\sum_{k=1}^n a_k b_k \\right)^2 \\leq \\left( \\sum_{k=1}^n a_k^2 \\right) \\left( \\sum_{k=1}^n b_k^2 \\right)$$"
   ]
  },
  {
   "cell_type": "markdown",
   "id": "72629913-cf3e-4032-886e-3d15a13dfc89",
   "metadata": {},
   "source": [
    "4. También podemos visualizar fragmentos de código: \n",
    "```python\n",
    "import numpy as np\n",
    "```\n",
    "\n",
    "```bash\n",
    "echo \"Hello world!\" >> saludo.txt\n",
    "```\n",
    "\n",
    "```powershell\n",
    "Set-ExecutionPolicy Unrestricted\n",
    "```"
   ]
  },
  {
   "cell_type": "markdown",
   "id": "7125a31d-7e08-4a75-be41-e2d0aec76732",
   "metadata": {},
   "source": [
    "5. Tablas en markdown:\n",
    "   \n",
    "| Left-Aligned  | Center Aligned  | Right Aligned |\n",
    "|:------------- |:---------------:| -------------:|\n",
    "| Row 1         | Cell 2          | Cell 3        |\n",
    "| Row 2         | Cell 5          | Cell 6        |\n",
    "| Row 3         | Cell 8          | Cell 9        |"
   ]
  },
  {
   "cell_type": "markdown",
   "id": "fc28abfd-666b-4631-9587-86545b2d0eaf",
   "metadata": {},
   "source": [
    "6. Imágenes embebidas:\n",
    "![imagen_primera](https://dezyre.gumlet.io/images/Java+vs+Python+for+Data+Science/Python+Data+Science+Libraries.png?w=1100&dpr=1.0)"
   ]
  },
  {
   "cell_type": "markdown",
   "id": "59c46089-5c9b-4321-917f-adcd62011ad1",
   "metadata": {},
   "source": [
    "7. Bullets\n",
    "\n",
    "+ **Bold**\n",
    "+ *Italic*\n",
    "+ ~~Strike~~\n",
    "+ [Link](https://www.anaconda.com/download)"
   ]
  },
  {
   "cell_type": "markdown",
   "id": "7eb1aeae-fa08-41ae-9eff-2bb208c7a07b",
   "metadata": {},
   "source": [
    "## Ejercicio 2"
   ]
  },
  {
   "cell_type": "markdown",
   "id": "199cf7ff-ac81-4e8e-80d0-a65450ae614b",
   "metadata": {},
   "source": [
    "1. Tipos de datos numéricos"
   ]
  },
  {
   "cell_type": "code",
   "execution_count": null,
   "id": "2e5058d2-223d-4f32-8c9b-c8a857bd5438",
   "metadata": {},
   "outputs": [],
   "source": [
    "a=3\n",
    "b=3.1416\n",
    "c=1+0.5j"
   ]
  },
  {
   "cell_type": "code",
   "execution_count": null,
   "id": "203c0bf2-9822-433b-81ca-84ea586e5cba",
   "metadata": {},
   "outputs": [],
   "source": [
    "print(type(a))\n",
    "print(type(b))\n",
    "print(type(c))"
   ]
  },
  {
   "cell_type": "code",
   "execution_count": null,
   "id": "f190de45-d417-4554-848d-f2b10ccdfdc4",
   "metadata": {},
   "outputs": [],
   "source": [
    "a=5.4"
   ]
  },
  {
   "cell_type": "code",
   "execution_count": null,
   "id": "2b6f16af-1599-49e1-8bde-e064b3bad9f5",
   "metadata": {},
   "outputs": [],
   "source": [
    "print(type(a))"
   ]
  },
  {
   "cell_type": "code",
   "execution_count": null,
   "id": "e1a41ae7-c72c-45c7-a3a4-e0e558f04ec0",
   "metadata": {},
   "outputs": [],
   "source": [
    "d=a+b+c\n",
    "print(d)\n",
    "print(type(d))"
   ]
  },
  {
   "cell_type": "markdown",
   "id": "581ea091-1906-4354-92c2-fbf427781cb5",
   "metadata": {},
   "source": [
    "2. Tipos de datos cadena de caracteres"
   ]
  },
  {
   "cell_type": "code",
   "execution_count": null,
   "id": "12e1c57c-0a44-4e7b-bc14-5c0cb9cd23a9",
   "metadata": {},
   "outputs": [],
   "source": [
    "e='Edgard'\n",
    "print(type(e))\n",
    "f='Hola ' + e\n",
    "print(f)\n",
    "print(type(f))"
   ]
  },
  {
   "cell_type": "code",
   "execution_count": null,
   "id": "61f36f77-fae2-4478-a776-188850c39a44",
   "metadata": {},
   "outputs": [],
   "source": [
    "x=input('Indique su nombre: ')\n",
    "print('Te llamas '+x)"
   ]
  },
  {
   "cell_type": "markdown",
   "id": "c288b25f-d84a-4468-98f1-0adff44bb32c",
   "metadata": {},
   "source": [
    "3. Tipos de datos booleanos"
   ]
  },
  {
   "cell_type": "code",
   "execution_count": null,
   "id": "0ecbc658-9c55-47c1-8e41-e498f27897d5",
   "metadata": {},
   "outputs": [],
   "source": [
    "x=True\n",
    "print(x)\n",
    "print(type(x))"
   ]
  },
  {
   "cell_type": "code",
   "execution_count": null,
   "id": "f2537793-0434-4d9c-81be-753184023c56",
   "metadata": {},
   "outputs": [],
   "source": [
    "x=False\n",
    "if x:\n",
    "    print('es Verdadero')\n",
    "    print(type(x))\n",
    "else:\n",
    "    print('es Falso')\n",
    "    print(type(x))"
   ]
  },
  {
   "cell_type": "markdown",
   "id": "cef67f3d-1a10-4b77-84d8-45523f6fe8a6",
   "metadata": {},
   "source": [
    "## Intellisense"
   ]
  },
  {
   "cell_type": "code",
   "execution_count": null,
   "id": "b4b2e290-f463-410f-b807-f5ca0f43c0d8",
   "metadata": {},
   "outputs": [],
   "source": [
    "c=2+3j"
   ]
  },
  {
   "cell_type": "code",
   "execution_count": null,
   "id": "8ff300e8-1cc5-4278-a433-a8272c37af6d",
   "metadata": {},
   "outputs": [],
   "source": [
    "c.conjugate()"
   ]
  },
  {
   "cell_type": "code",
   "execution_count": null,
   "id": "70541da3-d0a7-4de2-8f74-4129041e7706",
   "metadata": {},
   "outputs": [],
   "source": [
    "c.real"
   ]
  },
  {
   "cell_type": "code",
   "execution_count": null,
   "id": "9b17a69d-bf02-4e70-8243-8ec76e014fcd",
   "metadata": {},
   "outputs": [],
   "source": [
    "c.imag"
   ]
  }
 ],
 "metadata": {
  "kernelspec": {
   "display_name": "Python 3 (ipykernel)",
   "language": "python",
   "name": "python3"
  },
  "language_info": {
   "codemirror_mode": {
    "name": "ipython",
    "version": 3
   },
   "file_extension": ".py",
   "mimetype": "text/x-python",
   "name": "python",
   "nbconvert_exporter": "python",
   "pygments_lexer": "ipython3",
   "version": "3.12.6"
  }
 },
 "nbformat": 4,
 "nbformat_minor": 5
}
