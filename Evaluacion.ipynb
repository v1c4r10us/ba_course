{
 "cells": [
  {
   "cell_type": "markdown",
   "id": "ea61bd45-d414-4dca-8605-0c0f32e5476a",
   "metadata": {},
   "source": [
    "# EVALUACIÓN"
   ]
  },
  {
   "cell_type": "markdown",
   "id": "3869d687-ec41-4016-a590-d8be7bcfeddd",
   "metadata": {},
   "source": [
    "1. Crear una matriz 20x20 de numeros aleatorios enteros entre 0 a 1000 y obtenga el máximo"
   ]
  },
  {
   "cell_type": "code",
   "execution_count": 13,
   "id": "26eeb421-fd46-4142-a0ed-cbea31947b58",
   "metadata": {},
   "outputs": [
    {
     "data": {
      "text/plain": [
       "np.int64(998)"
      ]
     },
     "execution_count": 13,
     "metadata": {},
     "output_type": "execute_result"
    }
   ],
   "source": [
    "x=np.random.randint(0,1000,(20,20))\n",
    "x.max()"
   ]
  },
  {
   "cell_type": "markdown",
   "id": "9db14309-b728-460d-bd75-cf590795da46",
   "metadata": {},
   "source": [
    "2. Crear una matriz 4x5 de numeros reales aleatorios entre 0 y 1"
   ]
  },
  {
   "cell_type": "code",
   "execution_count": 19,
   "id": "b64dc4bd-05fa-4dff-a422-76c5fce7c3ea",
   "metadata": {},
   "outputs": [
    {
     "data": {
      "text/plain": [
       "array([[0.12741995, 0.49529482, 0.07662931, 0.69120988, 0.71039754],\n",
       "       [0.78102829, 0.802179  , 0.9707895 , 0.62250213, 0.73733008],\n",
       "       [0.03782714, 0.11786916, 0.99904653, 0.27185086, 0.48153347],\n",
       "       [0.74186678, 0.85296039, 0.89949018, 0.6765274 , 0.29441859]])"
      ]
     },
     "execution_count": 19,
     "metadata": {},
     "output_type": "execute_result"
    }
   ],
   "source": [
    "x=np.random.rand(4,5)\n",
    "x"
   ]
  },
  {
   "cell_type": "markdown",
   "id": "e39dcbb2-4102-4eb0-b86b-40c4b41fd252",
   "metadata": {},
   "source": [
    "3. Crear una lista de 10 tuplas `(m,n)`; `m` es un numero aleatorio entero entre 1 y 100, `n` es un valor booleano que indica si `m` es divisible por 2 (`True`: Divisible, `False`: No divisible). Hacer esta operación en una sola linea de codigo."
   ]
  },
  {
   "cell_type": "code",
   "execution_count": 31,
   "id": "5d666c49-0828-4487-a60d-e4c8c8a45953",
   "metadata": {},
   "outputs": [
    {
     "data": {
      "text/plain": [
       "[(19, False),\n",
       " (98, True),\n",
       " (12, True),\n",
       " (76, True),\n",
       " (32, True),\n",
       " (19, False),\n",
       " (62, True),\n",
       " (55, False),\n",
       " (39, False),\n",
       " (37, False)]"
      ]
     },
     "execution_count": 31,
     "metadata": {},
     "output_type": "execute_result"
    }
   ],
   "source": [
    "a=[(int(i), int(i)%2==0) for i in np.random.randint(1,100,10)]\n",
    "a"
   ]
  },
  {
   "cell_type": "markdown",
   "id": "6a23434f-9270-4f14-9546-70fb7c5c73d3",
   "metadata": {},
   "source": [
    "4. Crear una lista de 10 tuplas `(c1,c2,h)` que representan a los 2 catetos y a la hipotenusa de un triangulo rectángulo. `c1` y `c2` son los catetos cuyos valores son números enteros aleatorios entre 1 y 10, respectivamente. La hipotenusa `h` se calculará acorde al teorema de pitágoras: $h=\\sqrt{c_{1}^{2}+c_{2}^{2}}$ . Hacer esta operacion en una sola linea de código."
   ]
  },
  {
   "cell_type": "code",
   "execution_count": 33,
   "id": "4024f4e4-a445-4327-be76-5a7b306ea9e9",
   "metadata": {},
   "outputs": [
    {
     "data": {
      "text/plain": [
       "[(5, 3, 5.830951894845301),\n",
       " (10, 8, 12.806248474865697),\n",
       " (5, 8, 9.433981132056603),\n",
       " (7, 3, 7.615773105863909),\n",
       " (7, 4, 8.06225774829855),\n",
       " (7, 3, 7.615773105863909),\n",
       " (6, 10, 11.661903789690601),\n",
       " (9, 6, 10.816653826391969),\n",
       " (7, 8, 10.63014581273465),\n",
       " (8, 6, 10.0)]"
      ]
     },
     "execution_count": 33,
     "metadata": {},
     "output_type": "execute_result"
    }
   ],
   "source": [
    "p=[(int(x), int(y), (int(x)**2+int(y)**2)**0.5) for x,y in zip(np.random.randint(1,11,10), np.random.randint(1,11,10))]\n",
    "p"
   ]
  },
  {
   "cell_type": "markdown",
   "id": "21c0410f-1c14-433a-b780-363a6bcca7e4",
   "metadata": {},
   "source": [
    "5. Crear un diccionario cuyas claves sean los meses del año y sus valores la longitud de cada clave. Hacer esta operacion en una sola linea de código."
   ]
  },
  {
   "cell_type": "code",
   "execution_count": 3,
   "id": "b3a9a717-4c87-4cd0-9bdc-168f27a5afe6",
   "metadata": {},
   "outputs": [
    {
     "data": {
      "text/plain": [
       "{'enero': 5,\n",
       " 'febrero': 7,\n",
       " 'marzo': 5,\n",
       " 'abril': 5,\n",
       " 'mayo': 4,\n",
       " 'junio': 5,\n",
       " 'julio': 5,\n",
       " 'agosto': 6,\n",
       " 'setiembre': 9,\n",
       " 'octubre': 7,\n",
       " 'noviembre': 9,\n",
       " 'diciembre': 9}"
      ]
     },
     "execution_count": 3,
     "metadata": {},
     "output_type": "execute_result"
    }
   ],
   "source": [
    "m={i: len(i) for i in ['enero', 'febrero', 'marzo', 'abril', 'mayo', 'junio', 'julio','agosto','setiembre', 'octubre', 'noviembre', 'diciembre']}\n",
    "m"
   ]
  },
  {
   "cell_type": "markdown",
   "id": "d4abdf82-e16b-4758-b7fe-d27a03752570",
   "metadata": {},
   "source": [
    "6. Convertir el resultado del ejercicio 5 a una serie cuyos indices sean las claves del diccionario"
   ]
  },
  {
   "cell_type": "code",
   "execution_count": 4,
   "id": "22657325-c5c0-4b9e-84c7-e35376ce4968",
   "metadata": {},
   "outputs": [],
   "source": [
    "import pandas as pd"
   ]
  },
  {
   "cell_type": "code",
   "execution_count": 5,
   "id": "69d303f2-893a-4603-9951-bae0cbca594b",
   "metadata": {},
   "outputs": [
    {
     "data": {
      "text/plain": [
       "enero        5\n",
       "febrero      7\n",
       "marzo        5\n",
       "abril        5\n",
       "mayo         4\n",
       "junio        5\n",
       "julio        5\n",
       "agosto       6\n",
       "setiembre    9\n",
       "octubre      7\n",
       "noviembre    9\n",
       "diciembre    9\n",
       "dtype: int64"
      ]
     },
     "execution_count": 5,
     "metadata": {},
     "output_type": "execute_result"
    }
   ],
   "source": [
    "s=pd.Series(m)\n",
    "s"
   ]
  },
  {
   "cell_type": "markdown",
   "id": "7de13f28-8212-46b9-9618-d9a608827330",
   "metadata": {},
   "source": [
    "7. Convertir el resultado del ejercicio 5 a un dataframe, cuyos nombres de columnas sean `'mes'` y `'longitud'` respectivamente. En una sola linea de código."
   ]
  },
  {
   "cell_type": "code",
   "execution_count": 6,
   "id": "4053acca-7552-4329-aa51-465aa65ae1ae",
   "metadata": {},
   "outputs": [
    {
     "data": {
      "text/html": [
       "<div>\n",
       "<style scoped>\n",
       "    .dataframe tbody tr th:only-of-type {\n",
       "        vertical-align: middle;\n",
       "    }\n",
       "\n",
       "    .dataframe tbody tr th {\n",
       "        vertical-align: top;\n",
       "    }\n",
       "\n",
       "    .dataframe thead th {\n",
       "        text-align: right;\n",
       "    }\n",
       "</style>\n",
       "<table border=\"1\" class=\"dataframe\">\n",
       "  <thead>\n",
       "    <tr style=\"text-align: right;\">\n",
       "      <th></th>\n",
       "      <th>mes</th>\n",
       "      <th>longitud</th>\n",
       "    </tr>\n",
       "  </thead>\n",
       "  <tbody>\n",
       "    <tr>\n",
       "      <th>0</th>\n",
       "      <td>enero</td>\n",
       "      <td>5</td>\n",
       "    </tr>\n",
       "    <tr>\n",
       "      <th>1</th>\n",
       "      <td>febrero</td>\n",
       "      <td>7</td>\n",
       "    </tr>\n",
       "    <tr>\n",
       "      <th>2</th>\n",
       "      <td>marzo</td>\n",
       "      <td>5</td>\n",
       "    </tr>\n",
       "    <tr>\n",
       "      <th>3</th>\n",
       "      <td>abril</td>\n",
       "      <td>5</td>\n",
       "    </tr>\n",
       "    <tr>\n",
       "      <th>4</th>\n",
       "      <td>mayo</td>\n",
       "      <td>4</td>\n",
       "    </tr>\n",
       "    <tr>\n",
       "      <th>5</th>\n",
       "      <td>junio</td>\n",
       "      <td>5</td>\n",
       "    </tr>\n",
       "    <tr>\n",
       "      <th>6</th>\n",
       "      <td>julio</td>\n",
       "      <td>5</td>\n",
       "    </tr>\n",
       "    <tr>\n",
       "      <th>7</th>\n",
       "      <td>agosto</td>\n",
       "      <td>6</td>\n",
       "    </tr>\n",
       "    <tr>\n",
       "      <th>8</th>\n",
       "      <td>setiembre</td>\n",
       "      <td>9</td>\n",
       "    </tr>\n",
       "    <tr>\n",
       "      <th>9</th>\n",
       "      <td>octubre</td>\n",
       "      <td>7</td>\n",
       "    </tr>\n",
       "    <tr>\n",
       "      <th>10</th>\n",
       "      <td>noviembre</td>\n",
       "      <td>9</td>\n",
       "    </tr>\n",
       "    <tr>\n",
       "      <th>11</th>\n",
       "      <td>diciembre</td>\n",
       "      <td>9</td>\n",
       "    </tr>\n",
       "  </tbody>\n",
       "</table>\n",
       "</div>"
      ],
      "text/plain": [
       "          mes  longitud\n",
       "0       enero         5\n",
       "1     febrero         7\n",
       "2       marzo         5\n",
       "3       abril         5\n",
       "4        mayo         4\n",
       "5       junio         5\n",
       "6       julio         5\n",
       "7      agosto         6\n",
       "8   setiembre         9\n",
       "9     octubre         7\n",
       "10  noviembre         9\n",
       "11  diciembre         9"
      ]
     },
     "execution_count": 6,
     "metadata": {},
     "output_type": "execute_result"
    }
   ],
   "source": [
    "d=pd.DataFrame(zip(m.keys(),m.values()),columns=['mes','longitud'])\n",
    "d"
   ]
  },
  {
   "cell_type": "markdown",
   "id": "b5334d16-d197-4966-87fe-6d16cd57733b",
   "metadata": {},
   "source": [
    "8. Añadir una columna denominada `'año'` al ejercicio 7 cuyos valores correspondan al año actual."
   ]
  },
  {
   "cell_type": "code",
   "execution_count": 7,
   "id": "61238745-a5be-4ffd-80f1-9f5d39619ac8",
   "metadata": {},
   "outputs": [
    {
     "data": {
      "text/html": [
       "<div>\n",
       "<style scoped>\n",
       "    .dataframe tbody tr th:only-of-type {\n",
       "        vertical-align: middle;\n",
       "    }\n",
       "\n",
       "    .dataframe tbody tr th {\n",
       "        vertical-align: top;\n",
       "    }\n",
       "\n",
       "    .dataframe thead th {\n",
       "        text-align: right;\n",
       "    }\n",
       "</style>\n",
       "<table border=\"1\" class=\"dataframe\">\n",
       "  <thead>\n",
       "    <tr style=\"text-align: right;\">\n",
       "      <th></th>\n",
       "      <th>mes</th>\n",
       "      <th>longitud</th>\n",
       "      <th>año</th>\n",
       "    </tr>\n",
       "  </thead>\n",
       "  <tbody>\n",
       "    <tr>\n",
       "      <th>0</th>\n",
       "      <td>enero</td>\n",
       "      <td>5</td>\n",
       "      <td>2024</td>\n",
       "    </tr>\n",
       "    <tr>\n",
       "      <th>1</th>\n",
       "      <td>febrero</td>\n",
       "      <td>7</td>\n",
       "      <td>2024</td>\n",
       "    </tr>\n",
       "    <tr>\n",
       "      <th>2</th>\n",
       "      <td>marzo</td>\n",
       "      <td>5</td>\n",
       "      <td>2024</td>\n",
       "    </tr>\n",
       "    <tr>\n",
       "      <th>3</th>\n",
       "      <td>abril</td>\n",
       "      <td>5</td>\n",
       "      <td>2024</td>\n",
       "    </tr>\n",
       "    <tr>\n",
       "      <th>4</th>\n",
       "      <td>mayo</td>\n",
       "      <td>4</td>\n",
       "      <td>2024</td>\n",
       "    </tr>\n",
       "    <tr>\n",
       "      <th>5</th>\n",
       "      <td>junio</td>\n",
       "      <td>5</td>\n",
       "      <td>2024</td>\n",
       "    </tr>\n",
       "    <tr>\n",
       "      <th>6</th>\n",
       "      <td>julio</td>\n",
       "      <td>5</td>\n",
       "      <td>2024</td>\n",
       "    </tr>\n",
       "    <tr>\n",
       "      <th>7</th>\n",
       "      <td>agosto</td>\n",
       "      <td>6</td>\n",
       "      <td>2024</td>\n",
       "    </tr>\n",
       "    <tr>\n",
       "      <th>8</th>\n",
       "      <td>setiembre</td>\n",
       "      <td>9</td>\n",
       "      <td>2024</td>\n",
       "    </tr>\n",
       "    <tr>\n",
       "      <th>9</th>\n",
       "      <td>octubre</td>\n",
       "      <td>7</td>\n",
       "      <td>2024</td>\n",
       "    </tr>\n",
       "    <tr>\n",
       "      <th>10</th>\n",
       "      <td>noviembre</td>\n",
       "      <td>9</td>\n",
       "      <td>2024</td>\n",
       "    </tr>\n",
       "    <tr>\n",
       "      <th>11</th>\n",
       "      <td>diciembre</td>\n",
       "      <td>9</td>\n",
       "      <td>2024</td>\n",
       "    </tr>\n",
       "  </tbody>\n",
       "</table>\n",
       "</div>"
      ],
      "text/plain": [
       "          mes  longitud   año\n",
       "0       enero         5  2024\n",
       "1     febrero         7  2024\n",
       "2       marzo         5  2024\n",
       "3       abril         5  2024\n",
       "4        mayo         4  2024\n",
       "5       junio         5  2024\n",
       "6       julio         5  2024\n",
       "7      agosto         6  2024\n",
       "8   setiembre         9  2024\n",
       "9     octubre         7  2024\n",
       "10  noviembre         9  2024\n",
       "11  diciembre         9  2024"
      ]
     },
     "execution_count": 7,
     "metadata": {},
     "output_type": "execute_result"
    }
   ],
   "source": [
    "d['año']=2024\n",
    "d"
   ]
  },
  {
   "cell_type": "markdown",
   "id": "9883b0f6-2394-41a8-a0d9-1fbf1a7243b2",
   "metadata": {},
   "source": [
    "9. A partir del ejercicio 8 filtre los registros cuya `'longitud'`sea menor o igual a 5."
   ]
  },
  {
   "cell_type": "code",
   "execution_count": 8,
   "id": "67edbc31-6619-4c3a-9678-6f7360f47623",
   "metadata": {},
   "outputs": [
    {
     "data": {
      "text/html": [
       "<div>\n",
       "<style scoped>\n",
       "    .dataframe tbody tr th:only-of-type {\n",
       "        vertical-align: middle;\n",
       "    }\n",
       "\n",
       "    .dataframe tbody tr th {\n",
       "        vertical-align: top;\n",
       "    }\n",
       "\n",
       "    .dataframe thead th {\n",
       "        text-align: right;\n",
       "    }\n",
       "</style>\n",
       "<table border=\"1\" class=\"dataframe\">\n",
       "  <thead>\n",
       "    <tr style=\"text-align: right;\">\n",
       "      <th></th>\n",
       "      <th>mes</th>\n",
       "      <th>longitud</th>\n",
       "      <th>año</th>\n",
       "    </tr>\n",
       "  </thead>\n",
       "  <tbody>\n",
       "    <tr>\n",
       "      <th>0</th>\n",
       "      <td>enero</td>\n",
       "      <td>5</td>\n",
       "      <td>2024</td>\n",
       "    </tr>\n",
       "    <tr>\n",
       "      <th>2</th>\n",
       "      <td>marzo</td>\n",
       "      <td>5</td>\n",
       "      <td>2024</td>\n",
       "    </tr>\n",
       "    <tr>\n",
       "      <th>3</th>\n",
       "      <td>abril</td>\n",
       "      <td>5</td>\n",
       "      <td>2024</td>\n",
       "    </tr>\n",
       "    <tr>\n",
       "      <th>4</th>\n",
       "      <td>mayo</td>\n",
       "      <td>4</td>\n",
       "      <td>2024</td>\n",
       "    </tr>\n",
       "    <tr>\n",
       "      <th>5</th>\n",
       "      <td>junio</td>\n",
       "      <td>5</td>\n",
       "      <td>2024</td>\n",
       "    </tr>\n",
       "    <tr>\n",
       "      <th>6</th>\n",
       "      <td>julio</td>\n",
       "      <td>5</td>\n",
       "      <td>2024</td>\n",
       "    </tr>\n",
       "  </tbody>\n",
       "</table>\n",
       "</div>"
      ],
      "text/plain": [
       "     mes  longitud   año\n",
       "0  enero         5  2024\n",
       "2  marzo         5  2024\n",
       "3  abril         5  2024\n",
       "4   mayo         4  2024\n",
       "5  junio         5  2024\n",
       "6  julio         5  2024"
      ]
     },
     "execution_count": 8,
     "metadata": {},
     "output_type": "execute_result"
    }
   ],
   "source": [
    "d[d['longitud']<=5]"
   ]
  },
  {
   "cell_type": "markdown",
   "id": "5cfcd9b7-288e-4ee2-b8cd-5fdab470a940",
   "metadata": {},
   "source": [
    "10. Explique brevemente en que consiste el análisis univariado y multivariado en un EDA:\n",
    "    \n",
    "    + Análisis univariado: Consiste en analizar cada una de las variables de un dataset por separado.\n",
    "    + Análisis multivariado: Consiste en analizar distintas variables de un dataset de manera simultánea."
   ]
  },
  {
   "cell_type": "markdown",
   "id": "5a1c2315-7146-4606-921e-e6b5faad73bd",
   "metadata": {},
   "source": [
    "11. Explique la diferencia entre KPI y métrica:\n",
    "\n",
    "`Métrica` es todo valor que sea medible numéricamente en un proceso o negocio, mientras que `KPI` corresponde a una métrica medible en base a un objetivo o meta y que tiene un alto impacto en el desempeño de la empresa u organización."
   ]
  },
  {
   "cell_type": "markdown",
   "id": "21170e93-aa46-4422-bb33-cbfed0841ae7",
   "metadata": {},
   "source": [
    "12. Se le pide construir un calendario desde el '11-09-2024' hasta el '11-09-2025', ¿qué función DAX utilizaría para este fin?"
   ]
  },
  {
   "cell_type": "markdown",
   "id": "7f417348-6310-49c2-90b3-7b6a517332ae",
   "metadata": {},
   "source": [
    "```powershell\n",
    "CALENDAR('11-09-2024','11-09-2025')\n",
    "```"
   ]
  },
  {
   "cell_type": "code",
   "execution_count": null,
   "id": "3bb612ff-1848-422a-acb1-a194e27509e3",
   "metadata": {},
   "outputs": [],
   "source": []
  }
 ],
 "metadata": {
  "kernelspec": {
   "display_name": "Python 3 (ipykernel)",
   "language": "python",
   "name": "python3"
  },
  "language_info": {
   "codemirror_mode": {
    "name": "ipython",
    "version": 3
   },
   "file_extension": ".py",
   "mimetype": "text/x-python",
   "name": "python",
   "nbconvert_exporter": "python",
   "pygments_lexer": "ipython3",
   "version": "3.12.4"
  }
 },
 "nbformat": 4,
 "nbformat_minor": 5
}
