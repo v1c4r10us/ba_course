{
 "cells": [
  {
   "cell_type": "markdown",
   "id": "63441c72-e392-4a0f-ada9-f15d24ecfca2",
   "metadata": {},
   "source": [
    "# Numpy\n",
    "\n",
    "### 1. Storage Efficiency"
   ]
  },
  {
   "cell_type": "code",
   "execution_count": 4,
   "id": "2e7911f9-1d4d-4890-9aa6-7e873ab57b55",
   "metadata": {},
   "outputs": [
    {
     "name": "stdout",
     "output_type": "stream",
     "text": [
      "Size of np.array: 8112\n",
      "Size of list    : 8856\n"
     ]
    }
   ],
   "source": [
    "import numpy as np\n",
    "import sys\n",
    "\n",
    "narray = np.zeros(1000)\n",
    "mylist = []\n",
    "\n",
    "for i in range(1000):\n",
    "    mylist.append(narray[i])\n",
    "\n",
    "print(\"Size of np.array:\", sys.getsizeof(narray))\n",
    "print(\"Size of list    :\", sys.getsizeof(mylist))"
   ]
  },
  {
   "cell_type": "markdown",
   "id": "c0bff7c9-d98e-4716-b071-b0aaf0320ce6",
   "metadata": {},
   "source": [
    "### 2. Computational speed"
   ]
  },
  {
   "cell_type": "code",
   "execution_count": 5,
   "id": "edf99d3f-ca08-4694-a3a4-d719f0917cb7",
   "metadata": {},
   "outputs": [
    {
     "name": "stdout",
     "output_type": "stream",
     "text": [
      "Time taken to add Python lists:  0.07280993461608887\n",
      "Time taken to add Numpy arrays:  0.002868175506591797\n"
     ]
    }
   ],
   "source": [
    "import time  \n",
    "\n",
    "# Define two Python lists \n",
    "py_list1 = list(range(1000000)) \n",
    "py_list2 = list(range(1000000, 2000000))  \n",
    "\n",
    "# Define two Numpy arrays \n",
    "np_array1 = np.arange(1000000) \n",
    "np_array2 = np.arange(1000000, 2000000)  \n",
    "\n",
    "# Adding Python lists \n",
    "start_time = time.time() \n",
    "result_list = [a + b for a, b in zip(py_list1, py_list2)] \n",
    "print(\"Time taken to add Python lists: \", time.time() - start_time)  \n",
    "\n",
    "# Adding Numpy arrays \n",
    "start_time = time.time() \n",
    "result_array = np_array1 + np_array2 \n",
    "print(\"Time taken to add Numpy arrays: \", time.time() - start_time)"
   ]
  },
  {
   "cell_type": "markdown",
   "id": "d03298b8-663e-4c49-a5c1-b0effdbd00a4",
   "metadata": {},
   "source": [
    "### 3. Direct operations"
   ]
  },
  {
   "cell_type": "code",
   "execution_count": 6,
   "id": "2309d504-d084-40a8-982a-d03f251fdb67",
   "metadata": {},
   "outputs": [
    {
     "data": {
      "text/plain": [
       "list"
      ]
     },
     "execution_count": 6,
     "metadata": {},
     "output_type": "execute_result"
    }
   ],
   "source": [
    "lista=[1,2,3,4]\n",
    "type(lista)"
   ]
  },
  {
   "cell_type": "code",
   "execution_count": 7,
   "id": "bd5389f2-39c9-4596-9aeb-b7fd0f25d3fd",
   "metadata": {},
   "outputs": [
    {
     "data": {
      "text/plain": [
       "numpy.ndarray"
      ]
     },
     "execution_count": 7,
     "metadata": {},
     "output_type": "execute_result"
    }
   ],
   "source": [
    "n1 = np.array(lista)\n",
    "type(n1)"
   ]
  },
  {
   "cell_type": "code",
   "execution_count": 8,
   "id": "e27f8c5c-a6f5-4a2a-a295-102407f34483",
   "metadata": {},
   "outputs": [
    {
     "data": {
      "text/plain": [
       "array([1, 2, 3, 4])"
      ]
     },
     "execution_count": 8,
     "metadata": {},
     "output_type": "execute_result"
    }
   ],
   "source": [
    "n1"
   ]
  },
  {
   "cell_type": "code",
   "execution_count": 9,
   "id": "2ffddca5-0ef6-4d83-81f8-b2be8c68aaff",
   "metadata": {},
   "outputs": [],
   "source": [
    "n2 = np.array([5,6,7,8])"
   ]
  },
  {
   "cell_type": "code",
   "execution_count": 10,
   "id": "28d4f3b0-aa35-46d5-b9b3-ced1fc274f89",
   "metadata": {},
   "outputs": [
    {
     "data": {
      "text/plain": [
       "array([5, 6, 7, 8])"
      ]
     },
     "execution_count": 10,
     "metadata": {},
     "output_type": "execute_result"
    }
   ],
   "source": [
    "n2"
   ]
  },
  {
   "cell_type": "code",
   "execution_count": 11,
   "id": "7cc66ece-35d8-4684-a869-cb58216675ff",
   "metadata": {},
   "outputs": [
    {
     "data": {
      "text/plain": [
       "array([ 6,  8, 10, 12])"
      ]
     },
     "execution_count": 11,
     "metadata": {},
     "output_type": "execute_result"
    }
   ],
   "source": [
    "n1 + n2"
   ]
  },
  {
   "cell_type": "code",
   "execution_count": 12,
   "id": "a9c66fa1-0c27-47b5-b0ab-3451fc70fc38",
   "metadata": {},
   "outputs": [
    {
     "data": {
      "text/plain": [
       "array([-4, -4, -4, -4])"
      ]
     },
     "execution_count": 12,
     "metadata": {},
     "output_type": "execute_result"
    }
   ],
   "source": [
    "n1 - n2"
   ]
  },
  {
   "cell_type": "code",
   "execution_count": 13,
   "id": "8b7f311d-f95e-4ffe-9e13-8da4339c7183",
   "metadata": {
    "scrolled": true
   },
   "outputs": [
    {
     "data": {
      "text/plain": [
       "array([ 5, 12, 21, 32])"
      ]
     },
     "execution_count": 13,
     "metadata": {},
     "output_type": "execute_result"
    }
   ],
   "source": [
    "n1 * n2"
   ]
  },
  {
   "cell_type": "code",
   "execution_count": 14,
   "id": "110142bd-39a1-4072-9593-81a0c82967e8",
   "metadata": {},
   "outputs": [
    {
     "data": {
      "text/plain": [
       "array([0.2       , 0.33333333, 0.42857143, 0.5       ])"
      ]
     },
     "execution_count": 14,
     "metadata": {},
     "output_type": "execute_result"
    }
   ],
   "source": [
    "n1 / n2"
   ]
  },
  {
   "cell_type": "markdown",
   "id": "f75d5356-4d3c-4f49-b20c-a94c4fb726f2",
   "metadata": {},
   "source": [
    "# Functions"
   ]
  },
  {
   "cell_type": "markdown",
   "id": "22e67b32-0c7d-427f-a3a5-ec42fd16ed74",
   "metadata": {},
   "source": [
    "### 1. Building n-dimensional structures"
   ]
  },
  {
   "cell_type": "code",
   "execution_count": 15,
   "id": "b77e2c1c-fc28-4fad-af87-761aa1700b90",
   "metadata": {},
   "outputs": [
    {
     "data": {
      "text/plain": [
       "array(42)"
      ]
     },
     "execution_count": 15,
     "metadata": {},
     "output_type": "execute_result"
    }
   ],
   "source": [
    "arr = np.array(42) # O-D\n",
    "arr"
   ]
  },
  {
   "cell_type": "code",
   "execution_count": 16,
   "id": "06731b5c-2103-4ecc-b166-602880092655",
   "metadata": {},
   "outputs": [
    {
     "data": {
      "text/plain": [
       "array([1, 2, 3, 4, 5])"
      ]
     },
     "execution_count": 16,
     "metadata": {},
     "output_type": "execute_result"
    }
   ],
   "source": [
    "arr1 = np.array([1, 2, 3, 4, 5]) # 1-D\n",
    "arr1"
   ]
  },
  {
   "cell_type": "code",
   "execution_count": 17,
   "id": "d9e45b06-430c-4b69-8e08-efb3b38b6354",
   "metadata": {},
   "outputs": [
    {
     "data": {
      "text/plain": [
       "array([[1, 2, 3],\n",
       "       [4, 5, 6]])"
      ]
     },
     "execution_count": 17,
     "metadata": {},
     "output_type": "execute_result"
    }
   ],
   "source": [
    "arr2 = np.array([[1, 2, 3], [4, 5, 6]]) #2-D\n",
    "arr2"
   ]
  },
  {
   "cell_type": "code",
   "execution_count": 18,
   "id": "ceef03a7-8118-4c04-aa18-b0c85bd93f4c",
   "metadata": {},
   "outputs": [
    {
     "data": {
      "text/plain": [
       "array([[[1, 2, 3],\n",
       "        [4, 5, 6]],\n",
       "\n",
       "       [[1, 2, 3],\n",
       "        [4, 5, 6]]])"
      ]
     },
     "execution_count": 18,
     "metadata": {},
     "output_type": "execute_result"
    }
   ],
   "source": [
    "arr3 = np.array([[[1, 2, 3], [4, 5, 6]], [[1, 2, 3], [4, 5, 6]]]) # 3-D\n",
    "arr3"
   ]
  },
  {
   "cell_type": "markdown",
   "id": "daa930ab-fa92-40c7-a717-29bbaa90bd08",
   "metadata": {},
   "source": [
    "### 2. Check dimension"
   ]
  },
  {
   "cell_type": "code",
   "execution_count": 19,
   "id": "0396286d-f5dd-4284-8293-cb16566032d5",
   "metadata": {},
   "outputs": [],
   "source": [
    "a = np.array(42)\n",
    "b = np.array([1, 2, 3, 4, 5])\n",
    "c = np.array([[1, 2, 3], [4, 5, 6]])\n",
    "d = np.array([[[1, 2, 3], [4, 5, 6]], [[1, 2, 3], [4, 5, 6]]])"
   ]
  },
  {
   "cell_type": "code",
   "execution_count": 20,
   "id": "259c6672-6365-4a7c-9857-b06e80dd93f4",
   "metadata": {},
   "outputs": [
    {
     "data": {
      "text/plain": [
       "0"
      ]
     },
     "execution_count": 20,
     "metadata": {},
     "output_type": "execute_result"
    }
   ],
   "source": [
    "a.ndim"
   ]
  },
  {
   "cell_type": "code",
   "execution_count": 21,
   "id": "90eccc77-4213-4cd6-962d-15a938c19202",
   "metadata": {},
   "outputs": [
    {
     "data": {
      "text/plain": [
       "1"
      ]
     },
     "execution_count": 21,
     "metadata": {},
     "output_type": "execute_result"
    }
   ],
   "source": [
    "b.ndim"
   ]
  },
  {
   "cell_type": "code",
   "execution_count": 22,
   "id": "1cd80d97-98f7-4ae0-91cc-fcde752495db",
   "metadata": {},
   "outputs": [
    {
     "data": {
      "text/plain": [
       "2"
      ]
     },
     "execution_count": 22,
     "metadata": {},
     "output_type": "execute_result"
    }
   ],
   "source": [
    "c.ndim"
   ]
  },
  {
   "cell_type": "code",
   "execution_count": 23,
   "id": "dfac4ac2-c595-4122-9684-273fe1da1b1b",
   "metadata": {},
   "outputs": [
    {
     "data": {
      "text/plain": [
       "3"
      ]
     },
     "execution_count": 23,
     "metadata": {},
     "output_type": "execute_result"
    }
   ],
   "source": [
    "d.ndim"
   ]
  },
  {
   "cell_type": "markdown",
   "id": "52cfeb93-b089-4ea5-bcd0-afd38be463d5",
   "metadata": {},
   "source": [
    "### 3. Access array elements"
   ]
  },
  {
   "cell_type": "code",
   "execution_count": 24,
   "id": "cce309fe-7ed8-4f2c-a2c2-6df4028884da",
   "metadata": {},
   "outputs": [],
   "source": [
    "arr4 = np.array([1, 2, 3, 4]) # 1-D array"
   ]
  },
  {
   "cell_type": "code",
   "execution_count": 26,
   "id": "6af69326-1e8b-4eda-a0a0-0c538b4ffb56",
   "metadata": {},
   "outputs": [
    {
     "name": "stdout",
     "output_type": "stream",
     "text": [
      "1\n",
      "4\n"
     ]
    }
   ],
   "source": [
    "print(arr4[0])\n",
    "print(arr4[3])"
   ]
  },
  {
   "cell_type": "code",
   "execution_count": 27,
   "id": "2267b516-6dd7-4330-b6ad-6cefe80a39f0",
   "metadata": {},
   "outputs": [
    {
     "name": "stdout",
     "output_type": "stream",
     "text": [
      "3\n"
     ]
    }
   ],
   "source": [
    "print(arr4[2])"
   ]
  },
  {
   "cell_type": "code",
   "execution_count": 28,
   "id": "4fb804eb-28a8-479e-bb09-211ca7a71456",
   "metadata": {},
   "outputs": [],
   "source": [
    "arr5 = np.array([[1,2,3,4,5], [6,7,8,9,10]]) # 2-D array"
   ]
  },
  {
   "cell_type": "code",
   "execution_count": 29,
   "id": "6cbacbac-2fee-4906-8662-4de05989c6d2",
   "metadata": {},
   "outputs": [
    {
     "data": {
      "text/plain": [
       "array([[ 1,  2,  3,  4,  5],\n",
       "       [ 6,  7,  8,  9, 10]])"
      ]
     },
     "execution_count": 29,
     "metadata": {},
     "output_type": "execute_result"
    }
   ],
   "source": [
    "arr5"
   ]
  },
  {
   "cell_type": "code",
   "execution_count": 32,
   "id": "6efc16b0-3f81-4b97-b126-d2ca521b69d7",
   "metadata": {},
   "outputs": [
    {
     "data": {
      "text/plain": [
       "np.int64(2)"
      ]
     },
     "execution_count": 32,
     "metadata": {},
     "output_type": "execute_result"
    }
   ],
   "source": [
    "arr5[0,1] # [fila, columna]"
   ]
  },
  {
   "cell_type": "code",
   "execution_count": 33,
   "id": "05cb8050-7b8f-4ee1-a2af-851f1d369215",
   "metadata": {},
   "outputs": [
    {
     "name": "stdout",
     "output_type": "stream",
     "text": [
      "9\n"
     ]
    }
   ],
   "source": [
    "print(arr5[-1,-2])"
   ]
  },
  {
   "cell_type": "code",
   "execution_count": 34,
   "id": "ded40dc2-35a9-45b8-a6c8-0b5752d30385",
   "metadata": {},
   "outputs": [],
   "source": [
    "arr6 = np.array([[[1, 2, 3], [4, 5, 6]], [[7, 8, 9], [10, 11, 12]]]) # 3-D array"
   ]
  },
  {
   "cell_type": "code",
   "execution_count": 35,
   "id": "c2c28d4a-7ef4-4513-9d6e-2a0e7799d696",
   "metadata": {},
   "outputs": [
    {
     "data": {
      "text/plain": [
       "array([[[ 1,  2,  3],\n",
       "        [ 4,  5,  6]],\n",
       "\n",
       "       [[ 7,  8,  9],\n",
       "        [10, 11, 12]]])"
      ]
     },
     "execution_count": 35,
     "metadata": {},
     "output_type": "execute_result"
    }
   ],
   "source": [
    "arr6"
   ]
  },
  {
   "cell_type": "code",
   "execution_count": null,
   "id": "4eee31d8-dfe8-4fdf-863f-8d9d5cf70c6b",
   "metadata": {},
   "outputs": [],
   "source": [
    "# 3-D : array[depth, row, column]"
   ]
  },
  {
   "cell_type": "code",
   "execution_count": 36,
   "id": "16dabd6c-28f3-4254-b0bf-c847af3e4769",
   "metadata": {},
   "outputs": [
    {
     "name": "stdout",
     "output_type": "stream",
     "text": [
      "11\n"
     ]
    }
   ],
   "source": [
    "print(arr6[1, 1, 1])"
   ]
  },
  {
   "cell_type": "code",
   "execution_count": 37,
   "id": "00d1b3cb-dd27-4e18-a967-7130e5a157fe",
   "metadata": {},
   "outputs": [
    {
     "data": {
      "text/plain": [
       "np.int64(6)"
      ]
     },
     "execution_count": 37,
     "metadata": {},
     "output_type": "execute_result"
    }
   ],
   "source": [
    "arr6[-2,-1,-1]"
   ]
  },
  {
   "cell_type": "markdown",
   "id": "77bdbe74-c38c-4a04-886e-598dc8bd0a73",
   "metadata": {},
   "source": [
    "### 4. Negative indexing"
   ]
  },
  {
   "cell_type": "code",
   "execution_count": 41,
   "id": "47b37362-643a-4703-8806-1d15798e475d",
   "metadata": {},
   "outputs": [],
   "source": [
    "arr7 = np.array([1, 2, 3, 4])"
   ]
  },
  {
   "cell_type": "code",
   "execution_count": 42,
   "id": "dcc6b281-a611-4e3f-8063-e7d725bd5008",
   "metadata": {},
   "outputs": [
    {
     "data": {
      "text/plain": [
       "array([1, 2, 3, 4])"
      ]
     },
     "execution_count": 42,
     "metadata": {},
     "output_type": "execute_result"
    }
   ],
   "source": [
    "arr7"
   ]
  },
  {
   "cell_type": "code",
   "execution_count": 43,
   "id": "ed089882-4f94-4254-a39a-a824344f6b28",
   "metadata": {},
   "outputs": [
    {
     "data": {
      "text/plain": [
       "np.int64(2)"
      ]
     },
     "execution_count": 43,
     "metadata": {},
     "output_type": "execute_result"
    }
   ],
   "source": [
    "arr7[-3]"
   ]
  },
  {
   "cell_type": "code",
   "execution_count": null,
   "id": "8b89b5d5-a990-4b61-b0ce-cfc8635bcfa2",
   "metadata": {},
   "outputs": [],
   "source": [
    "lista1=[1,2,3,4]"
   ]
  },
  {
   "cell_type": "code",
   "execution_count": null,
   "id": "9c895882-6abc-4c4f-b55c-917270bf6b44",
   "metadata": {},
   "outputs": [],
   "source": [
    "# [0,1,2,3] --> Notacion positiva"
   ]
  },
  {
   "cell_type": "code",
   "execution_count": null,
   "id": "9e0250ee-6962-47fc-8212-8bccc80caa79",
   "metadata": {},
   "outputs": [],
   "source": [
    "# [-4,-3,-2,-1] --> Notacion negativa"
   ]
  },
  {
   "cell_type": "markdown",
   "id": "263b4c16-0708-4d73-81fb-1b650ce285ac",
   "metadata": {},
   "source": [
    "### 5. Slicing"
   ]
  },
  {
   "cell_type": "code",
   "execution_count": 44,
   "id": "abb24395-8f22-4dde-bb2a-f620143269ca",
   "metadata": {},
   "outputs": [],
   "source": [
    "arr8 = np.array([10, 22, 33, 44, 55, 66, 77])"
   ]
  },
  {
   "cell_type": "code",
   "execution_count": 45,
   "id": "4430f7d7-3241-4bd5-a797-89f5b9fe9893",
   "metadata": {},
   "outputs": [
    {
     "data": {
      "text/plain": [
       "array([10, 22, 33, 44, 55, 66, 77])"
      ]
     },
     "execution_count": 45,
     "metadata": {},
     "output_type": "execute_result"
    }
   ],
   "source": [
    "arr8"
   ]
  },
  {
   "cell_type": "code",
   "execution_count": 48,
   "id": "9554d5c1-90f3-4e8d-80d1-8be5dc8d76e2",
   "metadata": {},
   "outputs": [
    {
     "data": {
      "text/plain": [
       "array([22, 44])"
      ]
     },
     "execution_count": 48,
     "metadata": {},
     "output_type": "execute_result"
    }
   ],
   "source": [
    "arr8[1:-2:2] # 1-D"
   ]
  },
  {
   "cell_type": "code",
   "execution_count": 49,
   "id": "dd52e577-ac0a-4413-94bb-f32839a9abd6",
   "metadata": {},
   "outputs": [],
   "source": [
    "arr9 = np.array([[1,2,3,4,5], [6,7,8,9,10]])"
   ]
  },
  {
   "cell_type": "code",
   "execution_count": 50,
   "id": "fcb73092-bf76-440b-ba99-d7ee4daebbed",
   "metadata": {},
   "outputs": [
    {
     "data": {
      "text/plain": [
       "array([[ 1,  2,  3,  4,  5],\n",
       "       [ 6,  7,  8,  9, 10]])"
      ]
     },
     "execution_count": 50,
     "metadata": {},
     "output_type": "execute_result"
    }
   ],
   "source": [
    "arr9"
   ]
  },
  {
   "cell_type": "code",
   "execution_count": 52,
   "id": "6593def3-0272-41ae-a72f-3f24f7a0ae85",
   "metadata": {},
   "outputs": [
    {
     "data": {
      "text/plain": [
       "array([[3]])"
      ]
     },
     "execution_count": 52,
     "metadata": {},
     "output_type": "execute_result"
    }
   ],
   "source": [
    "arr9[0:1,2:-1] # 2-D"
   ]
  },
  {
   "cell_type": "markdown",
   "id": "ca04f4b5-0c05-44ce-9049-ec00ef9968a8",
   "metadata": {},
   "source": [
    "### 6. Iteration"
   ]
  },
  {
   "cell_type": "code",
   "execution_count": 53,
   "id": "feccc849-41cd-4090-a767-8142ec266a3e",
   "metadata": {},
   "outputs": [],
   "source": [
    "arr10 = np.array([[6,7,8],[1,2,3],[4,5,6]])"
   ]
  },
  {
   "cell_type": "code",
   "execution_count": 54,
   "id": "0c480245-388f-41a4-9fd3-26b60d9f2e67",
   "metadata": {},
   "outputs": [
    {
     "data": {
      "text/plain": [
       "array([[6, 7, 8],\n",
       "       [1, 2, 3],\n",
       "       [4, 5, 6]])"
      ]
     },
     "execution_count": 54,
     "metadata": {},
     "output_type": "execute_result"
    }
   ],
   "source": [
    "arr10"
   ]
  },
  {
   "cell_type": "code",
   "execution_count": 55,
   "id": "718b4645-5a28-4f0a-ad78-47e533dc55bf",
   "metadata": {},
   "outputs": [
    {
     "name": "stdout",
     "output_type": "stream",
     "text": [
      "6\n",
      "7\n",
      "8\n",
      "1\n",
      "2\n",
      "3\n",
      "4\n",
      "5\n",
      "6\n"
     ]
    }
   ],
   "source": [
    "for row in arr10:\n",
    "    for i in row:\n",
    "        print(i)"
   ]
  },
  {
   "cell_type": "code",
   "execution_count": 56,
   "id": "ef3a0a18-8889-4b1f-ac8b-d558b42a8d46",
   "metadata": {},
   "outputs": [
    {
     "name": "stdout",
     "output_type": "stream",
     "text": [
      "6\n",
      "7\n",
      "8\n",
      "1\n",
      "2\n",
      "3\n",
      "4\n",
      "5\n",
      "6\n"
     ]
    }
   ],
   "source": [
    "for cell in arr10.flat:\n",
    "    print(cell)"
   ]
  },
  {
   "cell_type": "markdown",
   "id": "de7619b9-8508-43f8-8874-d3f2d81e260b",
   "metadata": {},
   "source": [
    "### 7. Stacking"
   ]
  },
  {
   "cell_type": "code",
   "execution_count": 59,
   "id": "e69fd275-07a5-40fb-87a1-af8a3710a4f5",
   "metadata": {},
   "outputs": [
    {
     "data": {
      "text/plain": [
       "array([0, 1, 2, 3, 4, 5])"
      ]
     },
     "execution_count": 59,
     "metadata": {},
     "output_type": "execute_result"
    }
   ],
   "source": [
    "x=np.arange(6)\n",
    "x"
   ]
  },
  {
   "cell_type": "code",
   "execution_count": 60,
   "id": "238d2fa8-8075-430c-bdca-6f74cebf0027",
   "metadata": {},
   "outputs": [
    {
     "data": {
      "text/plain": [
       "(6,)"
      ]
     },
     "execution_count": 60,
     "metadata": {},
     "output_type": "execute_result"
    }
   ],
   "source": [
    "x.shape"
   ]
  },
  {
   "cell_type": "code",
   "execution_count": 61,
   "id": "775abe58-b3ee-4d2b-8480-c69195d7f14a",
   "metadata": {},
   "outputs": [
    {
     "data": {
      "text/plain": [
       "()"
      ]
     },
     "execution_count": 61,
     "metadata": {},
     "output_type": "execute_result"
    }
   ],
   "source": [
    "y=np.array(2)\n",
    "y.shape"
   ]
  },
  {
   "cell_type": "code",
   "execution_count": 62,
   "id": "5a168e28-9442-4a15-9cd7-e23de03c63a3",
   "metadata": {},
   "outputs": [],
   "source": [
    "a = np.arange(6).reshape(3,2)"
   ]
  },
  {
   "cell_type": "code",
   "execution_count": 63,
   "id": "0b0652ac-8826-4654-b565-53f9100dfc13",
   "metadata": {},
   "outputs": [
    {
     "data": {
      "text/plain": [
       "array([[0, 1],\n",
       "       [2, 3],\n",
       "       [4, 5]])"
      ]
     },
     "execution_count": 63,
     "metadata": {},
     "output_type": "execute_result"
    }
   ],
   "source": [
    "a"
   ]
  },
  {
   "cell_type": "code",
   "execution_count": 64,
   "id": "87468de7-ca48-48e3-9629-05c4571d8af3",
   "metadata": {},
   "outputs": [
    {
     "data": {
      "text/plain": [
       "(3, 2)"
      ]
     },
     "execution_count": 64,
     "metadata": {},
     "output_type": "execute_result"
    }
   ],
   "source": [
    "a.shape"
   ]
  },
  {
   "cell_type": "code",
   "execution_count": 65,
   "id": "595c1dee-2aa8-4b57-91cf-71da64656962",
   "metadata": {},
   "outputs": [],
   "source": [
    "b = np.arange(10,16).reshape(3,2)"
   ]
  },
  {
   "cell_type": "code",
   "execution_count": 66,
   "id": "df1ee057-5828-4f14-902e-954dbeae101f",
   "metadata": {},
   "outputs": [
    {
     "data": {
      "text/plain": [
       "array([[10, 11],\n",
       "       [12, 13],\n",
       "       [14, 15]])"
      ]
     },
     "execution_count": 66,
     "metadata": {},
     "output_type": "execute_result"
    }
   ],
   "source": [
    "b"
   ]
  },
  {
   "cell_type": "code",
   "execution_count": 67,
   "id": "f2fc4520-e958-446c-a030-b33d01b1c104",
   "metadata": {},
   "outputs": [
    {
     "data": {
      "text/plain": [
       "array([[ 0,  1],\n",
       "       [ 2,  3],\n",
       "       [ 4,  5],\n",
       "       [10, 11],\n",
       "       [12, 13],\n",
       "       [14, 15]])"
      ]
     },
     "execution_count": 67,
     "metadata": {},
     "output_type": "execute_result"
    }
   ],
   "source": [
    "np.vstack((a,b)) # Vertical stacking"
   ]
  },
  {
   "cell_type": "code",
   "execution_count": 68,
   "id": "a3a8fe91-dcc3-450f-ae80-7cfaace1b951",
   "metadata": {},
   "outputs": [
    {
     "data": {
      "text/plain": [
       "array([[ 0,  1, 10, 11],\n",
       "       [ 2,  3, 12, 13],\n",
       "       [ 4,  5, 14, 15]])"
      ]
     },
     "execution_count": 68,
     "metadata": {},
     "output_type": "execute_result"
    }
   ],
   "source": [
    "np.hstack((a,b)) # Horizontal stacking"
   ]
  },
  {
   "cell_type": "markdown",
   "id": "90c1be70-b15d-468e-a16b-eb13c990d234",
   "metadata": {},
   "source": [
    "### 8. Splitting"
   ]
  },
  {
   "cell_type": "code",
   "execution_count": 69,
   "id": "19295217-c090-4e62-9006-06f2c528d955",
   "metadata": {},
   "outputs": [],
   "source": [
    "c = np.arange(30).reshape(2,15)"
   ]
  },
  {
   "cell_type": "code",
   "execution_count": 70,
   "id": "96e33d1d-e005-414f-b2aa-774a18674f3c",
   "metadata": {},
   "outputs": [
    {
     "data": {
      "text/plain": [
       "array([[ 0,  1,  2,  3,  4,  5,  6,  7,  8,  9, 10, 11, 12, 13, 14],\n",
       "       [15, 16, 17, 18, 19, 20, 21, 22, 23, 24, 25, 26, 27, 28, 29]])"
      ]
     },
     "execution_count": 70,
     "metadata": {},
     "output_type": "execute_result"
    }
   ],
   "source": [
    "c"
   ]
  },
  {
   "cell_type": "code",
   "execution_count": 71,
   "id": "4b25ba01-e73a-410c-9f82-c9835de5d0f5",
   "metadata": {},
   "outputs": [],
   "source": [
    "rslt = np.hsplit(c,3)"
   ]
  },
  {
   "cell_type": "code",
   "execution_count": 72,
   "id": "05f8b52a-b785-41ad-b3c3-5ec2f57aa238",
   "metadata": {},
   "outputs": [
    {
     "data": {
      "text/plain": [
       "[array([[ 0,  1,  2,  3,  4],\n",
       "        [15, 16, 17, 18, 19]]),\n",
       " array([[ 5,  6,  7,  8,  9],\n",
       "        [20, 21, 22, 23, 24]]),\n",
       " array([[10, 11, 12, 13, 14],\n",
       "        [25, 26, 27, 28, 29]])]"
      ]
     },
     "execution_count": 72,
     "metadata": {},
     "output_type": "execute_result"
    }
   ],
   "source": [
    "rslt"
   ]
  },
  {
   "cell_type": "code",
   "execution_count": 73,
   "id": "efc34cc0-3457-4986-9926-848f828b1382",
   "metadata": {},
   "outputs": [
    {
     "data": {
      "text/plain": [
       "array([[ 0,  1,  2,  3,  4],\n",
       "       [15, 16, 17, 18, 19]])"
      ]
     },
     "execution_count": 73,
     "metadata": {},
     "output_type": "execute_result"
    }
   ],
   "source": [
    "rslt[0]"
   ]
  },
  {
   "cell_type": "code",
   "execution_count": 74,
   "id": "b56417b1-a198-452c-ae95-ea04762ae225",
   "metadata": {},
   "outputs": [
    {
     "data": {
      "text/plain": [
       "array([[ 5,  6,  7,  8,  9],\n",
       "       [20, 21, 22, 23, 24]])"
      ]
     },
     "execution_count": 74,
     "metadata": {},
     "output_type": "execute_result"
    }
   ],
   "source": [
    "rslt[1]"
   ]
  },
  {
   "cell_type": "code",
   "execution_count": 75,
   "id": "47743882-946f-4195-9a21-888126493268",
   "metadata": {},
   "outputs": [
    {
     "data": {
      "text/plain": [
       "array([[10, 11, 12, 13, 14],\n",
       "       [25, 26, 27, 28, 29]])"
      ]
     },
     "execution_count": 75,
     "metadata": {},
     "output_type": "execute_result"
    }
   ],
   "source": [
    "rslt[2]"
   ]
  },
  {
   "cell_type": "markdown",
   "id": "62e6afc1-7976-48bc-bfc7-e8508fa67216",
   "metadata": {},
   "source": [
    "### 9. Masks"
   ]
  },
  {
   "cell_type": "code",
   "execution_count": 76,
   "id": "4fbc7978-451c-4b2d-971b-8b38b36cf033",
   "metadata": {},
   "outputs": [],
   "source": [
    "a = np.arange(12).reshape(3,4)"
   ]
  },
  {
   "cell_type": "code",
   "execution_count": 77,
   "id": "e231d346-1345-4b63-bae9-603fe2e61195",
   "metadata": {},
   "outputs": [
    {
     "data": {
      "text/plain": [
       "array([[ 0,  1,  2,  3],\n",
       "       [ 4,  5,  6,  7],\n",
       "       [ 8,  9, 10, 11]])"
      ]
     },
     "execution_count": 77,
     "metadata": {},
     "output_type": "execute_result"
    }
   ],
   "source": [
    "a"
   ]
  },
  {
   "cell_type": "code",
   "execution_count": 78,
   "id": "5492998b-32b6-4a15-b483-ab2ee3fdfaa1",
   "metadata": {},
   "outputs": [],
   "source": [
    "b = a > 4"
   ]
  },
  {
   "cell_type": "code",
   "execution_count": 79,
   "id": "75e47376-a85d-4f4d-97ca-94eae3595c3c",
   "metadata": {},
   "outputs": [
    {
     "data": {
      "text/plain": [
       "array([[False, False, False, False],\n",
       "       [False,  True,  True,  True],\n",
       "       [ True,  True,  True,  True]])"
      ]
     },
     "execution_count": 79,
     "metadata": {},
     "output_type": "execute_result"
    }
   ],
   "source": [
    "b"
   ]
  },
  {
   "cell_type": "code",
   "execution_count": 80,
   "id": "5fe57f97-373f-4365-9598-cca7cfde8af9",
   "metadata": {},
   "outputs": [
    {
     "data": {
      "text/plain": [
       "array([ 5,  6,  7,  8,  9, 10, 11])"
      ]
     },
     "execution_count": 80,
     "metadata": {},
     "output_type": "execute_result"
    }
   ],
   "source": [
    "a[a>4]"
   ]
  },
  {
   "cell_type": "markdown",
   "id": "41a7f6b0-92a2-49a8-98c4-0632abff4051",
   "metadata": {},
   "source": [
    "## Properties\n",
    "\n",
    "### 1. ndim, itemsize, dtype"
   ]
  },
  {
   "cell_type": "code",
   "execution_count": 81,
   "id": "a4ee071f-cfe4-4935-b7f7-0de498ec207d",
   "metadata": {},
   "outputs": [],
   "source": [
    "a = np.array([5,6,9])\n",
    "a2 = np.array([[[1, 2, 3], [4, 5, 6]], [[1, 2, 3], [4, 5, 6]]])"
   ]
  },
  {
   "cell_type": "code",
   "execution_count": 82,
   "id": "5ee7654a-c72b-43d3-b66d-bfcc6e376278",
   "metadata": {},
   "outputs": [
    {
     "data": {
      "text/plain": [
       "array([5, 6, 9])"
      ]
     },
     "execution_count": 82,
     "metadata": {},
     "output_type": "execute_result"
    }
   ],
   "source": [
    "a"
   ]
  },
  {
   "cell_type": "code",
   "execution_count": 83,
   "id": "fa2dc6a5-0ba6-4f40-9557-37e35a2d94ed",
   "metadata": {},
   "outputs": [
    {
     "data": {
      "text/plain": [
       "array([[[1, 2, 3],\n",
       "        [4, 5, 6]],\n",
       "\n",
       "       [[1, 2, 3],\n",
       "        [4, 5, 6]]])"
      ]
     },
     "execution_count": 83,
     "metadata": {},
     "output_type": "execute_result"
    }
   ],
   "source": [
    "a2"
   ]
  },
  {
   "cell_type": "code",
   "execution_count": 84,
   "id": "70393995-a4b3-44cd-89c3-3be4b3b7358b",
   "metadata": {},
   "outputs": [
    {
     "name": "stdout",
     "output_type": "stream",
     "text": [
      "1\n",
      "3\n"
     ]
    }
   ],
   "source": [
    "print(a.ndim)\n",
    "print(a2.ndim)"
   ]
  },
  {
   "cell_type": "code",
   "execution_count": 85,
   "id": "a5a1b077-4b3e-4817-a1fc-eae5cb90012c",
   "metadata": {},
   "outputs": [
    {
     "name": "stdout",
     "output_type": "stream",
     "text": [
      "8\n",
      "8\n"
     ]
    }
   ],
   "source": [
    "print(a.itemsize)\n",
    "print(a2.itemsize)"
   ]
  },
  {
   "cell_type": "code",
   "execution_count": 86,
   "id": "11ac79a3-23df-4ba8-b724-b848f227fe43",
   "metadata": {},
   "outputs": [
    {
     "data": {
      "text/plain": [
       "12"
      ]
     },
     "execution_count": 86,
     "metadata": {},
     "output_type": "execute_result"
    }
   ],
   "source": [
    "a2.size"
   ]
  },
  {
   "cell_type": "code",
   "execution_count": 87,
   "id": "269858ce-7a2d-4542-a887-6e760c9ee4b1",
   "metadata": {},
   "outputs": [
    {
     "data": {
      "text/plain": [
       "3"
      ]
     },
     "execution_count": 87,
     "metadata": {},
     "output_type": "execute_result"
    }
   ],
   "source": [
    "a.size"
   ]
  },
  {
   "cell_type": "markdown",
   "id": "d264c0ea-1885-42b9-a57d-6941ee1c1a1e",
   "metadata": {},
   "source": [
    "### 2. Changing datatype"
   ]
  },
  {
   "cell_type": "code",
   "execution_count": 97,
   "id": "8723dc2d-80ec-4391-9d41-e1b6ab1f305c",
   "metadata": {},
   "outputs": [
    {
     "data": {
      "text/plain": [
       "dtype('int32')"
      ]
     },
     "execution_count": 97,
     "metadata": {},
     "output_type": "execute_result"
    }
   ],
   "source": [
    "a=np.array([1,2,3,4,5.1], dtype=np.int32)\n",
    "a.dtype"
   ]
  },
  {
   "cell_type": "code",
   "execution_count": 98,
   "id": "d0a09f06-4852-4bd6-aa5b-a94b6a6f2541",
   "metadata": {},
   "outputs": [
    {
     "data": {
      "text/plain": [
       "array([1, 2, 3, 4, 5], dtype=int32)"
      ]
     },
     "execution_count": 98,
     "metadata": {},
     "output_type": "execute_result"
    }
   ],
   "source": [
    "a"
   ]
  },
  {
   "cell_type": "code",
   "execution_count": 94,
   "id": "9fb5724f-d6b9-4edd-a8df-5869dd5408e7",
   "metadata": {},
   "outputs": [],
   "source": [
    "a3 = np.array([11,22,33], dtype=np.float32)"
   ]
  },
  {
   "cell_type": "code",
   "execution_count": 95,
   "id": "f905bc33-dc4d-4c8d-9082-946f8b5f3d1f",
   "metadata": {},
   "outputs": [
    {
     "data": {
      "text/plain": [
       "array([11., 22., 33.], dtype=float32)"
      ]
     },
     "execution_count": 95,
     "metadata": {},
     "output_type": "execute_result"
    }
   ],
   "source": [
    "a3"
   ]
  },
  {
   "cell_type": "code",
   "execution_count": 96,
   "id": "ed8a77fe-1434-4e74-b206-fca036949aeb",
   "metadata": {},
   "outputs": [
    {
     "data": {
      "text/plain": [
       "dtype('float32')"
      ]
     },
     "execution_count": 96,
     "metadata": {},
     "output_type": "execute_result"
    }
   ],
   "source": [
    "a3.dtype"
   ]
  },
  {
   "cell_type": "markdown",
   "id": "0f69bec7-86cd-447e-8719-78bc162a68c7",
   "metadata": {},
   "source": [
    "### 3. size, shape"
   ]
  },
  {
   "cell_type": "code",
   "execution_count": 99,
   "id": "bae85f30-9a13-4be6-a3d0-f7c5ba366d1b",
   "metadata": {},
   "outputs": [],
   "source": [
    "a = np.array([5,6,9])\n",
    "a2 = np.array([[[1, 2, 3], [4, 5, 6]], [[1, 2, 3], [4, 5, 6]]])"
   ]
  },
  {
   "cell_type": "code",
   "execution_count": 100,
   "id": "14442475-89a0-40d4-be76-18743e4932aa",
   "metadata": {},
   "outputs": [
    {
     "data": {
      "text/plain": [
       "array([5, 6, 9])"
      ]
     },
     "execution_count": 100,
     "metadata": {},
     "output_type": "execute_result"
    }
   ],
   "source": [
    "a"
   ]
  },
  {
   "cell_type": "code",
   "execution_count": 101,
   "id": "462b3173-a2b8-4446-bb86-f1b7f6216bc1",
   "metadata": {},
   "outputs": [
    {
     "data": {
      "text/plain": [
       "array([[[1, 2, 3],\n",
       "        [4, 5, 6]],\n",
       "\n",
       "       [[1, 2, 3],\n",
       "        [4, 5, 6]]])"
      ]
     },
     "execution_count": 101,
     "metadata": {},
     "output_type": "execute_result"
    }
   ],
   "source": [
    "a2"
   ]
  },
  {
   "cell_type": "code",
   "execution_count": 102,
   "id": "e12b8d84-4ddb-4609-bb00-ffb6cf16e356",
   "metadata": {},
   "outputs": [
    {
     "name": "stdout",
     "output_type": "stream",
     "text": [
      "3\n",
      "12\n"
     ]
    }
   ],
   "source": [
    "print(a.size)\n",
    "print(a2.size)"
   ]
  },
  {
   "cell_type": "code",
   "execution_count": null,
   "id": "130496ad-db7e-4e9c-b18d-6f1450b8b2fd",
   "metadata": {},
   "outputs": [],
   "source": [
    "a"
   ]
  },
  {
   "cell_type": "code",
   "execution_count": null,
   "id": "e94c3624-53bc-4c75-a581-6cb0168225b1",
   "metadata": {},
   "outputs": [],
   "source": [
    "a2"
   ]
  },
  {
   "cell_type": "code",
   "execution_count": 104,
   "id": "80b9d640-d34b-4f64-a901-fc50f4c359ae",
   "metadata": {},
   "outputs": [
    {
     "name": "stdout",
     "output_type": "stream",
     "text": [
      "(3,)\n",
      "(2, 2, 3)\n"
     ]
    }
   ],
   "source": [
    "print(a.shape)\n",
    "print(a2.shape)"
   ]
  },
  {
   "cell_type": "code",
   "execution_count": null,
   "id": "298a492d-7804-464b-a388-0a5184f67526",
   "metadata": {},
   "outputs": [],
   "source": [
    "a2"
   ]
  },
  {
   "cell_type": "markdown",
   "id": "a9bad160-f662-4591-a4f5-5334cd2e7865",
   "metadata": {},
   "source": [
    "### 4. zeros, ones, eye, identity"
   ]
  },
  {
   "cell_type": "code",
   "execution_count": 106,
   "id": "c255bfd7-4ae8-48b4-b226-672c829384f5",
   "metadata": {},
   "outputs": [
    {
     "data": {
      "text/plain": [
       "array([[0, 0, 0, 0, 0, 0, 0, 0, 0, 0],\n",
       "       [0, 0, 0, 0, 0, 0, 0, 0, 0, 0],\n",
       "       [0, 0, 0, 0, 0, 0, 0, 0, 0, 0],\n",
       "       [0, 0, 0, 0, 0, 0, 0, 0, 0, 0],\n",
       "       [0, 0, 0, 0, 0, 0, 0, 0, 0, 0],\n",
       "       [0, 0, 0, 0, 0, 0, 0, 0, 0, 0],\n",
       "       [0, 0, 0, 0, 0, 0, 0, 0, 0, 0],\n",
       "       [0, 0, 0, 0, 0, 0, 0, 0, 0, 0],\n",
       "       [0, 0, 0, 0, 0, 0, 0, 0, 0, 0],\n",
       "       [0, 0, 0, 0, 0, 0, 0, 0, 0, 0]], dtype=int32)"
      ]
     },
     "execution_count": 106,
     "metadata": {},
     "output_type": "execute_result"
    }
   ],
   "source": [
    "np.zeros((10,10), dtype=np.int32)"
   ]
  },
  {
   "cell_type": "code",
   "execution_count": 107,
   "id": "cdb05095-a2cd-4093-b221-481a3db14bb8",
   "metadata": {},
   "outputs": [
    {
     "data": {
      "text/plain": [
       "array([[1., 1., 1., 1., 1., 1., 1., 1., 1., 1.],\n",
       "       [1., 1., 1., 1., 1., 1., 1., 1., 1., 1.],\n",
       "       [1., 1., 1., 1., 1., 1., 1., 1., 1., 1.],\n",
       "       [1., 1., 1., 1., 1., 1., 1., 1., 1., 1.],\n",
       "       [1., 1., 1., 1., 1., 1., 1., 1., 1., 1.],\n",
       "       [1., 1., 1., 1., 1., 1., 1., 1., 1., 1.],\n",
       "       [1., 1., 1., 1., 1., 1., 1., 1., 1., 1.],\n",
       "       [1., 1., 1., 1., 1., 1., 1., 1., 1., 1.],\n",
       "       [1., 1., 1., 1., 1., 1., 1., 1., 1., 1.],\n",
       "       [1., 1., 1., 1., 1., 1., 1., 1., 1., 1.]], dtype=float32)"
      ]
     },
     "execution_count": 107,
     "metadata": {},
     "output_type": "execute_result"
    }
   ],
   "source": [
    "np.ones((10,10), dtype=np.float32)"
   ]
  },
  {
   "cell_type": "code",
   "execution_count": 108,
   "id": "9363c021-fb6f-4f16-88db-6c2c38c4756e",
   "metadata": {},
   "outputs": [
    {
     "data": {
      "text/plain": [
       "array([[1., 0., 0., 0.],\n",
       "       [0., 1., 0., 0.],\n",
       "       [0., 0., 1., 0.],\n",
       "       [0., 0., 0., 1.],\n",
       "       [0., 0., 0., 0.]])"
      ]
     },
     "execution_count": 108,
     "metadata": {},
     "output_type": "execute_result"
    }
   ],
   "source": [
    "np.eye(5,4)"
   ]
  },
  {
   "cell_type": "code",
   "execution_count": 111,
   "id": "79338f9a-1c81-4ada-97a7-a6f968333f8f",
   "metadata": {},
   "outputs": [
    {
     "data": {
      "text/plain": [
       "array([[1, 0, 0, 0, 0, 0, 0, 0, 0, 0],\n",
       "       [0, 1, 0, 0, 0, 0, 0, 0, 0, 0],\n",
       "       [0, 0, 1, 0, 0, 0, 0, 0, 0, 0],\n",
       "       [0, 0, 0, 1, 0, 0, 0, 0, 0, 0],\n",
       "       [0, 0, 0, 0, 1, 0, 0, 0, 0, 0],\n",
       "       [0, 0, 0, 0, 0, 1, 0, 0, 0, 0],\n",
       "       [0, 0, 0, 0, 0, 0, 1, 0, 0, 0],\n",
       "       [0, 0, 0, 0, 0, 0, 0, 1, 0, 0],\n",
       "       [0, 0, 0, 0, 0, 0, 0, 0, 1, 0],\n",
       "       [0, 0, 0, 0, 0, 0, 0, 0, 0, 1]])"
      ]
     },
     "execution_count": 111,
     "metadata": {},
     "output_type": "execute_result"
    }
   ],
   "source": [
    "np.identity(10, dtype=np.int64)"
   ]
  },
  {
   "cell_type": "markdown",
   "id": "4a19a0e9-29dd-4414-9ea5-e045b184e0ed",
   "metadata": {},
   "source": [
    "### 5. arange, linspace, random"
   ]
  },
  {
   "cell_type": "code",
   "execution_count": 113,
   "id": "8b62b738-70d9-4305-a564-6561fb4b6c9c",
   "metadata": {},
   "outputs": [
    {
     "data": {
      "text/plain": [
       "array([ 1,  2,  3,  4,  5,  6,  7,  8,  9, 10, 11, 12, 13, 14, 15, 16, 17,\n",
       "       18, 19, 20, 21, 22, 23, 24, 25, 26, 27, 28, 29, 30, 31, 32, 33, 34,\n",
       "       35, 36, 37, 38, 39, 40, 41, 42, 43, 44, 45, 46, 47, 48, 49])"
      ]
     },
     "execution_count": 113,
     "metadata": {},
     "output_type": "execute_result"
    }
   ],
   "source": [
    "np.arange(1,50)"
   ]
  },
  {
   "cell_type": "code",
   "execution_count": 114,
   "id": "2e740540-b4f8-4427-9284-8b3ecbba780c",
   "metadata": {},
   "outputs": [
    {
     "data": {
      "text/plain": [
       "array([1.        , 1.44444444, 1.88888889, 2.33333333, 2.77777778,\n",
       "       3.22222222, 3.66666667, 4.11111111, 4.55555556, 5.        ])"
      ]
     },
     "execution_count": 114,
     "metadata": {},
     "output_type": "execute_result"
    }
   ],
   "source": [
    "np.linspace(1,5,10)"
   ]
  },
  {
   "cell_type": "code",
   "execution_count": 115,
   "id": "84bf2f2c-c825-4456-a511-f7be9f1c0a1d",
   "metadata": {},
   "outputs": [],
   "source": [
    "x=np.random.randn(5,5) #Devuelve elementos cuya distribucion tiene media 0 y varianza 1"
   ]
  },
  {
   "cell_type": "code",
   "execution_count": 116,
   "id": "f6714d71-adae-48d9-ab0a-ed3832aa2a68",
   "metadata": {},
   "outputs": [
    {
     "data": {
      "text/plain": [
       "array([[ 0.21050559,  0.24332116, -0.39030378, -0.50525562, -0.23840986],\n",
       "       [ 1.03310059, -0.82935384, -1.11725881, -0.26739983,  0.4671122 ],\n",
       "       [-0.77885124, -0.97117597, -1.85059406, -0.76800054,  0.98658554],\n",
       "       [ 0.02052733,  1.61278912,  0.50002379,  1.65145169,  0.0069085 ],\n",
       "       [ 0.53944565,  0.5658711 , -0.95745678,  0.52230577,  0.63038293]])"
      ]
     },
     "execution_count": 116,
     "metadata": {},
     "output_type": "execute_result"
    }
   ],
   "source": [
    "x"
   ]
  },
  {
   "cell_type": "code",
   "execution_count": 117,
   "id": "82fdfce5-c281-493d-8bc6-d4e18a4fefc7",
   "metadata": {},
   "outputs": [
    {
     "data": {
      "text/plain": [
       "np.float64(0.012650825210692909)"
      ]
     },
     "execution_count": 117,
     "metadata": {},
     "output_type": "execute_result"
    }
   ],
   "source": [
    "x.mean()"
   ]
  },
  {
   "cell_type": "code",
   "execution_count": 118,
   "id": "a82b0749-cac6-4006-b797-23b116a54cb8",
   "metadata": {},
   "outputs": [
    {
     "data": {
      "text/plain": [
       "np.float64(0.7268690529291739)"
      ]
     },
     "execution_count": 118,
     "metadata": {},
     "output_type": "execute_result"
    }
   ],
   "source": [
    "x.var()"
   ]
  },
  {
   "cell_type": "code",
   "execution_count": 159,
   "id": "5f79c33c-25fc-45cc-9406-83c47487605d",
   "metadata": {},
   "outputs": [
    {
     "data": {
      "text/plain": [
       "array([[0.92827945, 0.13054652, 0.84787127, 0.93277401, 0.8889044 ],\n",
       "       [0.59051289, 0.56787613, 0.0486071 , 0.70252042, 0.14872703],\n",
       "       [0.19257397, 0.03073403, 0.60552104, 0.52933193, 0.80169501],\n",
       "       [0.85077208, 0.73728423, 0.5960758 , 0.34759496, 0.39387027],\n",
       "       [0.16592834, 0.57477372, 0.97679117, 0.55674801, 0.77264827]])"
      ]
     },
     "execution_count": 159,
     "metadata": {},
     "output_type": "execute_result"
    }
   ],
   "source": [
    "np.random.rand(5,5) #Elementos de [0 a 1) con distribución uniforme"
   ]
  },
  {
   "cell_type": "markdown",
   "id": "e4652c5f-f03d-4fee-9712-0f914135ffff",
   "metadata": {},
   "source": [
    "**`Distribuciones y FDP`**"
   ]
  },
  {
   "cell_type": "code",
   "execution_count": 121,
   "id": "b572ff2d-a0d7-491d-9ed7-4a98fb6a5ed3",
   "metadata": {},
   "outputs": [],
   "source": [
    "import matplotlib.pyplot as plt"
   ]
  },
  {
   "cell_type": "code",
   "execution_count": 124,
   "id": "187a0453-b15d-44ca-bb7f-0b19a2debd70",
   "metadata": {},
   "outputs": [
    {
     "data": {
      "image/png": "[encoded data removed]",
      "text/plain": [
       "<Figure size 640x480 with 1 Axes>"
      ]
     },
     "metadata": {},
     "output_type": "display_data"
    }
   ],
   "source": [
    "#Uniforme\n",
    "plt.hist(np.random.rand(100000),bins=10)\n",
    "plt.show()"
   ]
  },
  {
   "cell_type": "code",
   "execution_count": 125,
   "id": "31eac257-f92f-4245-937a-c9f6b5fd7741",
   "metadata": {},
   "outputs": [
    {
     "data": {
      "image/png": "[encoded data removed]",
      "text/plain": [
       "<Figure size 640x480 with 1 Axes>"
      ]
     },
     "metadata": {},
     "output_type": "display_data"
    }
   ],
   "source": [
    "#Normal\n",
    "plt.hist(np.random.normal(5,2.5,100000), bins=1000)\n",
    "plt.show()"
   ]
  },
  {
   "cell_type": "code",
   "execution_count": 128,
   "id": "a69bfec7-728f-4308-84c9-1426f46a0d68",
   "metadata": {},
   "outputs": [
    {
     "data": {
      "image/png": "[encoded data removed]",
      "text/plain": [
       "<Figure size 640x480 with 1 Axes>"
      ]
     },
     "metadata": {},
     "output_type": "display_data"
    }
   ],
   "source": [
    "#Chi cuadrado\n",
    "plt.hist(np.random.chisquare(8,100000), bins=1000)\n",
    "plt.show()"
   ]
  },
  {
   "cell_type": "code",
   "execution_count": 132,
   "id": "295848ad-42da-4f76-ab86-3ab6517d0b86",
   "metadata": {},
   "outputs": [
    {
     "data": {
      "image/png": "[encoded data removed]",
      "text/plain": [
       "<Figure size 640x480 with 1 Axes>"
      ]
     },
     "metadata": {},
     "output_type": "display_data"
    }
   ],
   "source": [
    "#Beta\n",
    "plt.hist(np.random.beta(2,5,100000), bins=100)\n",
    "plt.show()"
   ]
  },
  {
   "cell_type": "code",
   "execution_count": 133,
   "id": "7947eac1-6ed5-4a55-a401-b4f3f72aada6",
   "metadata": {},
   "outputs": [
    {
     "data": {
      "image/png": "[encoded data removed]",
      "text/plain": [
       "<Figure size 640x480 with 1 Axes>"
      ]
     },
     "metadata": {},
     "output_type": "display_data"
    }
   ],
   "source": [
    "#T-student\n",
    "plt.hist(np.random.standard_t(4,100000),bins=1000)\n",
    "plt.show()"
   ]
  },
  {
   "cell_type": "code",
   "execution_count": 134,
   "id": "0123b309-d4a8-4050-b736-9e47cb941a89",
   "metadata": {},
   "outputs": [
    {
     "data": {
      "image/png": "[encoded data removed]",
      "text/plain": [
       "<Figure size 640x480 with 1 Axes>"
      ]
     },
     "metadata": {},
     "output_type": "display_data"
    }
   ],
   "source": [
    "#Weibull\n",
    "plt.hist(np.random.weibull(10,100000),bins=1000)\n",
    "plt.show()"
   ]
  },
  {
   "cell_type": "code",
   "execution_count": 174,
   "id": "a355b787-c21a-4f3c-ae5b-555d6680a28a",
   "metadata": {},
   "outputs": [
    {
     "data": {
      "text/plain": [
       "array([[33, 91,  0, 67, 52],\n",
       "       [53, 94, 60, 77, 46],\n",
       "       [59, 60, 36, 77, 52],\n",
       "       [ 7, 18, 78, 99, 21],\n",
       "       [57, 37, 86, 43, 11]])"
      ]
     },
     "execution_count": 174,
     "metadata": {},
     "output_type": "execute_result"
    }
   ],
   "source": [
    "np.random.randint(0,100,(5,5))"
   ]
  },
  {
   "cell_type": "code",
   "execution_count": 185,
   "id": "9a7f07a1-22db-451f-a332-e58b485e1023",
   "metadata": {},
   "outputs": [
    {
     "data": {
      "text/plain": [
       "array([[8, 8, 3, 7, 7, 0],\n",
       "       [4, 2, 5, 2, 2, 2],\n",
       "       [1, 0, 8, 4, 0, 9],\n",
       "       [6, 2, 4, 1, 5, 3]])"
      ]
     },
     "execution_count": 185,
     "metadata": {},
     "output_type": "execute_result"
    }
   ],
   "source": [
    "np.random.seed(100)\n",
    "np.random.randint(10, size=(4, 6))"
   ]
  },
  {
   "cell_type": "markdown",
   "id": "6ab3021c-68c0-4f73-bab0-3ef79bb76c52",
   "metadata": {},
   "source": [
    "### 6. reshape"
   ]
  },
  {
   "cell_type": "code",
   "execution_count": 186,
   "id": "d9fdcf5c-f230-4966-af0e-fea7ca3e7de1",
   "metadata": {},
   "outputs": [],
   "source": [
    "a3 = np.array([[1,2],[3,4],[5,6]])"
   ]
  },
  {
   "cell_type": "code",
   "execution_count": 187,
   "id": "57b005eb-8010-43c6-8e19-36466d701adc",
   "metadata": {},
   "outputs": [
    {
     "data": {
      "text/plain": [
       "array([[1, 2],\n",
       "       [3, 4],\n",
       "       [5, 6]])"
      ]
     },
     "execution_count": 187,
     "metadata": {},
     "output_type": "execute_result"
    }
   ],
   "source": [
    "a3"
   ]
  },
  {
   "cell_type": "code",
   "execution_count": 188,
   "id": "c96092ca-0d4d-466d-ae70-7c6e1895eb6e",
   "metadata": {},
   "outputs": [
    {
     "data": {
      "text/plain": [
       "(3, 2)"
      ]
     },
     "execution_count": 188,
     "metadata": {},
     "output_type": "execute_result"
    }
   ],
   "source": [
    "a3.shape"
   ]
  },
  {
   "cell_type": "code",
   "execution_count": 191,
   "id": "bdb54d25-ef29-477f-9d11-0c5854e7a1e5",
   "metadata": {},
   "outputs": [],
   "source": [
    "a3=a3.reshape(2,3)"
   ]
  },
  {
   "cell_type": "code",
   "execution_count": 192,
   "id": "b690a56a-6cc8-4ce6-8c39-a045ace61c63",
   "metadata": {},
   "outputs": [
    {
     "data": {
      "text/plain": [
       "(2, 3)"
      ]
     },
     "execution_count": 192,
     "metadata": {},
     "output_type": "execute_result"
    }
   ],
   "source": [
    "a3.shape"
   ]
  },
  {
   "cell_type": "markdown",
   "id": "dd8e30bf-bb9d-465b-88a7-453a5322b18f",
   "metadata": {},
   "source": [
    "### 7. ravel"
   ]
  },
  {
   "cell_type": "code",
   "execution_count": 193,
   "id": "aabc26b0-19f4-40d7-b88c-6187ed617b45",
   "metadata": {},
   "outputs": [],
   "source": [
    "a3=np.random.randint(1,100, (5,5))"
   ]
  },
  {
   "cell_type": "code",
   "execution_count": 194,
   "id": "73706fd7-c412-42db-9832-4fec42817573",
   "metadata": {},
   "outputs": [
    {
     "data": {
      "text/plain": [
       "array([[ 5, 92, 60, 68,  8],\n",
       "       [50, 48, 66, 62, 15],\n",
       "       [56, 72, 81,  3, 95],\n",
       "       [20, 99, 64, 54, 28],\n",
       "       [57, 31, 49, 48, 40]])"
      ]
     },
     "execution_count": 194,
     "metadata": {},
     "output_type": "execute_result"
    }
   ],
   "source": [
    "a3"
   ]
  },
  {
   "cell_type": "code",
   "execution_count": 195,
   "id": "711f84a0-f40b-41dc-a98f-bec9df6f6db2",
   "metadata": {},
   "outputs": [],
   "source": [
    "x=a3.flat"
   ]
  },
  {
   "cell_type": "code",
   "execution_count": 196,
   "id": "b1867bd8-2b3d-449e-9714-2ae21e7103f8",
   "metadata": {},
   "outputs": [],
   "source": [
    "y=a3.ravel()"
   ]
  },
  {
   "cell_type": "code",
   "execution_count": 197,
   "id": "0410735f-cc30-4d32-bb4d-4912ded9237d",
   "metadata": {},
   "outputs": [
    {
     "data": {
      "text/plain": [
       "array([ 5, 92, 60, 68,  8, 50, 48, 66, 62, 15, 56, 72, 81,  3, 95, 20, 99,\n",
       "       64, 54, 28, 57, 31, 49, 48, 40])"
      ]
     },
     "execution_count": 197,
     "metadata": {},
     "output_type": "execute_result"
    }
   ],
   "source": [
    "y"
   ]
  },
  {
   "cell_type": "code",
   "execution_count": 198,
   "id": "8a2627f4-8e5d-486e-9799-71c73c1dc832",
   "metadata": {},
   "outputs": [
    {
     "data": {
      "text/plain": [
       "(25,)"
      ]
     },
     "execution_count": 198,
     "metadata": {},
     "output_type": "execute_result"
    }
   ],
   "source": [
    "y.shape"
   ]
  },
  {
   "cell_type": "code",
   "execution_count": 199,
   "id": "130bff44-43c5-4578-9579-7a3062d0ee63",
   "metadata": {},
   "outputs": [
    {
     "data": {
      "text/plain": [
       "<numpy.flatiter at 0x648ad00bd7e0>"
      ]
     },
     "execution_count": 199,
     "metadata": {},
     "output_type": "execute_result"
    }
   ],
   "source": [
    "x"
   ]
  },
  {
   "cell_type": "code",
   "execution_count": 200,
   "id": "a05a52c9-6bf1-4f92-b4b1-c1f4287b97d6",
   "metadata": {},
   "outputs": [
    {
     "name": "stdout",
     "output_type": "stream",
     "text": [
      "5\n",
      "92\n",
      "60\n",
      "68\n",
      "8\n",
      "50\n",
      "48\n",
      "66\n",
      "62\n",
      "15\n",
      "56\n",
      "72\n",
      "81\n",
      "3\n",
      "95\n",
      "20\n",
      "99\n",
      "64\n",
      "54\n",
      "28\n",
      "57\n",
      "31\n",
      "49\n",
      "48\n",
      "40\n"
     ]
    }
   ],
   "source": [
    "for i in x:\n",
    "    print(i)"
   ]
  },
  {
   "cell_type": "markdown",
   "id": "9b9801d5-3a8a-4cce-aa8e-02f608e5b328",
   "metadata": {},
   "source": [
    "### 8. min, max, sum"
   ]
  },
  {
   "cell_type": "code",
   "execution_count": 201,
   "id": "17311487-5e19-4860-99f0-0957b6c88b13",
   "metadata": {},
   "outputs": [
    {
     "data": {
      "text/plain": [
       "array([[6, 2, 0, 8, 2],\n",
       "       [5, 1, 8, 1, 5],\n",
       "       [4, 2, 8, 3, 5],\n",
       "       [0, 9, 3, 6, 3],\n",
       "       [4, 7, 6, 3, 9]])"
      ]
     },
     "execution_count": 201,
     "metadata": {},
     "output_type": "execute_result"
    }
   ],
   "source": [
    "a2=np.random.randint(0,10,(5,5))\n",
    "a2"
   ]
  },
  {
   "cell_type": "code",
   "execution_count": 202,
   "id": "4f1accd3-1d38-4b56-8ec7-71bf67925f20",
   "metadata": {},
   "outputs": [
    {
     "name": "stdout",
     "output_type": "stream",
     "text": [
      "0\n"
     ]
    }
   ],
   "source": [
    "print(a2.min())"
   ]
  },
  {
   "cell_type": "code",
   "execution_count": 203,
   "id": "2ef0678e-7892-43cd-8ddc-1c1702858924",
   "metadata": {},
   "outputs": [
    {
     "name": "stdout",
     "output_type": "stream",
     "text": [
      "9\n"
     ]
    }
   ],
   "source": [
    "print(a2.max())"
   ]
  },
  {
   "cell_type": "code",
   "execution_count": 204,
   "id": "3c945baf-d186-426a-9ce3-c2e69edc755c",
   "metadata": {},
   "outputs": [
    {
     "data": {
      "text/plain": [
       "np.float64(4.4)"
      ]
     },
     "execution_count": 204,
     "metadata": {},
     "output_type": "execute_result"
    }
   ],
   "source": [
    "a2.mean()"
   ]
  },
  {
   "cell_type": "code",
   "execution_count": 205,
   "id": "613622bf-ecc2-4989-ae58-cc4a44c7791a",
   "metadata": {},
   "outputs": [
    {
     "data": {
      "text/plain": [
       "np.float64(2.7129319932501073)"
      ]
     },
     "execution_count": 205,
     "metadata": {},
     "output_type": "execute_result"
    }
   ],
   "source": [
    "a2.std()"
   ]
  },
  {
   "cell_type": "code",
   "execution_count": 206,
   "id": "baeea24d-35dd-4545-8f1d-26b394a009ee",
   "metadata": {},
   "outputs": [
    {
     "data": {
      "text/plain": [
       "array([[6, 2, 0, 8, 2],\n",
       "       [5, 1, 8, 1, 5],\n",
       "       [4, 2, 8, 3, 5],\n",
       "       [0, 9, 3, 6, 3],\n",
       "       [4, 7, 6, 3, 9]])"
      ]
     },
     "execution_count": 206,
     "metadata": {},
     "output_type": "execute_result"
    }
   ],
   "source": [
    "a2"
   ]
  },
  {
   "cell_type": "code",
   "execution_count": 207,
   "id": "e0dee649-9d7f-4328-be56-c360929d28d3",
   "metadata": {},
   "outputs": [
    {
     "data": {
      "text/plain": [
       "array([19, 21, 25, 21, 24])"
      ]
     },
     "execution_count": 207,
     "metadata": {},
     "output_type": "execute_result"
    }
   ],
   "source": [
    "a2.sum(axis=0) #axis=0 --> Columnas"
   ]
  },
  {
   "cell_type": "code",
   "execution_count": 208,
   "id": "f1e7ea5b-b64f-4611-a015-e775f2189cd1",
   "metadata": {},
   "outputs": [
    {
     "data": {
      "text/plain": [
       "array([18, 20, 22, 21, 29])"
      ]
     },
     "execution_count": 208,
     "metadata": {},
     "output_type": "execute_result"
    }
   ],
   "source": [
    "a2.sum(axis=1) #axis=1 --> Filas"
   ]
  },
  {
   "cell_type": "markdown",
   "id": "e2001920-2cc2-4f86-baa1-99dfdf96b46a",
   "metadata": {},
   "source": [
    "# List comprehension"
   ]
  },
  {
   "cell_type": "code",
   "execution_count": 209,
   "id": "8110a895-550d-4859-9407-be176d6935e4",
   "metadata": {},
   "outputs": [
    {
     "name": "stdout",
     "output_type": "stream",
     "text": [
      "['c', 'a', 's', 'a']\n"
     ]
    }
   ],
   "source": [
    "lista = []\n",
    "for letra in 'casa':\n",
    "    lista.append(letra)\n",
    "print(lista)"
   ]
  },
  {
   "cell_type": "code",
   "execution_count": 210,
   "id": "1b07b32b-2638-4de6-ab19-bb961e7df728",
   "metadata": {},
   "outputs": [
    {
     "name": "stdout",
     "output_type": "stream",
     "text": [
      "['c', 'a', 's', 'a']\n"
     ]
    }
   ],
   "source": [
    "lista = [letra for letra in 'casa']\n",
    "print(lista)"
   ]
  },
  {
   "cell_type": "markdown",
   "id": "9e9350ed-336a-482f-a5f7-3b8a36721649",
   "metadata": {},
   "source": [
    "# Lambda expressions"
   ]
  },
  {
   "cell_type": "code",
   "execution_count": 211,
   "id": "28337ecb-92fa-40bd-b0bf-a596e8725819",
   "metadata": {},
   "outputs": [],
   "source": [
    "#Funcion tradicional\n",
    "def sumar(a,b):\n",
    "    return a+b"
   ]
  },
  {
   "cell_type": "code",
   "execution_count": 212,
   "id": "17622f3e-e27d-48d5-afb0-0a512fb2c32d",
   "metadata": {},
   "outputs": [
    {
     "data": {
      "text/plain": [
       "98"
      ]
     },
     "execution_count": 212,
     "metadata": {},
     "output_type": "execute_result"
    }
   ],
   "source": [
    "sumar(52,46)"
   ]
  },
  {
   "cell_type": "code",
   "execution_count": 213,
   "id": "27814127-4f69-4b01-a1fd-01a87c3fa7b2",
   "metadata": {},
   "outputs": [],
   "source": [
    "#Funcion lambda\n",
    "x=lambda a,b:a+b"
   ]
  },
  {
   "cell_type": "code",
   "execution_count": 214,
   "id": "83dd5021-91fe-4281-81e6-3d7765d49bd5",
   "metadata": {},
   "outputs": [
    {
     "data": {
      "text/plain": [
       "function"
      ]
     },
     "execution_count": 214,
     "metadata": {},
     "output_type": "execute_result"
    }
   ],
   "source": [
    "type(x)"
   ]
  },
  {
   "cell_type": "code",
   "execution_count": 215,
   "id": "3ef5fdeb-166e-4e54-aa26-a5d955498895",
   "metadata": {},
   "outputs": [
    {
     "data": {
      "text/plain": [
       "98"
      ]
     },
     "execution_count": 215,
     "metadata": {},
     "output_type": "execute_result"
    }
   ],
   "source": [
    "x(52,46)"
   ]
  },
  {
   "cell_type": "markdown",
   "id": "5041b21a-f247-4bb3-b45c-d231ad916c42",
   "metadata": {},
   "source": [
    "# **Ejercicios propuestos**\n",
    "## 1. Crear un vector de numeros enteros con valores dentro del rango 10 a 49\n",
    "## 2. Invierte el vector creado en el ejercicio 1\n",
    "## 3. Crear una matriz 3x3 con valores de 0 a 8\n",
    "## 4. Crear una lista con las potencias de 2 de los primeros 10 números (En una sola linea de codigo)\n",
    "## 5. Crear una lista con todos los múltiples de 2 entre 0 y 10 (En una sola linea de codigo)\n",
    "## 6. Crea una función lambda que reciba como argumento un número y obtenga la raiz cuadrada de dicho número\n",
    "## 7. Crear un diccionario cuyas claves sean los nombres de los meses del año y cuyos valores la longitud del nombre de cada mes (En una sola linea de código)"
   ]
  }
 ],
 "metadata": {
  "kernelspec": {
   "display_name": "Python 3 (ipykernel)",
   "language": "python",
   "name": "python3"
  },
  "language_info": {
   "codemirror_mode": {
    "name": "ipython",
    "version": 3
   },
   "file_extension": ".py",
   "mimetype": "text/x-python",
   "name": "python",
   "nbconvert_exporter": "python",
   "pygments_lexer": "ipython3",
   "version": "3.12.4"
  }
 },
 "nbformat": 4,
 "nbformat_minor": 5
}
