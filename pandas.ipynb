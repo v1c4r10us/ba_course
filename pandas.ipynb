{
 "cells": [
  {
   "cell_type": "markdown",
   "id": "3cace08c-8d68-4d99-b98e-140ed7f39fbb",
   "metadata": {},
   "source": [
    "## Series"
   ]
  },
  {
   "cell_type": "markdown",
   "id": "908b50b6-6dc0-47f5-8345-c7f4f2afed8d",
   "metadata": {},
   "source": [
    "### A partir de una lista"
   ]
  },
  {
   "cell_type": "code",
   "execution_count": 1,
   "id": "dce0c42e-55eb-46dc-9050-0493c04554ff",
   "metadata": {},
   "outputs": [],
   "source": [
    "import pandas as pd\n",
    "import numpy as np"
   ]
  },
  {
   "cell_type": "code",
   "execution_count": null,
   "id": "f785573f-efdb-4cd4-b329-2bec90f4130f",
   "metadata": {},
   "outputs": [],
   "source": [
    "s = pd.Series(['Matemáticas', 'Historia', 'Economía', 'Programación', 'Inglés'], dtype='string')\n",
    "s"
   ]
  },
  {
   "cell_type": "markdown",
   "id": "84c085cb-2d8e-4df0-a006-d55aee1eabc7",
   "metadata": {},
   "source": [
    "### A partir de un diccionario"
   ]
  },
  {
   "cell_type": "code",
   "execution_count": null,
   "id": "68ef3123-0c16-437c-aa7a-b23789dcfcbf",
   "metadata": {},
   "outputs": [],
   "source": [
    "s = pd.Series({'Matemáticas': 6.0,  'Economía': 4.5, 'Programación': 8.5})\n",
    "s"
   ]
  },
  {
   "cell_type": "markdown",
   "id": "fd996a16-70bd-42b5-8b63-3361db3a982b",
   "metadata": {},
   "source": [
    "### Atributos"
   ]
  },
  {
   "cell_type": "code",
   "execution_count": null,
   "id": "94c40cd8-e9ba-4c32-a414-d3a009efa842",
   "metadata": {},
   "outputs": [],
   "source": [
    "s.size"
   ]
  },
  {
   "cell_type": "code",
   "execution_count": null,
   "id": "715c9e2a-d491-4fb4-92b7-2cb0c82bf042",
   "metadata": {},
   "outputs": [],
   "source": [
    "s.index"
   ]
  },
  {
   "cell_type": "code",
   "execution_count": null,
   "id": "a1d8e66f-4b07-4023-861e-784152b539cf",
   "metadata": {},
   "outputs": [],
   "source": [
    "s.dtype"
   ]
  },
  {
   "cell_type": "code",
   "execution_count": null,
   "id": "06d1812e-8029-46f4-8ccf-e10515e26cc8",
   "metadata": {},
   "outputs": [],
   "source": [
    "s[0:2]"
   ]
  },
  {
   "cell_type": "code",
   "execution_count": null,
   "id": "25e34285-8594-4a4c-8681-dda7f1cc0ae9",
   "metadata": {},
   "outputs": [],
   "source": [
    "s=pd.Series(np.random.randint(1,100,size=10))\n",
    "s"
   ]
  },
  {
   "cell_type": "code",
   "execution_count": null,
   "id": "59c4b2cb-5989-44cb-a13c-b5e4557ad26d",
   "metadata": {},
   "outputs": [],
   "source": [
    "s.min()"
   ]
  },
  {
   "cell_type": "code",
   "execution_count": null,
   "id": "e504e46e-f9c4-4f24-a27b-79fd887ed3b3",
   "metadata": {},
   "outputs": [],
   "source": [
    "s.max()"
   ]
  },
  {
   "cell_type": "code",
   "execution_count": null,
   "id": "9763b473-5497-4f75-84a9-42199c2ffa0e",
   "metadata": {},
   "outputs": [],
   "source": [
    "s.count()"
   ]
  },
  {
   "cell_type": "code",
   "execution_count": null,
   "id": "7f617723-1f38-4bc9-b86f-d98036c8a4a9",
   "metadata": {},
   "outputs": [],
   "source": [
    "s.cumsum()"
   ]
  },
  {
   "cell_type": "code",
   "execution_count": null,
   "id": "32151179-b5a9-4e8c-98c5-a767bcf11d8f",
   "metadata": {},
   "outputs": [],
   "source": [
    "s.value_counts()"
   ]
  },
  {
   "cell_type": "code",
   "execution_count": null,
   "id": "935183a9-beef-41d6-b5d8-7433a63ae6e1",
   "metadata": {},
   "outputs": [],
   "source": [
    "s.mean()"
   ]
  },
  {
   "cell_type": "code",
   "execution_count": null,
   "id": "f296e569-9f3b-4ee7-8a39-45bc2a640e3e",
   "metadata": {},
   "outputs": [],
   "source": [
    "s.std()"
   ]
  },
  {
   "cell_type": "code",
   "execution_count": null,
   "id": "96ae506e-2dd0-4ca9-98ee-9ab5eea9e3f3",
   "metadata": {},
   "outputs": [],
   "source": [
    "s.describe()"
   ]
  },
  {
   "cell_type": "code",
   "execution_count": null,
   "id": "71fa7737-1707-4be5-8510-c648c590109e",
   "metadata": {},
   "outputs": [],
   "source": [
    "s.apply(lambda x: 'Si' if x>20 else 'No')"
   ]
  },
  {
   "cell_type": "code",
   "execution_count": null,
   "id": "1dfdfbe4-6cf0-4d22-bd2a-2dd74c38dbd4",
   "metadata": {},
   "outputs": [],
   "source": [
    "s[s>20]"
   ]
  },
  {
   "cell_type": "code",
   "execution_count": null,
   "id": "7fe619be-9900-4157-8be8-03ba3bc57a55",
   "metadata": {},
   "outputs": [],
   "source": [
    "s.sort_values(ascending=False)"
   ]
  },
  {
   "cell_type": "code",
   "execution_count": null,
   "id": "915f764f-b4d8-4b9a-bced-078fcf7c112f",
   "metadata": {},
   "outputs": [],
   "source": [
    "s.sort_index(ascending=False)"
   ]
  },
  {
   "cell_type": "code",
   "execution_count": null,
   "id": "ed5f07c1-f0d8-4865-8268-df9f3dba427d",
   "metadata": {},
   "outputs": [],
   "source": [
    "s[0]=None\n",
    "s[4]=None\n",
    "s.dropna()"
   ]
  },
  {
   "cell_type": "markdown",
   "id": "d6a4f22d-0de4-406f-972b-6fa40776d175",
   "metadata": {},
   "source": [
    "## Dataframe"
   ]
  },
  {
   "cell_type": "markdown",
   "id": "89f8a47e-b1e3-4688-9b2a-e3956709e04d",
   "metadata": {},
   "source": [
    "### A partir de un diccionario de listas"
   ]
  },
  {
   "cell_type": "code",
   "execution_count": 2,
   "id": "6ccb5d1f-3b35-4321-85e8-45133bda7630",
   "metadata": {},
   "outputs": [
    {
     "data": {
      "text/plain": [
       "{'nombre': ['Maria', 'Pepe', 'Ana', 'Miguel'],\n",
       " 'edad': [18, 20, 23, 30],\n",
       " 'profesion': ['Enfermera', 'Policia', 'Arquitecta', 'Ingeniero']}"
      ]
     },
     "execution_count": 2,
     "metadata": {},
     "output_type": "execute_result"
    }
   ],
   "source": [
    "data={'nombre':['Maria', 'Pepe', 'Ana', 'Miguel'], \n",
    "      'edad':[18,20,23,30], \n",
    "      'profesion':['Enfermera', 'Policia', 'Arquitecta', 'Ingeniero']}\n",
    "data"
   ]
  },
  {
   "cell_type": "code",
   "execution_count": 3,
   "id": "55e98a8e-e14c-4a85-8d04-07c0f3fd44e7",
   "metadata": {},
   "outputs": [
    {
     "data": {
      "text/html": [
       "<div>\n",
       "<style scoped>\n",
       "    .dataframe tbody tr th:only-of-type {\n",
       "        vertical-align: middle;\n",
       "    }\n",
       "\n",
       "    .dataframe tbody tr th {\n",
       "        vertical-align: top;\n",
       "    }\n",
       "\n",
       "    .dataframe thead th {\n",
       "        text-align: right;\n",
       "    }\n",
       "</style>\n",
       "<table border=\"1\" class=\"dataframe\">\n",
       "  <thead>\n",
       "    <tr style=\"text-align: right;\">\n",
       "      <th></th>\n",
       "      <th>nombre</th>\n",
       "      <th>edad</th>\n",
       "      <th>profesion</th>\n",
       "    </tr>\n",
       "  </thead>\n",
       "  <tbody>\n",
       "    <tr>\n",
       "      <th>0</th>\n",
       "      <td>Maria</td>\n",
       "      <td>18</td>\n",
       "      <td>Enfermera</td>\n",
       "    </tr>\n",
       "    <tr>\n",
       "      <th>1</th>\n",
       "      <td>Pepe</td>\n",
       "      <td>20</td>\n",
       "      <td>Policia</td>\n",
       "    </tr>\n",
       "    <tr>\n",
       "      <th>2</th>\n",
       "      <td>Ana</td>\n",
       "      <td>23</td>\n",
       "      <td>Arquitecta</td>\n",
       "    </tr>\n",
       "    <tr>\n",
       "      <th>3</th>\n",
       "      <td>Miguel</td>\n",
       "      <td>30</td>\n",
       "      <td>Ingeniero</td>\n",
       "    </tr>\n",
       "  </tbody>\n",
       "</table>\n",
       "</div>"
      ],
      "text/plain": [
       "   nombre  edad   profesion\n",
       "0   Maria    18   Enfermera\n",
       "1    Pepe    20     Policia\n",
       "2     Ana    23  Arquitecta\n",
       "3  Miguel    30   Ingeniero"
      ]
     },
     "execution_count": 3,
     "metadata": {},
     "output_type": "execute_result"
    }
   ],
   "source": [
    "df=pd.DataFrame(data)\n",
    "df"
   ]
  },
  {
   "cell_type": "markdown",
   "id": "b4eb6e52-4cd8-4c01-92c9-a8a6d8cf3212",
   "metadata": {},
   "source": [
    "### A partir de una lista de listas"
   ]
  },
  {
   "cell_type": "code",
   "execution_count": null,
   "id": "94d6eea6-7b9a-4ef4-afc8-47e9dd774612",
   "metadata": {},
   "outputs": [],
   "source": [
    "data=[['Maria', 18, 'Enfermera'], \n",
    "      ['Pepe', 20, 'Policia'], \n",
    "      ['Ana', 23, 'Arquitecta'],\n",
    "      ['Miguel', 30, 'Ingeniero']]\n",
    "data"
   ]
  },
  {
   "cell_type": "code",
   "execution_count": null,
   "id": "2df67d46-254d-44c2-8730-ecdafdd3b332",
   "metadata": {},
   "outputs": [],
   "source": [
    "df=pd.DataFrame(data, columns=['Nombre', 'Edad', 'Profesion'])\n",
    "df"
   ]
  },
  {
   "cell_type": "markdown",
   "id": "8f2c203d-131d-4fa4-a166-222e67a6e743",
   "metadata": {},
   "source": [
    "### A partir de una lista de diccionarios"
   ]
  },
  {
   "cell_type": "code",
   "execution_count": null,
   "id": "c5e6e82b-a11f-4fb6-b93f-f51085200ca2",
   "metadata": {},
   "outputs": [],
   "source": [
    "data=[{'nombre':'Maria', 'edad':18, 'profesion':'Enfermera'},\n",
    "      {'nombre':'Pepe', 'edad': 20, 'profesion':'Policia'},\n",
    "      {'nombre':'Ana', 'edad':23, 'profesion':'Arquitecta'},\n",
    "      {'nombre':'Miguel', 'edad':30, 'profesion':'Ingeniero'}]"
   ]
  },
  {
   "cell_type": "code",
   "execution_count": null,
   "id": "4fa7c6c6-b706-4554-8669-a589f3515018",
   "metadata": {},
   "outputs": [],
   "source": [
    "df=pd.DataFrame(data)\n",
    "df"
   ]
  },
  {
   "cell_type": "markdown",
   "id": "5e643158-40fa-462f-ac23-60c76ee07b41",
   "metadata": {},
   "source": [
    "### A partir de un array"
   ]
  },
  {
   "cell_type": "code",
   "execution_count": null,
   "id": "f583304e-3a54-4162-b944-ca618772bd38",
   "metadata": {},
   "outputs": [],
   "source": [
    "df=pd.DataFrame(np.random.randn(4,3), columns=['voltage', 'current', 'power'])\n",
    "df"
   ]
  },
  {
   "cell_type": "markdown",
   "id": "116b1d5f-c0a1-4eae-8879-200eead901ad",
   "metadata": {},
   "source": [
    "### A partir de un fichero csv"
   ]
  },
  {
   "cell_type": "code",
   "execution_count": null,
   "id": "e3e0c882-b4b2-4cc2-bd05-0f348d70e492",
   "metadata": {},
   "outputs": [],
   "source": [
    "df=pd.read_csv('imdb.csv', sep=',')\n",
    "df"
   ]
  },
  {
   "cell_type": "code",
   "execution_count": null,
   "id": "e8c0bf8d-682a-4618-ba00-25a59a27034d",
   "metadata": {},
   "outputs": [],
   "source": [
    "df.info()"
   ]
  },
  {
   "cell_type": "code",
   "execution_count": null,
   "id": "2aca02c8-904f-434f-90f4-249ffc871811",
   "metadata": {},
   "outputs": [],
   "source": [
    "df.size"
   ]
  },
  {
   "cell_type": "code",
   "execution_count": null,
   "id": "e547ae1f-980c-4ef3-ab89-0f07555a2384",
   "metadata": {},
   "outputs": [],
   "source": [
    "df.shape"
   ]
  },
  {
   "cell_type": "code",
   "execution_count": null,
   "id": "67f84880-4007-4fae-af59-1099867faeb7",
   "metadata": {},
   "outputs": [],
   "source": [
    "df.columns"
   ]
  },
  {
   "cell_type": "code",
   "execution_count": null,
   "id": "ad9bb616-03b3-4507-8b73-13282363835b",
   "metadata": {},
   "outputs": [],
   "source": [
    "df.index"
   ]
  },
  {
   "cell_type": "code",
   "execution_count": null,
   "id": "b5ae1829-bfc1-439e-a3cd-b3daca32dda7",
   "metadata": {},
   "outputs": [],
   "source": [
    "df.head(5)"
   ]
  },
  {
   "cell_type": "code",
   "execution_count": null,
   "id": "42330518-106d-4d29-8da2-8fa17626c57c",
   "metadata": {},
   "outputs": [],
   "source": [
    "df.tail(5)"
   ]
  },
  {
   "cell_type": "code",
   "execution_count": null,
   "id": "d0d06cc5-1c47-40e9-b9a2-f1f49ded82cc",
   "metadata": {},
   "outputs": [],
   "source": [
    "df.rename(columns={'Title':'Movie'})"
   ]
  },
  {
   "cell_type": "code",
   "execution_count": null,
   "id": "2ee57930-f09f-47dd-8354-6df304a8cad2",
   "metadata": {},
   "outputs": [],
   "source": [
    "df=pd.DataFrame(np.random.randn(3,3), columns=['voltage','current','power'])\n",
    "df"
   ]
  },
  {
   "cell_type": "code",
   "execution_count": null,
   "id": "a602a657-5e99-43dd-91d6-08b148e07c53",
   "metadata": {},
   "outputs": [],
   "source": [
    "df.reindex(index=[0,1,2,3,4,5])"
   ]
  },
  {
   "cell_type": "markdown",
   "id": "c6887abc-046e-46e8-9bdb-3adf98068577",
   "metadata": {},
   "source": [
    "### Acceso"
   ]
  },
  {
   "cell_type": "code",
   "execution_count": null,
   "id": "35ce0fa8-58c9-4545-80f3-f95211f46bc0",
   "metadata": {},
   "outputs": [],
   "source": [
    "df.iloc[[0,1],[2]]"
   ]
  },
  {
   "cell_type": "code",
   "execution_count": null,
   "id": "a7198004-32f0-4fdd-9d29-5bd7f8203286",
   "metadata": {},
   "outputs": [],
   "source": [
    "df.iloc[1]"
   ]
  },
  {
   "cell_type": "code",
   "execution_count": null,
   "id": "3e0d0bf2-11f0-4ff8-9d58-2e19fc375660",
   "metadata": {},
   "outputs": [],
   "source": [
    "df.loc[0,'current']"
   ]
  },
  {
   "cell_type": "code",
   "execution_count": null,
   "id": "add56966-e03d-4076-b2e1-3349cbba56c6",
   "metadata": {},
   "outputs": [],
   "source": [
    "df.loc[[1,2],['current','power']]"
   ]
  },
  {
   "cell_type": "code",
   "execution_count": null,
   "id": "a634c6f9-97b5-477f-abd1-0ae972a53829",
   "metadata": {},
   "outputs": [],
   "source": [
    "df['voltage']"
   ]
  },
  {
   "cell_type": "code",
   "execution_count": null,
   "id": "68489699-ac1b-42b6-8cc3-99ee2c9e3412",
   "metadata": {},
   "outputs": [],
   "source": [
    "df.current"
   ]
  },
  {
   "cell_type": "markdown",
   "id": "2e52f6c7-9ecd-485b-a366-23d9f622ca4d",
   "metadata": {},
   "source": [
    "### Operaciones"
   ]
  },
  {
   "cell_type": "code",
   "execution_count": null,
   "id": "cee7bf3d-6332-44d0-98c6-ff6caf066e3a",
   "metadata": {},
   "outputs": [],
   "source": [
    "df['energy']=df.power * 24"
   ]
  },
  {
   "cell_type": "code",
   "execution_count": null,
   "id": "0f347b13-a386-4042-9814-7e2ce14647bf",
   "metadata": {},
   "outputs": [],
   "source": [
    "df"
   ]
  },
  {
   "cell_type": "code",
   "execution_count": null,
   "id": "32fcee5d-02c0-4371-b733-32b96427b1fb",
   "metadata": {},
   "outputs": [],
   "source": [
    "df['consumo']=df['energy'].apply(lambda x: 'Elevado' if x>20 else 'Bajo')\n",
    "df"
   ]
  },
  {
   "cell_type": "code",
   "execution_count": null,
   "id": "912ff3c4-d271-472d-9870-bca83e1a63d1",
   "metadata": {},
   "outputs": [],
   "source": [
    "df['timestamp']=['30-06-2024','01-07-2024','02-07-2024']\n",
    "df"
   ]
  },
  {
   "cell_type": "code",
   "execution_count": null,
   "id": "0edc5b8a-37fd-4817-b0ec-fd92c522ba44",
   "metadata": {},
   "outputs": [],
   "source": [
    "df['timestamp']=pd.to_datetime(df['timestamp'], format='%d-%m-%Y')"
   ]
  },
  {
   "cell_type": "code",
   "execution_count": null,
   "id": "e68c3694-84c1-463d-8145-419a48b1a956",
   "metadata": {},
   "outputs": [],
   "source": [
    "df"
   ]
  },
  {
   "cell_type": "markdown",
   "id": "f87d4cdc-a9d8-44f9-918b-64444255eb5a",
   "metadata": {},
   "source": [
    "### Operaciones"
   ]
  },
  {
   "cell_type": "code",
   "execution_count": null,
   "id": "79022439-c08c-47be-81b2-4da3111a406a",
   "metadata": {},
   "outputs": [],
   "source": [
    "df.count()"
   ]
  },
  {
   "cell_type": "code",
   "execution_count": null,
   "id": "59e97a28-76a2-4d0c-8205-5dccf11e12fe",
   "metadata": {},
   "outputs": [],
   "source": [
    "df.voltage.sum()"
   ]
  },
  {
   "cell_type": "code",
   "execution_count": null,
   "id": "5a7fb210-a123-4934-8cbc-1af199941e69",
   "metadata": {},
   "outputs": [],
   "source": [
    "df.current.mean()"
   ]
  },
  {
   "cell_type": "code",
   "execution_count": null,
   "id": "1ebbbcac-426c-45ca-bf4d-f11a9153176b",
   "metadata": {},
   "outputs": [],
   "source": [
    "df.power.min()"
   ]
  },
  {
   "cell_type": "code",
   "execution_count": null,
   "id": "e0aeebd2-469f-4c6a-b409-075b7c4d9cbd",
   "metadata": {},
   "outputs": [],
   "source": [
    "df.power.max()"
   ]
  },
  {
   "cell_type": "code",
   "execution_count": null,
   "id": "064e268c-82a9-4f48-b154-4eaaccd8ba6b",
   "metadata": {},
   "outputs": [],
   "source": [
    "df.power.std()"
   ]
  },
  {
   "cell_type": "code",
   "execution_count": null,
   "id": "be52f0f3-4034-4ff2-bcab-002dbcc1d5e6",
   "metadata": {},
   "outputs": [],
   "source": [
    "df.describe()"
   ]
  },
  {
   "cell_type": "code",
   "execution_count": null,
   "id": "cbadb2e7-a2b8-45ca-9178-64e24d9c5cec",
   "metadata": {},
   "outputs": [],
   "source": [
    "del df['timestamp']\n",
    "df"
   ]
  },
  {
   "cell_type": "code",
   "execution_count": null,
   "id": "069727a7-f9c0-40eb-95d5-5e8fa5671f49",
   "metadata": {},
   "outputs": [],
   "source": [
    "df.pop('consumo')"
   ]
  },
  {
   "cell_type": "code",
   "execution_count": null,
   "id": "73298d02-6457-466e-ab2a-a9ff83f923e1",
   "metadata": {},
   "outputs": [],
   "source": [
    "df=pd.DataFrame(np.random.randn(3,3), columns=['voltage', 'current', 'power'])\n",
    "df1=pd.DataFrame(np.random.randn(1,3), columns=['voltage', 'current', 'power'])"
   ]
  },
  {
   "cell_type": "code",
   "execution_count": null,
   "id": "3292bd3b-5b2b-4bdd-9b24-5c3975db3754",
   "metadata": {},
   "outputs": [],
   "source": [
    "pd.concat([df,df1], ignore_index=True)"
   ]
  },
  {
   "cell_type": "code",
   "execution_count": null,
   "id": "f4f388b8-b1d6-4833-a390-30134813da6c",
   "metadata": {},
   "outputs": [],
   "source": [
    "df.drop(0)"
   ]
  },
  {
   "cell_type": "code",
   "execution_count": null,
   "id": "db59c439-6939-4b3c-ae08-5bb1b06cdabc",
   "metadata": {},
   "outputs": [],
   "source": [
    "df[(df['voltage']<0) & (df['current']<0)]"
   ]
  },
  {
   "cell_type": "code",
   "execution_count": null,
   "id": "3c0e046f-a64c-4713-a8ef-4df26c908350",
   "metadata": {},
   "outputs": [],
   "source": [
    "df=pd.read_csv('colesterol.csv')\n",
    "df"
   ]
  },
  {
   "cell_type": "code",
   "execution_count": null,
   "id": "a9ac16aa-86ed-47ac-b21d-bbc605547311",
   "metadata": {},
   "outputs": [],
   "source": [
    "df.groupby('sexo').groups"
   ]
  },
  {
   "cell_type": "code",
   "execution_count": null,
   "id": "9202b414-087e-4136-8771-ede7a5723e14",
   "metadata": {},
   "outputs": [],
   "source": [
    "df.groupby('sexo').get_group('M')"
   ]
  },
  {
   "cell_type": "code",
   "execution_count": null,
   "id": "c06c778b-6c3f-44bc-818c-02bbfbaebb64",
   "metadata": {},
   "outputs": [],
   "source": [
    "df[['sexo','edad','peso','altura','colesterol']].groupby('sexo').agg('mean')"
   ]
  },
  {
   "cell_type": "markdown",
   "id": "b79aa1c8-c80d-4be8-9c41-9485fd1c2e36",
   "metadata": {},
   "source": [
    "### Formato largo - Formato ancho"
   ]
  },
  {
   "cell_type": "code",
   "execution_count": null,
   "id": "96c2c082-5edf-4cc8-9b13-9e9465242e84",
   "metadata": {},
   "outputs": [],
   "source": [
    "datos = {'nombre':['María', 'Luis', 'Carmen'],\n",
    "         'edad':[18, 22, 20],\n",
    "         'Matemáticas':[8.5, 7, 3.5],\n",
    "         'Economía':[8, 6.5, 5],\n",
    "         'Programación':[6.5, 4, 9]}"
   ]
  },
  {
   "cell_type": "code",
   "execution_count": null,
   "id": "e7ea4e02-6954-4682-9799-b04fca42c518",
   "metadata": {},
   "outputs": [],
   "source": [
    "df = pd.DataFrame(datos)\n",
    "df"
   ]
  },
  {
   "cell_type": "code",
   "execution_count": null,
   "id": "fb758814-dce1-461f-9d6d-a62fc3e26abc",
   "metadata": {},
   "outputs": [],
   "source": [
    "df1 = df.melt(id_vars=['nombre', 'edad'], var_name='asignatura', value_name='nota')\n",
    "df1"
   ]
  },
  {
   "cell_type": "code",
   "execution_count": null,
   "id": "8d4e0e35-c153-4d98-975c-f77f448c44cb",
   "metadata": {},
   "outputs": [],
   "source": [
    "df1.pivot(index=['nombre','edad'], columns='asignatura', values='nota')"
   ]
  }
 ],
 "metadata": {
  "kernelspec": {
   "display_name": "Python 3 (ipykernel)",
   "language": "python",
   "name": "python3"
  },
  "language_info": {
   "codemirror_mode": {
    "name": "ipython",
    "version": 3
   },
   "file_extension": ".py",
   "mimetype": "text/x-python",
   "name": "python",
   "nbconvert_exporter": "python",
   "pygments_lexer": "ipython3",
   "version": "3.12.4"
  }
 },
 "nbformat": 4,
 "nbformat_minor": 5
}
