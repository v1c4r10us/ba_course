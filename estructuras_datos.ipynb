{
 "cells": [
  {
   "cell_type": "markdown",
   "id": "8618c1f7-db15-4d5e-88bc-bab66f17fed4",
   "metadata": {},
   "source": [
    "# Operadores aritmeticos"
   ]
  },
  {
   "cell_type": "markdown",
   "id": "1a1a83ea-7591-4b32-87af-4dffab86c309",
   "metadata": {},
   "source": [
    "| Operador      | Descripcion     | \n",
    "|:------------: |:---------------:|\n",
    "| +             | Suma            |\n",
    "| -             | Resta           |\n",
    "| *             | Multiplicacion  |\n",
    "| **            | Potencia        |\n",
    "| /             | Division        |\n",
    "| //            | Division entera |\n",
    "| %             | Modulo          |"
   ]
  },
  {
   "cell_type": "markdown",
   "id": "13d62e20-2336-447e-849b-37f2279fbe21",
   "metadata": {},
   "source": [
    "# Operadores de asignación"
   ]
  },
  {
   "cell_type": "markdown",
   "id": "a65a79c3-fdfd-42f3-9596-ce3e3ac42b1a",
   "metadata": {},
   "source": [
    "| Operador      | Descripcion     | \n",
    "|:------------: |:---------------:|\n",
    "| +=            | Suma            |\n",
    "| -=            | Resta           |\n",
    "| *=            | Multiplicacion  |\n",
    "| **=           | Potencia        |\n",
    "| /=            | Division        |\n",
    "| //=           | Division entera |\n",
    "| %=            | Modulo          |"
   ]
  },
  {
   "cell_type": "markdown",
   "id": "34b3efa3-bc0b-49b9-a9f3-a9122697cb5d",
   "metadata": {},
   "source": [
    "# Operadores relacionales"
   ]
  },
  {
   "cell_type": "markdown",
   "id": "53a0b26e-1dc4-4123-9b72-f95377a09c91",
   "metadata": {},
   "source": [
    "| Operador      | Descripcion     | \n",
    "|:------------: |:---------------:|\n",
    "| ==            | Igualdad        |\n",
    "| !=            | Distinto        |\n",
    "| <             | Mayor           |\n",
    "| >             | Menor           |\n",
    "| <=            | Mayor igual     |\n",
    "| >=            | Menor igual     |"
   ]
  },
  {
   "cell_type": "markdown",
   "id": "a729fa62-55a2-4021-9093-1e32105f08cd",
   "metadata": {},
   "source": [
    "# Operadores lógicos"
   ]
  },
  {
   "cell_type": "markdown",
   "id": "80871720-c7fa-4538-9cc9-5c01562aef2a",
   "metadata": {},
   "source": [
    "| Operador      | Descripcion     | \n",
    "|:------------: |:---------------:|\n",
    "| and           | Operador AND    |\n",
    "| or            | Operador OR     |\n",
    "| not           | Operador NOT    |"
   ]
  },
  {
   "cell_type": "markdown",
   "id": "d5226ee9-005c-4145-8f5e-dc3081c2ef50",
   "metadata": {},
   "source": [
    "# Estructura de datos\n",
    "## 1. Listas"
   ]
  },
  {
   "cell_type": "code",
   "execution_count": 79,
   "id": "a65d9c48-c9c3-4251-96fc-dfc61edbb01f",
   "metadata": {},
   "outputs": [],
   "source": [
    "frutas = ['naranja', 'manzana', 'pera', 'platano', 'kiwi', 'manzana', 'platano']"
   ]
  },
  {
   "cell_type": "code",
   "execution_count": 21,
   "id": "5ec6e883-01d8-462e-bf87-e73e07674ad5",
   "metadata": {},
   "outputs": [
    {
     "data": {
      "text/plain": [
       "8"
      ]
     },
     "execution_count": 21,
     "metadata": {},
     "output_type": "execute_result"
    }
   ],
   "source": [
    "len(frutas)"
   ]
  },
  {
   "cell_type": "code",
   "execution_count": 15,
   "id": "c979faaf-d59d-4893-b2a7-61b8f5bca338",
   "metadata": {},
   "outputs": [],
   "source": [
    "#Append\n",
    "frutas.append('uva')"
   ]
  },
  {
   "cell_type": "code",
   "execution_count": 17,
   "id": "5c7c35a9-6d0a-496e-a7b4-e4f9b22100f9",
   "metadata": {},
   "outputs": [
    {
     "data": {
      "text/plain": [
       "['naranja',\n",
       " 'manzana',\n",
       " 'pera',\n",
       " 'platano',\n",
       " 'kiwi',\n",
       " 'manzana',\n",
       " 'platano',\n",
       " 'uva',\n",
       " 'fresa',\n",
       " 'coco']"
      ]
     },
     "execution_count": 17,
     "metadata": {},
     "output_type": "execute_result"
    }
   ],
   "source": [
    "#Extend\n",
    "frutas.extend(['uva', 'fresa', 'coco'])\n",
    "frutas"
   ]
  },
  {
   "cell_type": "code",
   "execution_count": 23,
   "id": "249dc0e3-45d9-4296-b3d1-50ba8ace2952",
   "metadata": {},
   "outputs": [
    {
     "data": {
      "text/plain": [
       "['naranja',\n",
       " 'papaya',\n",
       " 'manzana',\n",
       " 'pera',\n",
       " 'platano',\n",
       " 'kiwi',\n",
       " 'manzana',\n",
       " 'platano']"
      ]
     },
     "execution_count": 23,
     "metadata": {},
     "output_type": "execute_result"
    }
   ],
   "source": [
    "#Insert\n",
    "frutas.insert(1, 'papaya')\n",
    "frutas"
   ]
  },
  {
   "cell_type": "code",
   "execution_count": 27,
   "id": "1913aaaa-da54-4e60-838e-504bb6b64dac",
   "metadata": {},
   "outputs": [
    {
     "data": {
      "text/plain": [
       "['naranja', 'pera', 'platano', 'kiwi', 'platano']"
      ]
     },
     "execution_count": 27,
     "metadata": {},
     "output_type": "execute_result"
    }
   ],
   "source": [
    "#Remove\n",
    "frutas.remove('manzana')\n",
    "frutas"
   ]
  },
  {
   "cell_type": "code",
   "execution_count": 37,
   "id": "8544f7be-5634-422f-b5e0-ea7dc349d9c4",
   "metadata": {},
   "outputs": [
    {
     "data": {
      "text/plain": [
       "['naranja', 'manzana', 'pera', 'platano', 'kiwi', 'manzana', 'platano']"
      ]
     },
     "execution_count": 37,
     "metadata": {},
     "output_type": "execute_result"
    }
   ],
   "source": [
    "#Pop\n",
    "frutas.pop()\n",
    "frutas"
   ]
  },
  {
   "cell_type": "code",
   "execution_count": 38,
   "id": "ee1d0942-008f-4899-be73-bc1ec8b8f745",
   "metadata": {},
   "outputs": [
    {
     "data": {
      "text/plain": [
       "[]"
      ]
     },
     "execution_count": 38,
     "metadata": {},
     "output_type": "execute_result"
    }
   ],
   "source": [
    "#Clear\n",
    "frutas.clear()\n",
    "frutas"
   ]
  },
  {
   "cell_type": "code",
   "execution_count": 41,
   "id": "dd3f6d94-1c52-4831-a161-813cc9424966",
   "metadata": {},
   "outputs": [
    {
     "data": {
      "text/plain": [
       "5"
      ]
     },
     "execution_count": 41,
     "metadata": {},
     "output_type": "execute_result"
    }
   ],
   "source": [
    "#Index\n",
    "frutas.index('manzana')\n",
    "frutas.index('manzana', 2, 6)"
   ]
  },
  {
   "cell_type": "code",
   "execution_count": 45,
   "id": "b5422b69-0cb9-478b-9223-4e79890027fc",
   "metadata": {},
   "outputs": [
    {
     "data": {
      "text/plain": [
       "3"
      ]
     },
     "execution_count": 45,
     "metadata": {},
     "output_type": "execute_result"
    }
   ],
   "source": [
    "#Count\n",
    "frutas.count('manzana')"
   ]
  },
  {
   "cell_type": "code",
   "execution_count": 53,
   "id": "9eb15253-b19d-4fc8-966b-ebdb8501c38d",
   "metadata": {},
   "outputs": [
    {
     "data": {
      "text/plain": [
       "['kiwi', 'manzana', 'manzana', 'naranja', 'pera', 'platano', 'platano']"
      ]
     },
     "execution_count": 53,
     "metadata": {},
     "output_type": "execute_result"
    }
   ],
   "source": [
    "#Sort\n",
    "frutas.sort()\n",
    "frutas"
   ]
  },
  {
   "cell_type": "code",
   "execution_count": 55,
   "id": "5ffc6f24-c4a3-4f35-b4b5-8e94d8c2f97d",
   "metadata": {},
   "outputs": [
    {
     "data": {
      "text/plain": [
       "['platano', 'manzana', 'kiwi', 'platano', 'pera', 'manzana', 'naranja']"
      ]
     },
     "execution_count": 55,
     "metadata": {},
     "output_type": "execute_result"
    }
   ],
   "source": [
    "#Reverse\n",
    "frutas.reverse()\n",
    "frutas"
   ]
  },
  {
   "cell_type": "code",
   "execution_count": 59,
   "id": "8660eaa0-8ee2-4b26-b626-2c2501c8f2a1",
   "metadata": {},
   "outputs": [
    {
     "data": {
      "text/plain": [
       "['naranja', 'manzana', 'pera', 'platano', 'kiwi', 'manzana', 'platano']"
      ]
     },
     "execution_count": 59,
     "metadata": {},
     "output_type": "execute_result"
    }
   ],
   "source": [
    "#Copy\n",
    "mis_frutas=frutas.copy()\n",
    "nuevas_frutas=frutas\n",
    "nuevas_frutas"
   ]
  },
  {
   "cell_type": "code",
   "execution_count": 70,
   "id": "3c25b1af-778d-4245-b0d4-a3d5a3ae8c94",
   "metadata": {},
   "outputs": [
    {
     "data": {
      "text/plain": [
       "['naranja', 'manzana', 'pera', 'platano', 'kiwi']"
      ]
     },
     "execution_count": 70,
     "metadata": {},
     "output_type": "execute_result"
    }
   ],
   "source": [
    "#List slicing\n",
    "# Lst[ Initial : End : IndexJump ]\n",
    "frutas[:-2]"
   ]
  },
  {
   "cell_type": "code",
   "execution_count": 78,
   "id": "477e73c1-bcb3-4b3f-b9e3-4720ee2d6c4b",
   "metadata": {},
   "outputs": [
    {
     "data": {
      "text/plain": [
       "[]"
      ]
     },
     "execution_count": 78,
     "metadata": {},
     "output_type": "execute_result"
    }
   ],
   "source": [
    "#Del\n",
    "del frutas[0]\n",
    "frutas"
   ]
  },
  {
   "cell_type": "code",
   "execution_count": 81,
   "id": "6afb3939-4e7c-473a-b3bc-58653a938429",
   "metadata": {},
   "outputs": [
    {
     "data": {
      "text/plain": [
       "['mora', 'mango', 'pera', 'platano', 'kiwi', 'manzana', 'platano']"
      ]
     },
     "execution_count": 81,
     "metadata": {},
     "output_type": "execute_result"
    }
   ],
   "source": [
    "#Mutability\n",
    "frutas[1]='mango'\n",
    "frutas"
   ]
  },
  {
   "cell_type": "markdown",
   "id": "5117c2a9-e7df-4eda-954b-d9fc5aac79ce",
   "metadata": {},
   "source": [
    "## 2. Tuplas"
   ]
  },
  {
   "cell_type": "code",
   "execution_count": 1,
   "id": "b994501c-d4e1-4674-981d-093bfcb5b636",
   "metadata": {},
   "outputs": [
    {
     "name": "stdout",
     "output_type": "stream",
     "text": [
      "Espacio en memoria para lista: 800984\n",
      "Espacio en memoria para tupla: 800040\n"
     ]
    }
   ],
   "source": [
    "#List vs Tuple\n",
    "from sys import getsizeof\n",
    "lst = list(x for x in range(10**5))\n",
    "print('Espacio en memoria para lista: ' + str(getsizeof(lst)))\n",
    "tple = tuple(x for x in range(10**5))\n",
    "print('Espacio en memoria para tupla: ' + str(getsizeof(tple)))"
   ]
  },
  {
   "cell_type": "code",
   "execution_count": 2,
   "id": "a43e21a7-9bdf-40fe-98cc-d63057ed36ba",
   "metadata": {},
   "outputs": [
    {
     "data": {
      "text/plain": [
       "(1, 'mango', 3.1416, ['a', 'b'])"
      ]
     },
     "execution_count": 2,
     "metadata": {},
     "output_type": "execute_result"
    }
   ],
   "source": [
    "#No mutability\n",
    "x=1,'mango', 3.1416, ['a','b']\n",
    "x"
   ]
  },
  {
   "cell_type": "code",
   "execution_count": 4,
   "id": "cb67a8e3-c8cd-41bc-b344-4ed80acaf121",
   "metadata": {},
   "outputs": [
    {
     "ename": "TypeError",
     "evalue": "'tuple' object does not support item assignment",
     "output_type": "error",
     "traceback": [
      "\u001b[0;31m---------------------------------------------------------------------------\u001b[0m",
      "\u001b[0;31mTypeError\u001b[0m                                 Traceback (most recent call last)",
      "Cell \u001b[0;32mIn[4], line 1\u001b[0m\n\u001b[0;32m----> 1\u001b[0m \u001b[43mx\u001b[49m\u001b[43m[\u001b[49m\u001b[38;5;241;43m0\u001b[39;49m\u001b[43m]\u001b[49m\u001b[38;5;241m=\u001b[39m\u001b[38;5;241m4\u001b[39m\n",
      "\u001b[0;31mTypeError\u001b[0m: 'tuple' object does not support item assignment"
     ]
    }
   ],
   "source": [
    "x[0]=4"
   ]
  },
  {
   "cell_type": "code",
   "execution_count": 5,
   "id": "e780c88e-ee17-4066-822d-fe1d21139694",
   "metadata": {},
   "outputs": [
    {
     "data": {
      "text/plain": [
       "['a', 'b']"
      ]
     },
     "execution_count": 5,
     "metadata": {},
     "output_type": "execute_result"
    }
   ],
   "source": [
    "#Index\n",
    "x[3]"
   ]
  },
  {
   "cell_type": "code",
   "execution_count": 14,
   "id": "4cd28dbc-bee7-4ee3-82c8-b7e3bd97bdbf",
   "metadata": {},
   "outputs": [
    {
     "data": {
      "text/plain": [
       "(1, 'a', 3.1416)"
      ]
     },
     "execution_count": 14,
     "metadata": {},
     "output_type": "execute_result"
    }
   ],
   "source": [
    "#Unpacking sequence\n",
    "t=1,'a', 3.1416\n",
    "t"
   ]
  },
  {
   "cell_type": "code",
   "execution_count": 16,
   "id": "3ad6a794-b280-4152-ac50-815a7480473f",
   "metadata": {},
   "outputs": [],
   "source": [
    "x, y, z = t"
   ]
  },
  {
   "cell_type": "code",
   "execution_count": 10,
   "id": "18d4dcad-da1b-42e5-8d19-4c7b9510a442",
   "metadata": {},
   "outputs": [
    {
     "name": "stdout",
     "output_type": "stream",
     "text": [
      "1\n",
      "a\n",
      "3.1416\n"
     ]
    }
   ],
   "source": [
    "print(x)\n",
    "print(y)\n",
    "print(z)"
   ]
  },
  {
   "cell_type": "code",
   "execution_count": 13,
   "id": "9e2d23d9-51fb-4876-9804-c0e2a534830d",
   "metadata": {},
   "outputs": [
    {
     "data": {
      "text/plain": [
       "float"
      ]
     },
     "execution_count": 13,
     "metadata": {},
     "output_type": "execute_result"
    }
   ],
   "source": [
    "type(z)"
   ]
  },
  {
   "cell_type": "markdown",
   "id": "8ded53f0-b211-4770-b737-1210287ad142",
   "metadata": {},
   "source": [
    "## 3. Diccionarios"
   ]
  },
  {
   "cell_type": "code",
   "execution_count": 17,
   "id": "ca4eed3b-00e5-40be-91a3-6314d3f04206",
   "metadata": {},
   "outputs": [],
   "source": [
    "#built form 1\n",
    "d1 = {\n",
    "    \"Nombre\": \"Sara\",\n",
    "    \"Edad\": 27,\n",
    "    \"Documento\": 1003882\n",
    "}"
   ]
  },
  {
   "cell_type": "code",
   "execution_count": 18,
   "id": "e0e897ca-5cb7-4c3c-834f-413ef1e82eb5",
   "metadata": {},
   "outputs": [
    {
     "data": {
      "text/plain": [
       "dict"
      ]
     },
     "execution_count": 18,
     "metadata": {},
     "output_type": "execute_result"
    }
   ],
   "source": [
    "type(d1)"
   ]
  },
  {
   "cell_type": "code",
   "execution_count": 19,
   "id": "c4eb0036-8b0e-4b22-8ad2-1919f95fc2bb",
   "metadata": {},
   "outputs": [
    {
     "data": {
      "text/plain": [
       "{'Nombre': 'Sara', 'Edad': 27, 'Documento': 1003882}"
      ]
     },
     "execution_count": 19,
     "metadata": {},
     "output_type": "execute_result"
    }
   ],
   "source": [
    "d1"
   ]
  },
  {
   "cell_type": "code",
   "execution_count": 20,
   "id": "c8938c76-44c9-4309-a9e6-7a9f8092d155",
   "metadata": {},
   "outputs": [],
   "source": [
    "#built form 2\n",
    "d2 = dict([('Nombre', 'Sara'),('Edad', 27),('Documento', 1003882)])"
   ]
  },
  {
   "cell_type": "code",
   "execution_count": 21,
   "id": "db69e679-dac3-4632-9d4e-c5e3f9d3afd8",
   "metadata": {},
   "outputs": [
    {
     "data": {
      "text/plain": [
       "dict"
      ]
     },
     "execution_count": 21,
     "metadata": {},
     "output_type": "execute_result"
    }
   ],
   "source": [
    "type(d2)"
   ]
  },
  {
   "cell_type": "code",
   "execution_count": 22,
   "id": "90f659ec-6394-4962-baef-073e37dedbe8",
   "metadata": {},
   "outputs": [
    {
     "data": {
      "text/plain": [
       "{'Nombre': 'Sara', 'Edad': 27, 'Documento': 1003882}"
      ]
     },
     "execution_count": 22,
     "metadata": {},
     "output_type": "execute_result"
    }
   ],
   "source": [
    "d2"
   ]
  },
  {
   "cell_type": "code",
   "execution_count": 40,
   "id": "c4ccaaac-7107-446a-8709-a77b5df7ce79",
   "metadata": {},
   "outputs": [],
   "source": [
    "#built form 3\n",
    "d3 = dict(Nombre='Sara', Edad=27, Documento=1003882)"
   ]
  },
  {
   "cell_type": "code",
   "execution_count": 24,
   "id": "c10c3a7a-ef58-45da-b19a-c7bf5ea9f2fd",
   "metadata": {},
   "outputs": [
    {
     "data": {
      "text/plain": [
       "dict"
      ]
     },
     "execution_count": 24,
     "metadata": {},
     "output_type": "execute_result"
    }
   ],
   "source": [
    "type(d3)"
   ]
  },
  {
   "cell_type": "code",
   "execution_count": 41,
   "id": "f50e169a-33fb-4a9c-9520-b2211a27f647",
   "metadata": {},
   "outputs": [
    {
     "data": {
      "text/plain": [
       "{'Nombre': 'Sara', 'Edad': 27, 'Documento': 1003882}"
      ]
     },
     "execution_count": 41,
     "metadata": {},
     "output_type": "execute_result"
    }
   ],
   "source": [
    "d3"
   ]
  },
  {
   "cell_type": "code",
   "execution_count": 42,
   "id": "8d4aa322-f8cd-4164-b0ba-038c3b8c4ddd",
   "metadata": {},
   "outputs": [],
   "source": [
    "d3['Apellidos']={'paterno':'Ramirez', 'materno': 'Lopez'}"
   ]
  },
  {
   "cell_type": "code",
   "execution_count": 43,
   "id": "f05c3fa5-55cf-458f-802c-1c3a131964c6",
   "metadata": {},
   "outputs": [
    {
     "data": {
      "text/plain": [
       "{'Nombre': 'Sara',\n",
       " 'Edad': 27,\n",
       " 'Documento': 1003882,\n",
       " 'Apellidos': {'paterno': 'Ramirez', 'materno': 'Lopez'}}"
      ]
     },
     "execution_count": 43,
     "metadata": {},
     "output_type": "execute_result"
    }
   ],
   "source": [
    "d3"
   ]
  },
  {
   "cell_type": "code",
   "execution_count": 26,
   "id": "6b266f1a-30dc-4ea7-ad37-b5fbad92dd4a",
   "metadata": {},
   "outputs": [
    {
     "data": {
      "text/plain": [
       "'Sara'"
      ]
     },
     "execution_count": 26,
     "metadata": {},
     "output_type": "execute_result"
    }
   ],
   "source": [
    "# Access to elements\n",
    "d1['Nombre']"
   ]
  },
  {
   "cell_type": "code",
   "execution_count": 27,
   "id": "5557c11f-c983-4c86-85a2-40b37fa8c1dc",
   "metadata": {},
   "outputs": [
    {
     "data": {
      "text/plain": [
       "27"
      ]
     },
     "execution_count": 27,
     "metadata": {},
     "output_type": "execute_result"
    }
   ],
   "source": [
    "d2.get('Edad')"
   ]
  },
  {
   "cell_type": "code",
   "execution_count": 28,
   "id": "f0c58df8-2fbf-4c56-abb3-81e020f8f2cf",
   "metadata": {},
   "outputs": [
    {
     "data": {
      "text/plain": [
       "{'Nombre': 'Mario', 'Edad': 27, 'Documento': 1003882}"
      ]
     },
     "execution_count": 28,
     "metadata": {},
     "output_type": "execute_result"
    }
   ],
   "source": [
    "# Modifying content\n",
    "d3['Nombre']='Mario'\n",
    "d3"
   ]
  },
  {
   "cell_type": "code",
   "execution_count": 29,
   "id": "1204c218-92cf-4224-953b-902f355d3c81",
   "metadata": {},
   "outputs": [],
   "source": [
    "# Dictionary into dictionary\n",
    "d1['Nacionalidad']={'Pais':'Peru', 'Codigo_postal': 13007}"
   ]
  },
  {
   "cell_type": "code",
   "execution_count": 30,
   "id": "f784987f-34a4-4ef3-b7e4-2ce42f06baf4",
   "metadata": {},
   "outputs": [
    {
     "data": {
      "text/plain": [
       "{'Nombre': 'Sara',\n",
       " 'Edad': 27,\n",
       " 'Documento': 1003882,\n",
       " 'Nacionalidad': {'Pais': 'Peru', 'Codigo_postal': 13007}}"
      ]
     },
     "execution_count": 30,
     "metadata": {},
     "output_type": "execute_result"
    }
   ],
   "source": [
    "d1"
   ]
  },
  {
   "cell_type": "code",
   "execution_count": 31,
   "id": "c6afca87-e34a-4f3b-b469-ca44ced8964f",
   "metadata": {},
   "outputs": [
    {
     "data": {
      "text/plain": [
       "dict_items([('Nombre', 'Mario'), ('Edad', 27), ('Documento', 1003882)])"
      ]
     },
     "execution_count": 31,
     "metadata": {},
     "output_type": "execute_result"
    }
   ],
   "source": [
    "# Items\n",
    "d3.items()"
   ]
  },
  {
   "cell_type": "code",
   "execution_count": 33,
   "id": "696275bf-1c89-4e49-baab-4787e7773261",
   "metadata": {},
   "outputs": [
    {
     "data": {
      "text/plain": [
       "dict_keys(['Nombre', 'Edad', 'Documento'])"
      ]
     },
     "execution_count": 33,
     "metadata": {},
     "output_type": "execute_result"
    }
   ],
   "source": [
    "# Keys\n",
    "d3.keys()"
   ]
  },
  {
   "cell_type": "code",
   "execution_count": 34,
   "id": "c6daebd4-e2d5-4da7-b0bf-c72269c99df8",
   "metadata": {},
   "outputs": [
    {
     "data": {
      "text/plain": [
       "dict_values(['Sara', 27, 1003882])"
      ]
     },
     "execution_count": 34,
     "metadata": {},
     "output_type": "execute_result"
    }
   ],
   "source": [
    "# Values\n",
    "d2.values()"
   ]
  },
  {
   "cell_type": "code",
   "execution_count": 35,
   "id": "1fe998ec-9ce3-4a26-93df-969e14a23b11",
   "metadata": {},
   "outputs": [
    {
     "data": {
      "text/plain": [
       "{'Nombre': 'Sara',\n",
       " 'Documento': 1003882,\n",
       " 'Nacionalidad': {'Pais': 'Peru', 'Codigo_postal': 13007}}"
      ]
     },
     "execution_count": 35,
     "metadata": {},
     "output_type": "execute_result"
    }
   ],
   "source": [
    "# Pop\n",
    "d1.pop('Edad')\n",
    "d1"
   ]
  },
  {
   "cell_type": "code",
   "execution_count": 36,
   "id": "d52ef2e9-5324-4920-90bc-db28169fc312",
   "metadata": {},
   "outputs": [
    {
     "data": {
      "text/plain": [
       "{'Nombre': 'Sara', 'Edad': 27}"
      ]
     },
     "execution_count": 36,
     "metadata": {},
     "output_type": "execute_result"
    }
   ],
   "source": [
    "d2.popitem()\n",
    "d2"
   ]
  },
  {
   "cell_type": "code",
   "execution_count": 39,
   "id": "0e71a913-98c9-4187-b327-d7f268bc126c",
   "metadata": {},
   "outputs": [
    {
     "data": {
      "text/plain": [
       "{'Nombre': 'Mario',\n",
       " 'Documento': 1003882,\n",
       " 'Nacionalidad': {'Pais': 'Peru', 'Codigo_postal': 13007},\n",
       " 'Edad': 27}"
      ]
     },
     "execution_count": 39,
     "metadata": {},
     "output_type": "execute_result"
    }
   ],
   "source": [
    "# Update\n",
    "d1.update(d3)\n",
    "d1"
   ]
  },
  {
   "cell_type": "code",
   "execution_count": 37,
   "id": "c2799920-1845-427e-8400-d01ab8506f38",
   "metadata": {},
   "outputs": [
    {
     "data": {
      "text/plain": [
       "{'Nombre': 'Sara',\n",
       " 'Documento': 1003882,\n",
       " 'Nacionalidad': {'Pais': 'Peru', 'Codigo_postal': 13007}}"
      ]
     },
     "execution_count": 37,
     "metadata": {},
     "output_type": "execute_result"
    }
   ],
   "source": [
    "d1"
   ]
  },
  {
   "cell_type": "code",
   "execution_count": 38,
   "id": "ea59f569-9034-49ce-80b3-da150304d737",
   "metadata": {},
   "outputs": [
    {
     "data": {
      "text/plain": [
       "{'Nombre': 'Mario', 'Edad': 27, 'Documento': 1003882}"
      ]
     },
     "execution_count": 38,
     "metadata": {},
     "output_type": "execute_result"
    }
   ],
   "source": [
    "d3"
   ]
  },
  {
   "cell_type": "markdown",
   "id": "90d297d4-f90d-4a44-a687-8f3b7774bb86",
   "metadata": {},
   "source": [
    "## 4. Conjuntos"
   ]
  },
  {
   "cell_type": "code",
   "execution_count": 52,
   "id": "5fd49140-5beb-42cc-984f-8142357e45ea",
   "metadata": {},
   "outputs": [
    {
     "data": {
      "text/plain": [
       "{'Ana', 'Carlos', 'Mario'}"
      ]
     },
     "execution_count": 52,
     "metadata": {},
     "output_type": "execute_result"
    }
   ],
   "source": [
    "# Declare form 1\n",
    "group_a = set(['Ana', 'Ana', 'Carlos', 'Mario'])\n",
    "group_a"
   ]
  },
  {
   "cell_type": "code",
   "execution_count": 53,
   "id": "b7bb642c-df7a-4aa5-b99f-93dfc5860c4c",
   "metadata": {},
   "outputs": [
    {
     "data": {
      "text/plain": [
       "{'Ana', 'Antonio', 'Carlos', 'Pedro'}"
      ]
     },
     "execution_count": 53,
     "metadata": {},
     "output_type": "execute_result"
    }
   ],
   "source": [
    "# Declare form 2\n",
    "group_b = {'Ana', 'Pedro', 'Carlos', 'Antonio'}\n",
    "group_b"
   ]
  },
  {
   "cell_type": "code",
   "execution_count": 54,
   "id": "a47bc0f7-d533-49e9-8f64-5165102dd704",
   "metadata": {},
   "outputs": [
    {
     "data": {
      "text/plain": [
       "{'Ana', 'Antonio', 'Marcos', 'Pepe'}"
      ]
     },
     "execution_count": 54,
     "metadata": {},
     "output_type": "execute_result"
    }
   ],
   "source": [
    "group_c = {'Ana', 'Antonio', 'Marcos', 'Pepe'}\n",
    "group_c"
   ]
  },
  {
   "cell_type": "code",
   "execution_count": 55,
   "id": "af18fb0b-8580-4c8b-bdbc-6a7a2ce14370",
   "metadata": {},
   "outputs": [
    {
     "data": {
      "text/plain": [
       "{'Ana', 'Antonio', 'Carlos', 'Marcos', 'Mario', 'Pedro', 'Pepe'}"
      ]
     },
     "execution_count": 55,
     "metadata": {},
     "output_type": "execute_result"
    }
   ],
   "source": [
    "all_students = group_a.union(group_b).union(group_c)\n",
    "all_students"
   ]
  },
  {
   "cell_type": "code",
   "execution_count": 56,
   "id": "972199b2-897d-4750-8b61-48d2d3d14d1c",
   "metadata": {},
   "outputs": [
    {
     "data": {
      "text/plain": [
       "{'Ana', 'Carlos'}"
      ]
     },
     "execution_count": 56,
     "metadata": {},
     "output_type": "execute_result"
    }
   ],
   "source": [
    "a_and_b = group_a.intersection(group_b)\n",
    "a_and_b"
   ]
  },
  {
   "cell_type": "code",
   "execution_count": 57,
   "id": "0c713776-c2b7-4bc0-8b67-f9cb682c6354",
   "metadata": {},
   "outputs": [
    {
     "data": {
      "text/plain": [
       "{'Ana'}"
      ]
     },
     "execution_count": 57,
     "metadata": {},
     "output_type": "execute_result"
    }
   ],
   "source": [
    "a_and_c = group_a.intersection(group_c)\n",
    "a_and_c"
   ]
  },
  {
   "cell_type": "code",
   "execution_count": 58,
   "id": "c64cde0d-7c0f-48c2-b00a-e29f4ea7a05e",
   "metadata": {},
   "outputs": [
    {
     "data": {
      "text/plain": [
       "{'Ana', 'Antonio'}"
      ]
     },
     "execution_count": 58,
     "metadata": {},
     "output_type": "execute_result"
    }
   ],
   "source": [
    "b_and_c = group_b.intersection(group_c)\n",
    "b_and_c"
   ]
  },
  {
   "cell_type": "code",
   "execution_count": 59,
   "id": "f6626e48-0e83-4a2f-b9fc-675e2a4010e9",
   "metadata": {},
   "outputs": [
    {
     "data": {
      "text/plain": [
       "{'Ana'}"
      ]
     },
     "execution_count": 59,
     "metadata": {},
     "output_type": "execute_result"
    }
   ],
   "source": [
    "common_all = group_a.intersection(group_b).intersection(group_c)\n",
    "common_all"
   ]
  },
  {
   "cell_type": "code",
   "execution_count": 60,
   "id": "1cb92e2f-7322-4b98-816b-ec7a8c85adff",
   "metadata": {},
   "outputs": [
    {
     "data": {
      "text/plain": [
       "{1, 2, 3, 4, 5, 6, 7}"
      ]
     },
     "execution_count": 60,
     "metadata": {},
     "output_type": "execute_result"
    }
   ],
   "source": [
    "# Methods\n",
    "{1,2,3,4}.union({5,6,7})"
   ]
  },
  {
   "cell_type": "code",
   "execution_count": 61,
   "id": "f973f0bb-ef54-485c-a7e7-1a5cfddbf2c2",
   "metadata": {},
   "outputs": [
    {
     "data": {
      "text/plain": [
       "{1, 2, 3}"
      ]
     },
     "execution_count": 61,
     "metadata": {},
     "output_type": "execute_result"
    }
   ],
   "source": [
    "{1,2,3,4}.difference({4,5,6,7})"
   ]
  },
  {
   "cell_type": "code",
   "execution_count": 62,
   "id": "8c3c78fc-bd56-4979-84c8-a275adda2607",
   "metadata": {},
   "outputs": [
    {
     "data": {
      "text/plain": [
       "{4}"
      ]
     },
     "execution_count": 62,
     "metadata": {},
     "output_type": "execute_result"
    }
   ],
   "source": [
    "{1,2,3,4}.intersection({4,5,6,7})"
   ]
  },
  {
   "cell_type": "code",
   "execution_count": 64,
   "id": "f6692fc7-e932-4644-adbc-b0ff3a0eb259",
   "metadata": {},
   "outputs": [
    {
     "data": {
      "text/plain": [
       "False"
      ]
     },
     "execution_count": 64,
     "metadata": {},
     "output_type": "execute_result"
    }
   ],
   "source": [
    "{1,2,3,4}.isdisjoint({4,5,6})"
   ]
  },
  {
   "cell_type": "code",
   "execution_count": 66,
   "id": "26eac96d-e298-488f-806b-e4cff24d2e86",
   "metadata": {},
   "outputs": [
    {
     "data": {
      "text/plain": [
       "False"
      ]
     },
     "execution_count": 66,
     "metadata": {},
     "output_type": "execute_result"
    }
   ],
   "source": [
    "{0,3,4}.issubset({1,2,3,4,5})"
   ]
  },
  {
   "cell_type": "code",
   "execution_count": 68,
   "id": "435a2368-3d49-4830-9cc5-37f1830e8b5d",
   "metadata": {},
   "outputs": [
    {
     "data": {
      "text/plain": [
       "False"
      ]
     },
     "execution_count": 68,
     "metadata": {},
     "output_type": "execute_result"
    }
   ],
   "source": [
    "{1,2,3,4,5}.issuperset({0,3,4})"
   ]
  },
  {
   "cell_type": "code",
   "execution_count": 1,
   "id": "9915e6bd-fef8-481f-a143-3c7aa22de70d",
   "metadata": {},
   "outputs": [
    {
     "data": {
      "text/plain": [
       "set"
      ]
     },
     "execution_count": 1,
     "metadata": {},
     "output_type": "execute_result"
    }
   ],
   "source": [
    "a={1,2,3}\n",
    "type(a)"
   ]
  },
  {
   "cell_type": "code",
   "execution_count": 2,
   "id": "94a4dd23-1358-40e5-bdf0-357d09f1ac6d",
   "metadata": {},
   "outputs": [
    {
     "data": {
      "text/plain": [
       "frozenset"
      ]
     },
     "execution_count": 2,
     "metadata": {},
     "output_type": "execute_result"
    }
   ],
   "source": [
    "# Frozenset\n",
    "f=frozenset({1,2,3})\n",
    "type(f)"
   ]
  },
  {
   "cell_type": "markdown",
   "id": "496d9cfd-44de-457c-ab74-e07c52e569bc",
   "metadata": {},
   "source": [
    "# Estructuras de control"
   ]
  },
  {
   "cell_type": "code",
   "execution_count": 5,
   "id": "ff51401d-131b-4e31-b115-2d29cc2784eb",
   "metadata": {},
   "outputs": [
    {
     "name": "stdout",
     "output_type": "stream",
     "text": [
      "a es mayor que b\n"
     ]
    }
   ],
   "source": [
    "# if - elif - else\n",
    "a, b = 56, 30\n",
    "if a > b:\n",
    "    print(\"a es mayor que b\")\n",
    "elif a < b:\n",
    "    print(\"a es menor que b\")\n",
    "else:\n",
    "    print(\"a es igual a b\")"
   ]
  },
  {
   "cell_type": "code",
   "execution_count": 11,
   "id": "ef16b362-8404-49b8-bd5b-c38b32e7abfb",
   "metadata": {},
   "outputs": [
    {
     "name": "stdout",
     "output_type": "stream",
     "text": [
      "x\n",
      "1\n",
      "3.1416\n"
     ]
    }
   ],
   "source": [
    "# for\n",
    "palabra = ('x', 1, 3.1416)\n",
    "for letra in palabra:\n",
    "    print(letra)"
   ]
  },
  {
   "cell_type": "code",
   "execution_count": 7,
   "id": "cfa34472-efe3-4de6-a192-00e10b498d61",
   "metadata": {},
   "outputs": [
    {
     "data": {
      "text/plain": [
       "'y'"
      ]
     },
     "execution_count": 7,
     "metadata": {},
     "output_type": "execute_result"
    }
   ],
   "source": [
    "m=\"Python\"\n",
    "m[1]"
   ]
  },
  {
   "cell_type": "code",
   "execution_count": 12,
   "id": "5ffabddc-5592-41ba-a8a5-0819299958de",
   "metadata": {},
   "outputs": [
    {
     "name": "stdout",
     "output_type": "stream",
     "text": [
      "loop 1\n",
      "loop 2\n",
      "loop 3\n",
      "loop 4\n",
      "loop 5\n",
      "loop 6\n",
      "loop 7\n",
      "loop 8\n",
      "loop 9\n"
     ]
    }
   ],
   "source": [
    "# while\n",
    "x = 1\n",
    "while x < 10:\n",
    "    print('loop ' + str(x))\n",
    "    x +"
   ]
  },
  {
   "cell_type": "code",
   "execution_count": 18,
   "id": "6d62356c-25bd-48e5-8ddf-927f599144b0",
   "metadata": {},
   "outputs": [
    {
     "ename": "TypeError",
     "evalue": "'module' object is not callable. Did you mean: 'random.random(...)'?",
     "output_type": "error",
     "traceback": [
      "\u001b[0;31m---------------------------------------------------------------------------\u001b[0m",
      "\u001b[0;31mTypeError\u001b[0m                                 Traceback (most recent call last)",
      "Cell \u001b[0;32mIn[18], line 1\u001b[0m\n\u001b[0;32m----> 1\u001b[0m n\u001b[38;5;241m=\u001b[39m\u001b[43mrandom\u001b[49m\u001b[43m(\u001b[49m\u001b[38;5;241;43m0\u001b[39;49m\u001b[43m,\u001b[49m\u001b[38;5;241;43m6\u001b[39;49m\u001b[43m)\u001b[49m\n\u001b[1;32m      2\u001b[0m k\u001b[38;5;241m=\u001b[39m\u001b[38;5;241m0\u001b[39m\n\u001b[1;32m      3\u001b[0m \u001b[38;5;28;01mwhile\u001b[39;00m \u001b[38;5;28;01mTrue\u001b[39;00m:\n",
      "\u001b[0;31mTypeError\u001b[0m: 'module' object is not callable. Did you mean: 'random.random(...)'?"
     ]
    }
   ],
   "source": [
    "\n",
    "n=4\n",
    "k=0\n",
    "while True:\n",
    "    x = int( input(\"Ingrese un entero entre 1 y 10: \") )\n",
    "    if x == n:\n",
    "        print(f\"Has adivinado después de {k} intentos fallidos\")\n",
    "        break\n",
    "    else:\n",
    "        print(f\"{x} no es el número, intenta nuevamente\\n\")\n",
    "    k += 1"
   ]
  },
  {
   "cell_type": "code",
   "execution_count": 19,
   "id": "5a22f9b3-695c-4dee-bad1-7d40cdd0a328",
   "metadata": {},
   "outputs": [
    {
     "name": "stdin",
     "output_type": "stream",
     "text": [
      "Ingrese un número entero:  4\n",
      "Ingrese otro número entero:  0\n"
     ]
    },
    {
     "name": "stdout",
     "output_type": "stream",
     "text": [
      "a/b = Estás intentando dividir por cero\n"
     ]
    }
   ],
   "source": [
    "# try - except\n",
    "a = int(input('Ingrese un número entero: '))\n",
    "b = int(input('Ingrese otro número entero: '))\n",
    "\n",
    "try:\n",
    "    c = a / b    \n",
    "except ZeroDivisionError:\n",
    "    c = 'Estás intentando dividir por cero'\n",
    "finally:\n",
    "    print('a/b = '+str(c))"
   ]
  },
  {
   "cell_type": "markdown",
   "id": "e5e18195-6f28-4b98-ab8b-d0664e9c56b8",
   "metadata": {},
   "source": [
    "# Ejercicios propuestos"
   ]
  },
  {
   "cell_type": "markdown",
   "id": "8a06b02d-a8ba-4350-97ef-1409bea9d9d8",
   "metadata": {},
   "source": [
    "### 1. Imprimir por pantalla la siguiente matriz identidad 3x3, utilizado bucles **for**\n",
    "\\begin{equation}\n",
    "    \\begin{pmatrix}\n",
    "        1 & 0 & 0\\\\\n",
    "        0 & 1 & 0\\\\\n",
    "        0 & 0 & 1\n",
    "    \\end{pmatrix}\n",
    "\\end{equation}"
   ]
  },
  {
   "cell_type": "markdown",
   "id": "3e74508f-f12a-475d-928b-c7b3b9766b9b",
   "metadata": {},
   "source": [
    "### 2. Escribir un programa que pida al usuario un número entero y muestre por pantalla si es un número primo o no."
   ]
  },
  {
   "cell_type": "markdown",
   "id": "288a2b3c-f9c8-42a0-b20b-95d16e4a6bfc",
   "metadata": {},
   "source": [
    "### 3. Escribe un programa que pregunte al usuario su edad e imprima por pantalla su categoria (niño: entre 0 a 12, adolescente: entre 13 y 17, joven: entre 18 y 25, adulto: entre 26 y 60 y adulto-mayor: mayor a 61)"
   ]
  }
 ],
 "metadata": {
  "kernelspec": {
   "display_name": "Python 3 (ipykernel)",
   "language": "python",
   "name": "python3"
  },
  "language_info": {
   "codemirror_mode": {
    "name": "ipython",
    "version": 3
   },
   "file_extension": ".py",
   "mimetype": "text/x-python",
   "name": "python",
   "nbconvert_exporter": "python",
   "pygments_lexer": "ipython3",
   "version": "3.12.5"
  }
 },
 "nbformat": 4,
 "nbformat_minor": 5
}
